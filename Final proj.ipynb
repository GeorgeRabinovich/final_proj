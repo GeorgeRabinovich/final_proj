{
 "cells": [
  {
   "cell_type": "markdown",
   "id": "27233431",
   "metadata": {},
   "source": [
    "# Final Project Research. Product Analysis."
   ]
  },
  {
   "cell_type": "markdown",
   "id": "eb1e8d0d",
   "metadata": {},
   "source": [
    "# Introduction"
   ]
  },
  {
   "cell_type": "markdown",
   "id": "074e9eaf",
   "metadata": {},
   "source": [
    "**Project Overview** \n",
    "\n",
    "As a junior analyst at TTWC Consulting Agency, I am conducting a sales audit for AtliQ Hardware, a leading computer hardware producer in India. This project aims to provide insights into product performance and automate their sales data processes.\n",
    "\n",
    "**Objectives**\n",
    "\n",
    "1. Product Analysis:\n",
    "\n",
    "* Identify bestsellers.\n",
    "* Suggest improvements for sales.\n",
    "* Analyze changes in product popularity over time and across markets.\n",
    "\n",
    "2. **Discount Strategy Optimization:**\n",
    "\n",
    "* Conduct A/B testing with current (control group) and adjusted (test group) discount levels.\n",
    "* Determine the optimal discount level to maximize sales without sacrificing profitability.\n",
    "\n",
    "**Methodology**\n",
    "\n",
    "1. Data Analysis Using SQL:\n",
    "\n",
    "* Extract and analyze sales data to identify trends and bestsellers.\n",
    "\n",
    "2. A/B Testing:\n",
    "\n",
    "* Compare the impact of different discount levels on sales quantity and revenue.\n",
    "* Use statistical analysis to determine the significance of the results.\n",
    "\n",
    "**Tools** \n",
    "\n",
    "* Jupyter Notebook: For organizing and executing SQL queries.\n",
    "* SQL: For data extraction and analysis.\n",
    "\n",
    "**Expected Outcomes** \n",
    "\n",
    "* AtliQ Hardware will gain insights into product performance and an optimized discount strategy to enhance sales and profitability.\n",
    "\n",
    "\n",
    "\n",
    "\n",
    "\n",
    "\n",
    "\n"
   ]
  },
  {
   "cell_type": "markdown",
   "id": "8ebbf226",
   "metadata": {},
   "source": [
    "## Data Preprocessing "
   ]
  },
  {
   "cell_type": "code",
   "execution_count": 3,
   "id": "42491571",
   "metadata": {},
   "outputs": [],
   "source": [
    "import sqlite3\n",
    "import pandas as pd\n",
    "import matplotlib.pyplot as plt\n",
    "import seaborn as sns\n",
    "import scipy.stats as stats\n",
    "import numpy as np\n",
    "from scipy import stats as st\n",
    "import warnings\n",
    "import math\n",
    "from statsmodels.stats.proportion import proportions_ztest"
   ]
  },
  {
   "cell_type": "code",
   "execution_count": 4,
   "id": "75c53810",
   "metadata": {},
   "outputs": [],
   "source": [
    "# connect to the database\n",
    "con = sqlite3.connect('atliq_db.sqlite3')"
   ]
  },
  {
   "cell_type": "code",
   "execution_count": 5,
   "id": "8e2858e2",
   "metadata": {},
   "outputs": [
    {
     "name": "stdout",
     "output_type": "stream",
     "text": [
      "[('dim_customer',), ('dim_product',), ('fact_pre_discount',), ('fact_manufacturing_cost',), ('fact_gross_price',), ('fact_sales_monthly',)]\n"
     ]
    }
   ],
   "source": [
    "# check all tables in the database\n",
    "cursor = con.cursor()\n",
    "cursor.execute(\"SELECT name FROM sqlite_master WHERE type='table';\")\n",
    "print(cursor.fetchall())"
   ]
  },
  {
   "cell_type": "markdown",
   "id": "3b164cce",
   "metadata": {},
   "source": [
    "### dim_customer dataset "
   ]
  },
  {
   "cell_type": "code",
   "execution_count": 6,
   "id": "40f9803f",
   "metadata": {
    "scrolled": false
   },
   "outputs": [
    {
     "data": {
      "text/html": [
       "<div>\n",
       "<style scoped>\n",
       "    .dataframe tbody tr th:only-of-type {\n",
       "        vertical-align: middle;\n",
       "    }\n",
       "\n",
       "    .dataframe tbody tr th {\n",
       "        vertical-align: top;\n",
       "    }\n",
       "\n",
       "    .dataframe thead th {\n",
       "        text-align: right;\n",
       "    }\n",
       "</style>\n",
       "<table border=\"1\" class=\"dataframe\">\n",
       "  <thead>\n",
       "    <tr style=\"text-align: right;\">\n",
       "      <th></th>\n",
       "      <th>customer_code</th>\n",
       "      <th>customer</th>\n",
       "      <th>platform</th>\n",
       "      <th>channel</th>\n",
       "      <th>market</th>\n",
       "      <th>sub_zone</th>\n",
       "      <th>region</th>\n",
       "    </tr>\n",
       "  </thead>\n",
       "  <tbody>\n",
       "    <tr>\n",
       "      <th>0</th>\n",
       "      <td>70002017</td>\n",
       "      <td>Atliq Exclusive</td>\n",
       "      <td>Brick &amp; Mortar</td>\n",
       "      <td>Direct</td>\n",
       "      <td>India</td>\n",
       "      <td>India</td>\n",
       "      <td>APAC</td>\n",
       "    </tr>\n",
       "    <tr>\n",
       "      <th>1</th>\n",
       "      <td>70002018</td>\n",
       "      <td>Atliq e Store</td>\n",
       "      <td>E-Commerce</td>\n",
       "      <td>Direct</td>\n",
       "      <td>India</td>\n",
       "      <td>India</td>\n",
       "      <td>APAC</td>\n",
       "    </tr>\n",
       "    <tr>\n",
       "      <th>2</th>\n",
       "      <td>70003181</td>\n",
       "      <td>Atliq Exclusive</td>\n",
       "      <td>Brick &amp; Mortar</td>\n",
       "      <td>Direct</td>\n",
       "      <td>Indonesia</td>\n",
       "      <td>ROA</td>\n",
       "      <td>APAC</td>\n",
       "    </tr>\n",
       "    <tr>\n",
       "      <th>3</th>\n",
       "      <td>70003182</td>\n",
       "      <td>Atliq e Store</td>\n",
       "      <td>E-Commerce</td>\n",
       "      <td>Direct</td>\n",
       "      <td>Indonesia</td>\n",
       "      <td>ROA</td>\n",
       "      <td>APAC</td>\n",
       "    </tr>\n",
       "    <tr>\n",
       "      <th>4</th>\n",
       "      <td>70004069</td>\n",
       "      <td>Atliq Exclusive</td>\n",
       "      <td>Brick &amp; Mortar</td>\n",
       "      <td>Direct</td>\n",
       "      <td>Japan</td>\n",
       "      <td>ROA</td>\n",
       "      <td>APAC</td>\n",
       "    </tr>\n",
       "  </tbody>\n",
       "</table>\n",
       "</div>"
      ],
      "text/plain": [
       "   customer_code         customer        platform channel     market sub_zone  \\\n",
       "0       70002017  Atliq Exclusive  Brick & Mortar  Direct      India    India   \n",
       "1       70002018    Atliq e Store      E-Commerce  Direct      India    India   \n",
       "2       70003181  Atliq Exclusive  Brick & Mortar  Direct  Indonesia      ROA   \n",
       "3       70003182    Atliq e Store      E-Commerce  Direct  Indonesia      ROA   \n",
       "4       70004069  Atliq Exclusive  Brick & Mortar  Direct      Japan      ROA   \n",
       "\n",
       "  region  \n",
       "0   APAC  \n",
       "1   APAC  \n",
       "2   APAC  \n",
       "3   APAC  \n",
       "4   APAC  "
      ]
     },
     "execution_count": 6,
     "metadata": {},
     "output_type": "execute_result"
    }
   ],
   "source": [
    "query_1=\"\"\"Select * from \n",
    "dim_customer\n",
    "\"\"\"\n",
    "dim_customer=pd.read_sql_query(query_1, con)\n",
    "dim_customer.head()"
   ]
  },
  {
   "cell_type": "code",
   "execution_count": 7,
   "id": "542e0aeb",
   "metadata": {},
   "outputs": [
    {
     "data": {
      "text/html": [
       "<div>\n",
       "<style scoped>\n",
       "    .dataframe tbody tr th:only-of-type {\n",
       "        vertical-align: middle;\n",
       "    }\n",
       "\n",
       "    .dataframe tbody tr th {\n",
       "        vertical-align: top;\n",
       "    }\n",
       "\n",
       "    .dataframe thead th {\n",
       "        text-align: right;\n",
       "    }\n",
       "</style>\n",
       "<table border=\"1\" class=\"dataframe\">\n",
       "  <thead>\n",
       "    <tr style=\"text-align: right;\">\n",
       "      <th></th>\n",
       "      <th>COUNT(*)</th>\n",
       "    </tr>\n",
       "  </thead>\n",
       "  <tbody>\n",
       "    <tr>\n",
       "      <th>0</th>\n",
       "      <td>0</td>\n",
       "    </tr>\n",
       "  </tbody>\n",
       "</table>\n",
       "</div>"
      ],
      "text/plain": [
       "   COUNT(*)\n",
       "0         0"
      ]
     },
     "execution_count": 7,
     "metadata": {},
     "output_type": "execute_result"
    }
   ],
   "source": [
    "miss_qry1 = \"\"\"\n",
    "SELECT COUNT(*) FROM \n",
    "dim_customer\n",
    "WHERE \n",
    "customer_code IS NULL OR customer IS NULL OR platform IS NULL OR channel IS NULL OR market IS NULL OR sub_zone IS NULL OR region IS NULL\"\"\"\n",
    "\n",
    "miss_val1 = pd.read_sql_query(miss_qry1, con)\n",
    "miss_val1"
   ]
  },
  {
   "cell_type": "code",
   "execution_count": 8,
   "id": "a70a1d07",
   "metadata": {},
   "outputs": [
    {
     "data": {
      "text/html": [
       "<div>\n",
       "<style scoped>\n",
       "    .dataframe tbody tr th:only-of-type {\n",
       "        vertical-align: middle;\n",
       "    }\n",
       "\n",
       "    .dataframe tbody tr th {\n",
       "        vertical-align: top;\n",
       "    }\n",
       "\n",
       "    .dataframe thead th {\n",
       "        text-align: right;\n",
       "    }\n",
       "</style>\n",
       "<table border=\"1\" class=\"dataframe\">\n",
       "  <thead>\n",
       "    <tr style=\"text-align: right;\">\n",
       "      <th></th>\n",
       "      <th>customer_code</th>\n",
       "      <th>customer</th>\n",
       "      <th>platform</th>\n",
       "      <th>channel</th>\n",
       "      <th>market</th>\n",
       "      <th>sub_zone</th>\n",
       "      <th>region</th>\n",
       "      <th>COUNT(*)</th>\n",
       "    </tr>\n",
       "  </thead>\n",
       "  <tbody>\n",
       "  </tbody>\n",
       "</table>\n",
       "</div>"
      ],
      "text/plain": [
       "Empty DataFrame\n",
       "Columns: [customer_code, customer, platform, channel, market, sub_zone, region, COUNT(*)]\n",
       "Index: []"
      ]
     },
     "execution_count": 8,
     "metadata": {},
     "output_type": "execute_result"
    }
   ],
   "source": [
    "dup_qry1 = \"\"\"\n",
    "SELECT customer_code, customer, platform, channel, market, sub_zone, region, COUNT(*) FROM \n",
    "dim_customer\n",
    "GROUP BY customer_code, customer, platform, channel, market, sub_zone, region\n",
    "HAVING COUNT (*) > 1\n",
    "\"\"\"\n",
    "\n",
    "dup1 = pd.read_sql_query(dup_qry1, con)\n",
    "dup1"
   ]
  },
  {
   "cell_type": "markdown",
   "id": "f6a97ad8",
   "metadata": {},
   "source": [
    "**There are no missing values or duplicates in dim_customer dataset.**"
   ]
  },
  {
   "cell_type": "markdown",
   "id": "1c678f27",
   "metadata": {},
   "source": [
    "### dim_product dataset "
   ]
  },
  {
   "cell_type": "code",
   "execution_count": 9,
   "id": "1366806f",
   "metadata": {
    "scrolled": true
   },
   "outputs": [
    {
     "data": {
      "text/html": [
       "<div>\n",
       "<style scoped>\n",
       "    .dataframe tbody tr th:only-of-type {\n",
       "        vertical-align: middle;\n",
       "    }\n",
       "\n",
       "    .dataframe tbody tr th {\n",
       "        vertical-align: top;\n",
       "    }\n",
       "\n",
       "    .dataframe thead th {\n",
       "        text-align: right;\n",
       "    }\n",
       "</style>\n",
       "<table border=\"1\" class=\"dataframe\">\n",
       "  <thead>\n",
       "    <tr style=\"text-align: right;\">\n",
       "      <th></th>\n",
       "      <th>product_code</th>\n",
       "      <th>division</th>\n",
       "      <th>segment</th>\n",
       "      <th>category</th>\n",
       "      <th>product</th>\n",
       "      <th>variant</th>\n",
       "    </tr>\n",
       "  </thead>\n",
       "  <tbody>\n",
       "    <tr>\n",
       "      <th>0</th>\n",
       "      <td>A0118150101</td>\n",
       "      <td>P &amp; A</td>\n",
       "      <td>Peripherals</td>\n",
       "      <td>Internal HDD</td>\n",
       "      <td>AQ Dracula HDD – 3.5 Inch SATA 6 Gb/s 5400 RPM...</td>\n",
       "      <td>Standard</td>\n",
       "    </tr>\n",
       "    <tr>\n",
       "      <th>1</th>\n",
       "      <td>A0118150102</td>\n",
       "      <td>P &amp; A</td>\n",
       "      <td>Peripherals</td>\n",
       "      <td>Internal HDD</td>\n",
       "      <td>AQ Dracula HDD – 3.5 Inch SATA 6 Gb/s 5400 RPM...</td>\n",
       "      <td>Plus</td>\n",
       "    </tr>\n",
       "    <tr>\n",
       "      <th>2</th>\n",
       "      <td>A0118150103</td>\n",
       "      <td>P &amp; A</td>\n",
       "      <td>Peripherals</td>\n",
       "      <td>Internal HDD</td>\n",
       "      <td>AQ Dracula HDD – 3.5 Inch SATA 6 Gb/s 5400 RPM...</td>\n",
       "      <td>Premium</td>\n",
       "    </tr>\n",
       "    <tr>\n",
       "      <th>3</th>\n",
       "      <td>A0118150104</td>\n",
       "      <td>P &amp; A</td>\n",
       "      <td>Peripherals</td>\n",
       "      <td>Internal HDD</td>\n",
       "      <td>AQ Dracula HDD – 3.5 Inch SATA 6 Gb/s 5400 RPM...</td>\n",
       "      <td>Premium Plus</td>\n",
       "    </tr>\n",
       "    <tr>\n",
       "      <th>4</th>\n",
       "      <td>A0219150201</td>\n",
       "      <td>P &amp; A</td>\n",
       "      <td>Peripherals</td>\n",
       "      <td>Internal HDD</td>\n",
       "      <td>AQ WereWolf NAS Internal Hard Drive HDD – 8.89 cm</td>\n",
       "      <td>Standard</td>\n",
       "    </tr>\n",
       "  </tbody>\n",
       "</table>\n",
       "</div>"
      ],
      "text/plain": [
       "  product_code division      segment      category  \\\n",
       "0  A0118150101    P & A  Peripherals  Internal HDD   \n",
       "1  A0118150102    P & A  Peripherals  Internal HDD   \n",
       "2  A0118150103    P & A  Peripherals  Internal HDD   \n",
       "3  A0118150104    P & A  Peripherals  Internal HDD   \n",
       "4  A0219150201    P & A  Peripherals  Internal HDD   \n",
       "\n",
       "                                             product       variant  \n",
       "0  AQ Dracula HDD – 3.5 Inch SATA 6 Gb/s 5400 RPM...      Standard  \n",
       "1  AQ Dracula HDD – 3.5 Inch SATA 6 Gb/s 5400 RPM...          Plus  \n",
       "2  AQ Dracula HDD – 3.5 Inch SATA 6 Gb/s 5400 RPM...       Premium  \n",
       "3  AQ Dracula HDD – 3.5 Inch SATA 6 Gb/s 5400 RPM...  Premium Plus  \n",
       "4  AQ WereWolf NAS Internal Hard Drive HDD – 8.89 cm      Standard  "
      ]
     },
     "execution_count": 9,
     "metadata": {},
     "output_type": "execute_result"
    }
   ],
   "source": [
    "query_2= \"\"\"Select * from \n",
    "dim_product\n",
    "\"\"\"\n",
    "dim_product = pd.read_sql_query(query_2, con)\n",
    "dim_product.head()"
   ]
  },
  {
   "cell_type": "code",
   "execution_count": 10,
   "id": "b2d87921",
   "metadata": {},
   "outputs": [
    {
     "data": {
      "text/html": [
       "<div>\n",
       "<style scoped>\n",
       "    .dataframe tbody tr th:only-of-type {\n",
       "        vertical-align: middle;\n",
       "    }\n",
       "\n",
       "    .dataframe tbody tr th {\n",
       "        vertical-align: top;\n",
       "    }\n",
       "\n",
       "    .dataframe thead th {\n",
       "        text-align: right;\n",
       "    }\n",
       "</style>\n",
       "<table border=\"1\" class=\"dataframe\">\n",
       "  <thead>\n",
       "    <tr style=\"text-align: right;\">\n",
       "      <th></th>\n",
       "      <th>COUNT(*)</th>\n",
       "    </tr>\n",
       "  </thead>\n",
       "  <tbody>\n",
       "    <tr>\n",
       "      <th>0</th>\n",
       "      <td>0</td>\n",
       "    </tr>\n",
       "  </tbody>\n",
       "</table>\n",
       "</div>"
      ],
      "text/plain": [
       "   COUNT(*)\n",
       "0         0"
      ]
     },
     "execution_count": 10,
     "metadata": {},
     "output_type": "execute_result"
    }
   ],
   "source": [
    "miss_qry2 = \"\"\"\n",
    "SELECT COUNT(*) FROM \n",
    "dim_product\n",
    "WHERE \n",
    "product_code IS NULL OR division IS NULL OR segment IS NULL OR category IS NULL OR product IS NULL OR variant IS NULL\"\"\"\n",
    "\n",
    "miss_val2 = pd.read_sql_query(miss_qry2, con)\n",
    "miss_val2"
   ]
  },
  {
   "cell_type": "code",
   "execution_count": 11,
   "id": "5eaebb65",
   "metadata": {},
   "outputs": [
    {
     "data": {
      "text/html": [
       "<div>\n",
       "<style scoped>\n",
       "    .dataframe tbody tr th:only-of-type {\n",
       "        vertical-align: middle;\n",
       "    }\n",
       "\n",
       "    .dataframe tbody tr th {\n",
       "        vertical-align: top;\n",
       "    }\n",
       "\n",
       "    .dataframe thead th {\n",
       "        text-align: right;\n",
       "    }\n",
       "</style>\n",
       "<table border=\"1\" class=\"dataframe\">\n",
       "  <thead>\n",
       "    <tr style=\"text-align: right;\">\n",
       "      <th></th>\n",
       "      <th>product_code</th>\n",
       "      <th>division</th>\n",
       "      <th>segment</th>\n",
       "      <th>category</th>\n",
       "      <th>product</th>\n",
       "      <th>variant</th>\n",
       "      <th>COUNT(*)</th>\n",
       "    </tr>\n",
       "  </thead>\n",
       "  <tbody>\n",
       "  </tbody>\n",
       "</table>\n",
       "</div>"
      ],
      "text/plain": [
       "Empty DataFrame\n",
       "Columns: [product_code, division, segment, category, product, variant, COUNT(*)]\n",
       "Index: []"
      ]
     },
     "execution_count": 11,
     "metadata": {},
     "output_type": "execute_result"
    }
   ],
   "source": [
    "dup_qry2 = \"\"\"\n",
    "SELECT product_code, division, segment, category, product, variant, COUNT(*) FROM \n",
    "dim_product\n",
    "GROUP BY product_code, division, segment, category, product, variant\n",
    "HAVING COUNT (*) > 1\n",
    "\"\"\"\n",
    "\n",
    "dup2 = pd.read_sql_query(dup_qry2, con)\n",
    "dup2"
   ]
  },
  {
   "cell_type": "markdown",
   "id": "374c4f2b",
   "metadata": {},
   "source": [
    "**There are no missing values or duplicates in dim_customer dataset.**"
   ]
  },
  {
   "cell_type": "markdown",
   "id": "b8974148",
   "metadata": {},
   "source": [
    "### fact_pre_discount dataset "
   ]
  },
  {
   "cell_type": "code",
   "execution_count": 12,
   "id": "4cd65fcd",
   "metadata": {
    "scrolled": true
   },
   "outputs": [
    {
     "data": {
      "text/html": [
       "<div>\n",
       "<style scoped>\n",
       "    .dataframe tbody tr th:only-of-type {\n",
       "        vertical-align: middle;\n",
       "    }\n",
       "\n",
       "    .dataframe tbody tr th {\n",
       "        vertical-align: top;\n",
       "    }\n",
       "\n",
       "    .dataframe thead th {\n",
       "        text-align: right;\n",
       "    }\n",
       "</style>\n",
       "<table border=\"1\" class=\"dataframe\">\n",
       "  <thead>\n",
       "    <tr style=\"text-align: right;\">\n",
       "      <th></th>\n",
       "      <th>customer_code</th>\n",
       "      <th>fiscal_year</th>\n",
       "      <th>pre_invoice_discount_pct</th>\n",
       "    </tr>\n",
       "  </thead>\n",
       "  <tbody>\n",
       "    <tr>\n",
       "      <th>0</th>\n",
       "      <td>70002017</td>\n",
       "      <td>2018</td>\n",
       "      <td>0.0824</td>\n",
       "    </tr>\n",
       "    <tr>\n",
       "      <th>1</th>\n",
       "      <td>70002017</td>\n",
       "      <td>2019</td>\n",
       "      <td>0.0777</td>\n",
       "    </tr>\n",
       "    <tr>\n",
       "      <th>2</th>\n",
       "      <td>70002017</td>\n",
       "      <td>2020</td>\n",
       "      <td>0.0735</td>\n",
       "    </tr>\n",
       "    <tr>\n",
       "      <th>3</th>\n",
       "      <td>70002017</td>\n",
       "      <td>2021</td>\n",
       "      <td>0.0703</td>\n",
       "    </tr>\n",
       "    <tr>\n",
       "      <th>4</th>\n",
       "      <td>70002017</td>\n",
       "      <td>2022</td>\n",
       "      <td>0.1057</td>\n",
       "    </tr>\n",
       "  </tbody>\n",
       "</table>\n",
       "</div>"
      ],
      "text/plain": [
       "   customer_code  fiscal_year  pre_invoice_discount_pct\n",
       "0       70002017         2018                    0.0824\n",
       "1       70002017         2019                    0.0777\n",
       "2       70002017         2020                    0.0735\n",
       "3       70002017         2021                    0.0703\n",
       "4       70002017         2022                    0.1057"
      ]
     },
     "execution_count": 12,
     "metadata": {},
     "output_type": "execute_result"
    }
   ],
   "source": [
    "query_3=\"\"\"Select * from\n",
    "fact_pre_discount\n",
    "\"\"\"\n",
    "fact_pre_discount = pd.read_sql_query(query_3, con)\n",
    "fact_pre_discount.head()"
   ]
  },
  {
   "cell_type": "code",
   "execution_count": 13,
   "id": "4c7c99d9",
   "metadata": {},
   "outputs": [
    {
     "data": {
      "text/html": [
       "<div>\n",
       "<style scoped>\n",
       "    .dataframe tbody tr th:only-of-type {\n",
       "        vertical-align: middle;\n",
       "    }\n",
       "\n",
       "    .dataframe tbody tr th {\n",
       "        vertical-align: top;\n",
       "    }\n",
       "\n",
       "    .dataframe thead th {\n",
       "        text-align: right;\n",
       "    }\n",
       "</style>\n",
       "<table border=\"1\" class=\"dataframe\">\n",
       "  <thead>\n",
       "    <tr style=\"text-align: right;\">\n",
       "      <th></th>\n",
       "      <th>COUNT(*)</th>\n",
       "    </tr>\n",
       "  </thead>\n",
       "  <tbody>\n",
       "    <tr>\n",
       "      <th>0</th>\n",
       "      <td>0</td>\n",
       "    </tr>\n",
       "  </tbody>\n",
       "</table>\n",
       "</div>"
      ],
      "text/plain": [
       "   COUNT(*)\n",
       "0         0"
      ]
     },
     "execution_count": 13,
     "metadata": {},
     "output_type": "execute_result"
    }
   ],
   "source": [
    "miss_qry3 = \"\"\"\n",
    "SELECT COUNT(*) FROM \n",
    "fact_pre_discount\n",
    "WHERE \n",
    "customer_code IS NULL OR fiscal_year IS NULL OR pre_invoice_discount_pct IS NULL\"\"\"\n",
    "\n",
    "miss_val3 = pd.read_sql_query(miss_qry3, con)\n",
    "miss_val3"
   ]
  },
  {
   "cell_type": "code",
   "execution_count": 14,
   "id": "22ed3e34",
   "metadata": {},
   "outputs": [
    {
     "data": {
      "text/html": [
       "<div>\n",
       "<style scoped>\n",
       "    .dataframe tbody tr th:only-of-type {\n",
       "        vertical-align: middle;\n",
       "    }\n",
       "\n",
       "    .dataframe tbody tr th {\n",
       "        vertical-align: top;\n",
       "    }\n",
       "\n",
       "    .dataframe thead th {\n",
       "        text-align: right;\n",
       "    }\n",
       "</style>\n",
       "<table border=\"1\" class=\"dataframe\">\n",
       "  <thead>\n",
       "    <tr style=\"text-align: right;\">\n",
       "      <th></th>\n",
       "      <th>customer_code</th>\n",
       "      <th>fiscal_year</th>\n",
       "      <th>pre_invoice_discount_pct</th>\n",
       "      <th>COUNT(*)</th>\n",
       "    </tr>\n",
       "  </thead>\n",
       "  <tbody>\n",
       "  </tbody>\n",
       "</table>\n",
       "</div>"
      ],
      "text/plain": [
       "Empty DataFrame\n",
       "Columns: [customer_code, fiscal_year, pre_invoice_discount_pct, COUNT(*)]\n",
       "Index: []"
      ]
     },
     "execution_count": 14,
     "metadata": {},
     "output_type": "execute_result"
    }
   ],
   "source": [
    "dup_qry3 = \"\"\"\n",
    "SELECT customer_code, fiscal_year, pre_invoice_discount_pct, COUNT(*) FROM \n",
    "fact_pre_discount\n",
    "GROUP BY customer_code, fiscal_year, pre_invoice_discount_pct\n",
    "HAVING COUNT (*) > 1\n",
    "\"\"\"\n",
    "\n",
    "dup3 = pd.read_sql_query(dup_qry3, con)\n",
    "dup3"
   ]
  },
  {
   "cell_type": "markdown",
   "id": "acbca619",
   "metadata": {},
   "source": [
    "**There are no missing values or duplicates in fact_pre_discount dataset.**"
   ]
  },
  {
   "cell_type": "markdown",
   "id": "96a96b65",
   "metadata": {},
   "source": [
    "### fact_manufacturing_cost dataset "
   ]
  },
  {
   "cell_type": "code",
   "execution_count": 15,
   "id": "b23bd074",
   "metadata": {
    "scrolled": true
   },
   "outputs": [
    {
     "data": {
      "text/html": [
       "<div>\n",
       "<style scoped>\n",
       "    .dataframe tbody tr th:only-of-type {\n",
       "        vertical-align: middle;\n",
       "    }\n",
       "\n",
       "    .dataframe tbody tr th {\n",
       "        vertical-align: top;\n",
       "    }\n",
       "\n",
       "    .dataframe thead th {\n",
       "        text-align: right;\n",
       "    }\n",
       "</style>\n",
       "<table border=\"1\" class=\"dataframe\">\n",
       "  <thead>\n",
       "    <tr style=\"text-align: right;\">\n",
       "      <th></th>\n",
       "      <th>product_code</th>\n",
       "      <th>cost_year</th>\n",
       "      <th>manufacturing_cost</th>\n",
       "    </tr>\n",
       "  </thead>\n",
       "  <tbody>\n",
       "    <tr>\n",
       "      <th>0</th>\n",
       "      <td>A0118150101</td>\n",
       "      <td>2018</td>\n",
       "      <td>4.6190</td>\n",
       "    </tr>\n",
       "    <tr>\n",
       "      <th>1</th>\n",
       "      <td>A0118150101</td>\n",
       "      <td>2019</td>\n",
       "      <td>4.2033</td>\n",
       "    </tr>\n",
       "    <tr>\n",
       "      <th>2</th>\n",
       "      <td>A0118150101</td>\n",
       "      <td>2020</td>\n",
       "      <td>5.0207</td>\n",
       "    </tr>\n",
       "    <tr>\n",
       "      <th>3</th>\n",
       "      <td>A0118150101</td>\n",
       "      <td>2021</td>\n",
       "      <td>5.5172</td>\n",
       "    </tr>\n",
       "    <tr>\n",
       "      <th>4</th>\n",
       "      <td>A0118150102</td>\n",
       "      <td>2018</td>\n",
       "      <td>5.6036</td>\n",
       "    </tr>\n",
       "  </tbody>\n",
       "</table>\n",
       "</div>"
      ],
      "text/plain": [
       "  product_code  cost_year  manufacturing_cost\n",
       "0  A0118150101       2018              4.6190\n",
       "1  A0118150101       2019              4.2033\n",
       "2  A0118150101       2020              5.0207\n",
       "3  A0118150101       2021              5.5172\n",
       "4  A0118150102       2018              5.6036"
      ]
     },
     "execution_count": 15,
     "metadata": {},
     "output_type": "execute_result"
    }
   ],
   "source": [
    "query_4=\"\"\"Select * from\n",
    "fact_manufacturing_cost\n",
    "\"\"\"\n",
    "fact_manufacturing_cost = pd.read_sql_query(query_4, con)\n",
    "fact_manufacturing_cost.head()"
   ]
  },
  {
   "cell_type": "code",
   "execution_count": 16,
   "id": "7950f3f5",
   "metadata": {},
   "outputs": [
    {
     "data": {
      "text/html": [
       "<div>\n",
       "<style scoped>\n",
       "    .dataframe tbody tr th:only-of-type {\n",
       "        vertical-align: middle;\n",
       "    }\n",
       "\n",
       "    .dataframe tbody tr th {\n",
       "        vertical-align: top;\n",
       "    }\n",
       "\n",
       "    .dataframe thead th {\n",
       "        text-align: right;\n",
       "    }\n",
       "</style>\n",
       "<table border=\"1\" class=\"dataframe\">\n",
       "  <thead>\n",
       "    <tr style=\"text-align: right;\">\n",
       "      <th></th>\n",
       "      <th>COUNT(*)</th>\n",
       "    </tr>\n",
       "  </thead>\n",
       "  <tbody>\n",
       "    <tr>\n",
       "      <th>0</th>\n",
       "      <td>0</td>\n",
       "    </tr>\n",
       "  </tbody>\n",
       "</table>\n",
       "</div>"
      ],
      "text/plain": [
       "   COUNT(*)\n",
       "0         0"
      ]
     },
     "execution_count": 16,
     "metadata": {},
     "output_type": "execute_result"
    }
   ],
   "source": [
    "miss_qry4 = \"\"\"\n",
    "SELECT COUNT(*) FROM \n",
    "fact_manufacturing_cost\n",
    "WHERE \n",
    "product_code IS NULL OR cost_year IS NULL OR manufacturing_cost IS NULL\"\"\"\n",
    "\n",
    "miss_val4 = pd.read_sql_query(miss_qry4, con)\n",
    "miss_val4"
   ]
  },
  {
   "cell_type": "code",
   "execution_count": 17,
   "id": "e953986b",
   "metadata": {},
   "outputs": [
    {
     "data": {
      "text/html": [
       "<div>\n",
       "<style scoped>\n",
       "    .dataframe tbody tr th:only-of-type {\n",
       "        vertical-align: middle;\n",
       "    }\n",
       "\n",
       "    .dataframe tbody tr th {\n",
       "        vertical-align: top;\n",
       "    }\n",
       "\n",
       "    .dataframe thead th {\n",
       "        text-align: right;\n",
       "    }\n",
       "</style>\n",
       "<table border=\"1\" class=\"dataframe\">\n",
       "  <thead>\n",
       "    <tr style=\"text-align: right;\">\n",
       "      <th></th>\n",
       "      <th>product_code</th>\n",
       "      <th>cost_year</th>\n",
       "      <th>manufacturing_cost</th>\n",
       "      <th>COUNT(*)</th>\n",
       "    </tr>\n",
       "  </thead>\n",
       "  <tbody>\n",
       "  </tbody>\n",
       "</table>\n",
       "</div>"
      ],
      "text/plain": [
       "Empty DataFrame\n",
       "Columns: [product_code, cost_year, manufacturing_cost, COUNT(*)]\n",
       "Index: []"
      ]
     },
     "execution_count": 17,
     "metadata": {},
     "output_type": "execute_result"
    }
   ],
   "source": [
    "dup_qry4 = \"\"\"\n",
    "SELECT product_code, cost_year, manufacturing_cost, COUNT(*) FROM \n",
    "fact_manufacturing_cost\n",
    "GROUP BY product_code, cost_year, manufacturing_cost\n",
    "HAVING COUNT (*) > 1\n",
    "\"\"\"\n",
    "\n",
    "dup4 = pd.read_sql_query(dup_qry4, con)\n",
    "dup4"
   ]
  },
  {
   "cell_type": "markdown",
   "id": "f7ecd0a3",
   "metadata": {},
   "source": [
    "**There are no missing values or duplicates in fact_manufacturing_cost dataset.**"
   ]
  },
  {
   "cell_type": "markdown",
   "id": "ae8d10fa",
   "metadata": {},
   "source": [
    "### fact_gross_price dataset "
   ]
  },
  {
   "cell_type": "code",
   "execution_count": 18,
   "id": "2d7940d2",
   "metadata": {},
   "outputs": [
    {
     "data": {
      "text/html": [
       "<div>\n",
       "<style scoped>\n",
       "    .dataframe tbody tr th:only-of-type {\n",
       "        vertical-align: middle;\n",
       "    }\n",
       "\n",
       "    .dataframe tbody tr th {\n",
       "        vertical-align: top;\n",
       "    }\n",
       "\n",
       "    .dataframe thead th {\n",
       "        text-align: right;\n",
       "    }\n",
       "</style>\n",
       "<table border=\"1\" class=\"dataframe\">\n",
       "  <thead>\n",
       "    <tr style=\"text-align: right;\">\n",
       "      <th></th>\n",
       "      <th>product_code</th>\n",
       "      <th>fiscal_year</th>\n",
       "      <th>gross_price</th>\n",
       "    </tr>\n",
       "  </thead>\n",
       "  <tbody>\n",
       "    <tr>\n",
       "      <th>0</th>\n",
       "      <td>A0118150101</td>\n",
       "      <td>2018</td>\n",
       "      <td>15.3952</td>\n",
       "    </tr>\n",
       "    <tr>\n",
       "      <th>1</th>\n",
       "      <td>A0118150101</td>\n",
       "      <td>2019</td>\n",
       "      <td>14.4392</td>\n",
       "    </tr>\n",
       "    <tr>\n",
       "      <th>2</th>\n",
       "      <td>A0118150101</td>\n",
       "      <td>2020</td>\n",
       "      <td>16.2323</td>\n",
       "    </tr>\n",
       "    <tr>\n",
       "      <th>3</th>\n",
       "      <td>A0118150101</td>\n",
       "      <td>2021</td>\n",
       "      <td>19.0573</td>\n",
       "    </tr>\n",
       "    <tr>\n",
       "      <th>4</th>\n",
       "      <td>A0118150102</td>\n",
       "      <td>2018</td>\n",
       "      <td>19.5875</td>\n",
       "    </tr>\n",
       "  </tbody>\n",
       "</table>\n",
       "</div>"
      ],
      "text/plain": [
       "  product_code  fiscal_year  gross_price\n",
       "0  A0118150101         2018      15.3952\n",
       "1  A0118150101         2019      14.4392\n",
       "2  A0118150101         2020      16.2323\n",
       "3  A0118150101         2021      19.0573\n",
       "4  A0118150102         2018      19.5875"
      ]
     },
     "execution_count": 18,
     "metadata": {},
     "output_type": "execute_result"
    }
   ],
   "source": [
    "query_5=\"\"\"Select * from\n",
    "fact_gross_price\n",
    "\"\"\"\n",
    "fact_gross_price = pd.read_sql_query(query_5, con)\n",
    "fact_gross_price.head()"
   ]
  },
  {
   "cell_type": "code",
   "execution_count": 19,
   "id": "a7a8cd40",
   "metadata": {},
   "outputs": [
    {
     "data": {
      "text/html": [
       "<div>\n",
       "<style scoped>\n",
       "    .dataframe tbody tr th:only-of-type {\n",
       "        vertical-align: middle;\n",
       "    }\n",
       "\n",
       "    .dataframe tbody tr th {\n",
       "        vertical-align: top;\n",
       "    }\n",
       "\n",
       "    .dataframe thead th {\n",
       "        text-align: right;\n",
       "    }\n",
       "</style>\n",
       "<table border=\"1\" class=\"dataframe\">\n",
       "  <thead>\n",
       "    <tr style=\"text-align: right;\">\n",
       "      <th></th>\n",
       "      <th>COUNT(*)</th>\n",
       "    </tr>\n",
       "  </thead>\n",
       "  <tbody>\n",
       "    <tr>\n",
       "      <th>0</th>\n",
       "      <td>0</td>\n",
       "    </tr>\n",
       "  </tbody>\n",
       "</table>\n",
       "</div>"
      ],
      "text/plain": [
       "   COUNT(*)\n",
       "0         0"
      ]
     },
     "execution_count": 19,
     "metadata": {},
     "output_type": "execute_result"
    }
   ],
   "source": [
    "miss_qry5 = \"\"\"\n",
    "SELECT COUNT(*) FROM \n",
    "fact_gross_price\n",
    "WHERE \n",
    "product_code IS NULL OR fiscal_year IS NULL OR gross_price IS NULL\"\"\"\n",
    "\n",
    "miss_val5 = pd.read_sql_query(miss_qry5, con)\n",
    "miss_val5"
   ]
  },
  {
   "cell_type": "code",
   "execution_count": 20,
   "id": "f1e31ab2",
   "metadata": {},
   "outputs": [
    {
     "data": {
      "text/html": [
       "<div>\n",
       "<style scoped>\n",
       "    .dataframe tbody tr th:only-of-type {\n",
       "        vertical-align: middle;\n",
       "    }\n",
       "\n",
       "    .dataframe tbody tr th {\n",
       "        vertical-align: top;\n",
       "    }\n",
       "\n",
       "    .dataframe thead th {\n",
       "        text-align: right;\n",
       "    }\n",
       "</style>\n",
       "<table border=\"1\" class=\"dataframe\">\n",
       "  <thead>\n",
       "    <tr style=\"text-align: right;\">\n",
       "      <th></th>\n",
       "      <th>product_code</th>\n",
       "      <th>fiscal_year</th>\n",
       "      <th>gross_price</th>\n",
       "      <th>COUNT(*)</th>\n",
       "    </tr>\n",
       "  </thead>\n",
       "  <tbody>\n",
       "  </tbody>\n",
       "</table>\n",
       "</div>"
      ],
      "text/plain": [
       "Empty DataFrame\n",
       "Columns: [product_code, fiscal_year, gross_price, COUNT(*)]\n",
       "Index: []"
      ]
     },
     "execution_count": 20,
     "metadata": {},
     "output_type": "execute_result"
    }
   ],
   "source": [
    "dup_qry5 = \"\"\"\n",
    "SELECT product_code, fiscal_year, gross_price, COUNT(*) FROM \n",
    "fact_gross_price\n",
    "GROUP BY product_code, fiscal_year, gross_price\n",
    "HAVING COUNT (*) > 1\n",
    "\"\"\"\n",
    "\n",
    "dup5 = pd.read_sql_query(dup_qry5, con)\n",
    "dup5"
   ]
  },
  {
   "cell_type": "markdown",
   "id": "f39aecd3",
   "metadata": {},
   "source": [
    "**There are no missing values or duplicates in fact_gross_price dataset.**"
   ]
  },
  {
   "cell_type": "markdown",
   "id": "36443cc0",
   "metadata": {},
   "source": [
    "### fact_sales_monthly dataset "
   ]
  },
  {
   "cell_type": "code",
   "execution_count": 21,
   "id": "b578cefc",
   "metadata": {},
   "outputs": [
    {
     "data": {
      "text/html": [
       "<div>\n",
       "<style scoped>\n",
       "    .dataframe tbody tr th:only-of-type {\n",
       "        vertical-align: middle;\n",
       "    }\n",
       "\n",
       "    .dataframe tbody tr th {\n",
       "        vertical-align: top;\n",
       "    }\n",
       "\n",
       "    .dataframe thead th {\n",
       "        text-align: right;\n",
       "    }\n",
       "</style>\n",
       "<table border=\"1\" class=\"dataframe\">\n",
       "  <thead>\n",
       "    <tr style=\"text-align: right;\">\n",
       "      <th></th>\n",
       "      <th>date</th>\n",
       "      <th>product_code</th>\n",
       "      <th>customer_code</th>\n",
       "      <th>sold_quantity</th>\n",
       "      <th>fiscal_year</th>\n",
       "    </tr>\n",
       "  </thead>\n",
       "  <tbody>\n",
       "    <tr>\n",
       "      <th>0</th>\n",
       "      <td>2017-09-01</td>\n",
       "      <td>A0118150101</td>\n",
       "      <td>70002017.0</td>\n",
       "      <td>51.0</td>\n",
       "      <td>2018.0</td>\n",
       "    </tr>\n",
       "    <tr>\n",
       "      <th>1</th>\n",
       "      <td>2017-09-01</td>\n",
       "      <td>A0118150101</td>\n",
       "      <td>70002018.0</td>\n",
       "      <td>77.0</td>\n",
       "      <td>2018.0</td>\n",
       "    </tr>\n",
       "    <tr>\n",
       "      <th>2</th>\n",
       "      <td>2017-09-01</td>\n",
       "      <td>A0118150101</td>\n",
       "      <td>70003181.0</td>\n",
       "      <td>17.0</td>\n",
       "      <td>2018.0</td>\n",
       "    </tr>\n",
       "    <tr>\n",
       "      <th>3</th>\n",
       "      <td>2017-09-01</td>\n",
       "      <td>A0118150101</td>\n",
       "      <td>70003182.0</td>\n",
       "      <td>6.0</td>\n",
       "      <td>2018.0</td>\n",
       "    </tr>\n",
       "    <tr>\n",
       "      <th>4</th>\n",
       "      <td>2017-09-01</td>\n",
       "      <td>A0118150101</td>\n",
       "      <td>70006157.0</td>\n",
       "      <td>5.0</td>\n",
       "      <td>2018.0</td>\n",
       "    </tr>\n",
       "  </tbody>\n",
       "</table>\n",
       "</div>"
      ],
      "text/plain": [
       "         date product_code  customer_code  sold_quantity  fiscal_year\n",
       "0  2017-09-01  A0118150101     70002017.0           51.0       2018.0\n",
       "1  2017-09-01  A0118150101     70002018.0           77.0       2018.0\n",
       "2  2017-09-01  A0118150101     70003181.0           17.0       2018.0\n",
       "3  2017-09-01  A0118150101     70003182.0            6.0       2018.0\n",
       "4  2017-09-01  A0118150101     70006157.0            5.0       2018.0"
      ]
     },
     "execution_count": 21,
     "metadata": {},
     "output_type": "execute_result"
    }
   ],
   "source": [
    "query_6=\"\"\"Select * from\n",
    "fact_sales_monthly\n",
    "\"\"\"\n",
    "fact_sales_monthly = pd.read_sql_query(query_6, con)\n",
    "fact_sales_monthly.head()"
   ]
  },
  {
   "cell_type": "code",
   "execution_count": 22,
   "id": "edd0e5c1",
   "metadata": {},
   "outputs": [
    {
     "data": {
      "text/html": [
       "<div>\n",
       "<style scoped>\n",
       "    .dataframe tbody tr th:only-of-type {\n",
       "        vertical-align: middle;\n",
       "    }\n",
       "\n",
       "    .dataframe tbody tr th {\n",
       "        vertical-align: top;\n",
       "    }\n",
       "\n",
       "    .dataframe thead th {\n",
       "        text-align: right;\n",
       "    }\n",
       "</style>\n",
       "<table border=\"1\" class=\"dataframe\">\n",
       "  <thead>\n",
       "    <tr style=\"text-align: right;\">\n",
       "      <th></th>\n",
       "      <th>date</th>\n",
       "      <th>product_code</th>\n",
       "      <th>customer_code</th>\n",
       "      <th>sold_quantity</th>\n",
       "      <th>fiscal_year</th>\n",
       "    </tr>\n",
       "  </thead>\n",
       "  <tbody>\n",
       "    <tr>\n",
       "      <th>0</th>\n",
       "      <td>2019-06-01</td>\n",
       "      <td>A0</td>\n",
       "      <td>None</td>\n",
       "      <td>None</td>\n",
       "      <td>None</td>\n",
       "    </tr>\n",
       "  </tbody>\n",
       "</table>\n",
       "</div>"
      ],
      "text/plain": [
       "         date product_code customer_code sold_quantity fiscal_year\n",
       "0  2019-06-01           A0          None          None        None"
      ]
     },
     "execution_count": 22,
     "metadata": {},
     "output_type": "execute_result"
    }
   ],
   "source": [
    "miss_qry6 = \"\"\"\n",
    "SELECT * FROM \n",
    "fact_sales_monthly\n",
    "WHERE \n",
    "date IS NULL OR product_code IS NULL OR customer_code IS NULL OR sold_quantity IS NULL OR fiscal_year IS NULL\"\"\"\n",
    "\n",
    "miss_val6 = pd.read_sql_query(miss_qry6, con)\n",
    "miss_val6"
   ]
  },
  {
   "cell_type": "code",
   "execution_count": 23,
   "id": "2b497d4b",
   "metadata": {},
   "outputs": [
    {
     "data": {
      "text/html": [
       "<div>\n",
       "<style scoped>\n",
       "    .dataframe tbody tr th:only-of-type {\n",
       "        vertical-align: middle;\n",
       "    }\n",
       "\n",
       "    .dataframe tbody tr th {\n",
       "        vertical-align: top;\n",
       "    }\n",
       "\n",
       "    .dataframe thead th {\n",
       "        text-align: right;\n",
       "    }\n",
       "</style>\n",
       "<table border=\"1\" class=\"dataframe\">\n",
       "  <thead>\n",
       "    <tr style=\"text-align: right;\">\n",
       "      <th></th>\n",
       "      <th>date</th>\n",
       "      <th>product_code</th>\n",
       "      <th>customer_code</th>\n",
       "      <th>sold_quantity</th>\n",
       "      <th>fiscal_year</th>\n",
       "      <th>COUNT(*)</th>\n",
       "    </tr>\n",
       "  </thead>\n",
       "  <tbody>\n",
       "  </tbody>\n",
       "</table>\n",
       "</div>"
      ],
      "text/plain": [
       "Empty DataFrame\n",
       "Columns: [date, product_code, customer_code, sold_quantity, fiscal_year, COUNT(*)]\n",
       "Index: []"
      ]
     },
     "execution_count": 23,
     "metadata": {},
     "output_type": "execute_result"
    }
   ],
   "source": [
    "dup_qry6 = \"\"\"\n",
    "SELECT date, product_code, customer_code, sold_quantity, fiscal_year, COUNT(*) FROM \n",
    "fact_sales_monthly\n",
    "GROUP BY date, product_code, customer_code, sold_quantity, fiscal_year\n",
    "HAVING COUNT (*) > 1\n",
    "\"\"\"\n",
    "\n",
    "dup6 = pd.read_sql_query(dup_qry6, con)\n",
    "dup6"
   ]
  },
  {
   "cell_type": "markdown",
   "id": "8feddc61",
   "metadata": {},
   "source": [
    "There are no duplicates in fact_sales_monthly dataframe and there is only one missing value  "
   ]
  },
  {
   "cell_type": "markdown",
   "id": "7d66b7cd",
   "metadata": {},
   "source": [
    "## Hypotheses "
   ]
  },
  {
   "cell_type": "markdown",
   "id": "ff9604a8",
   "metadata": {},
   "source": [
    "### Price Sensitivity"
   ]
  },
  {
   "cell_type": "code",
   "execution_count": 24,
   "id": "1d7a2a11",
   "metadata": {
    "scrolled": false
   },
   "outputs": [
    {
     "data": {
      "text/html": [
       "<div>\n",
       "<style scoped>\n",
       "    .dataframe tbody tr th:only-of-type {\n",
       "        vertical-align: middle;\n",
       "    }\n",
       "\n",
       "    .dataframe tbody tr th {\n",
       "        vertical-align: top;\n",
       "    }\n",
       "\n",
       "    .dataframe thead th {\n",
       "        text-align: right;\n",
       "    }\n",
       "</style>\n",
       "<table border=\"1\" class=\"dataframe\">\n",
       "  <thead>\n",
       "    <tr style=\"text-align: right;\">\n",
       "      <th></th>\n",
       "      <th>product_code</th>\n",
       "      <th>division</th>\n",
       "      <th>segment</th>\n",
       "      <th>category</th>\n",
       "      <th>product</th>\n",
       "      <th>variant</th>\n",
       "    </tr>\n",
       "  </thead>\n",
       "  <tbody>\n",
       "    <tr>\n",
       "      <th>0</th>\n",
       "      <td>A0118150101</td>\n",
       "      <td>P &amp; A</td>\n",
       "      <td>Peripherals</td>\n",
       "      <td>Internal HDD</td>\n",
       "      <td>AQ Dracula HDD – 3.5 Inch SATA 6 Gb/s 5400 RPM...</td>\n",
       "      <td>Standard</td>\n",
       "    </tr>\n",
       "    <tr>\n",
       "      <th>1</th>\n",
       "      <td>A0118150102</td>\n",
       "      <td>P &amp; A</td>\n",
       "      <td>Peripherals</td>\n",
       "      <td>Internal HDD</td>\n",
       "      <td>AQ Dracula HDD – 3.5 Inch SATA 6 Gb/s 5400 RPM...</td>\n",
       "      <td>Plus</td>\n",
       "    </tr>\n",
       "    <tr>\n",
       "      <th>2</th>\n",
       "      <td>A0118150103</td>\n",
       "      <td>P &amp; A</td>\n",
       "      <td>Peripherals</td>\n",
       "      <td>Internal HDD</td>\n",
       "      <td>AQ Dracula HDD – 3.5 Inch SATA 6 Gb/s 5400 RPM...</td>\n",
       "      <td>Premium</td>\n",
       "    </tr>\n",
       "    <tr>\n",
       "      <th>3</th>\n",
       "      <td>A0118150104</td>\n",
       "      <td>P &amp; A</td>\n",
       "      <td>Peripherals</td>\n",
       "      <td>Internal HDD</td>\n",
       "      <td>AQ Dracula HDD – 3.5 Inch SATA 6 Gb/s 5400 RPM...</td>\n",
       "      <td>Premium Plus</td>\n",
       "    </tr>\n",
       "    <tr>\n",
       "      <th>4</th>\n",
       "      <td>A0219150201</td>\n",
       "      <td>P &amp; A</td>\n",
       "      <td>Peripherals</td>\n",
       "      <td>Internal HDD</td>\n",
       "      <td>AQ WereWolf NAS Internal Hard Drive HDD – 8.89 cm</td>\n",
       "      <td>Standard</td>\n",
       "    </tr>\n",
       "    <tr>\n",
       "      <th>...</th>\n",
       "      <td>...</td>\n",
       "      <td>...</td>\n",
       "      <td>...</td>\n",
       "      <td>...</td>\n",
       "      <td>...</td>\n",
       "      <td>...</td>\n",
       "    </tr>\n",
       "    <tr>\n",
       "      <th>392</th>\n",
       "      <td>A7220160202</td>\n",
       "      <td>N &amp; S</td>\n",
       "      <td>Networking</td>\n",
       "      <td>Wi fi extender</td>\n",
       "      <td>AQ Wi Power Dx2</td>\n",
       "      <td>Plus</td>\n",
       "    </tr>\n",
       "    <tr>\n",
       "      <th>393</th>\n",
       "      <td>A7220160203</td>\n",
       "      <td>N &amp; S</td>\n",
       "      <td>Networking</td>\n",
       "      <td>Wi fi extender</td>\n",
       "      <td>AQ Wi Power Dx2</td>\n",
       "      <td>Premium</td>\n",
       "    </tr>\n",
       "    <tr>\n",
       "      <th>394</th>\n",
       "      <td>A7321160301</td>\n",
       "      <td>N &amp; S</td>\n",
       "      <td>Networking</td>\n",
       "      <td>Wi fi extender</td>\n",
       "      <td>AQ Wi Power Dx3</td>\n",
       "      <td>Standard</td>\n",
       "    </tr>\n",
       "    <tr>\n",
       "      <th>395</th>\n",
       "      <td>A7321160302</td>\n",
       "      <td>N &amp; S</td>\n",
       "      <td>Networking</td>\n",
       "      <td>Wi fi extender</td>\n",
       "      <td>AQ Wi Power Dx3</td>\n",
       "      <td>Plus</td>\n",
       "    </tr>\n",
       "    <tr>\n",
       "      <th>396</th>\n",
       "      <td>A7321160303</td>\n",
       "      <td>N &amp; S</td>\n",
       "      <td>Networking</td>\n",
       "      <td>Wi fi extender</td>\n",
       "      <td>AQ Wi Power Dx3</td>\n",
       "      <td>Premium</td>\n",
       "    </tr>\n",
       "  </tbody>\n",
       "</table>\n",
       "<p>397 rows × 6 columns</p>\n",
       "</div>"
      ],
      "text/plain": [
       "    product_code division      segment        category  \\\n",
       "0    A0118150101    P & A  Peripherals    Internal HDD   \n",
       "1    A0118150102    P & A  Peripherals    Internal HDD   \n",
       "2    A0118150103    P & A  Peripherals    Internal HDD   \n",
       "3    A0118150104    P & A  Peripherals    Internal HDD   \n",
       "4    A0219150201    P & A  Peripherals    Internal HDD   \n",
       "..           ...      ...          ...             ...   \n",
       "392  A7220160202    N & S   Networking  Wi fi extender   \n",
       "393  A7220160203    N & S   Networking  Wi fi extender   \n",
       "394  A7321160301    N & S   Networking  Wi fi extender   \n",
       "395  A7321160302    N & S   Networking  Wi fi extender   \n",
       "396  A7321160303    N & S   Networking  Wi fi extender   \n",
       "\n",
       "                                               product       variant  \n",
       "0    AQ Dracula HDD – 3.5 Inch SATA 6 Gb/s 5400 RPM...      Standard  \n",
       "1    AQ Dracula HDD – 3.5 Inch SATA 6 Gb/s 5400 RPM...          Plus  \n",
       "2    AQ Dracula HDD – 3.5 Inch SATA 6 Gb/s 5400 RPM...       Premium  \n",
       "3    AQ Dracula HDD – 3.5 Inch SATA 6 Gb/s 5400 RPM...  Premium Plus  \n",
       "4    AQ WereWolf NAS Internal Hard Drive HDD – 8.89 cm      Standard  \n",
       "..                                                 ...           ...  \n",
       "392                                    AQ Wi Power Dx2          Plus  \n",
       "393                                    AQ Wi Power Dx2       Premium  \n",
       "394                                    AQ Wi Power Dx3      Standard  \n",
       "395                                    AQ Wi Power Dx3          Plus  \n",
       "396                                    AQ Wi Power Dx3       Premium  \n",
       "\n",
       "[397 rows x 6 columns]"
      ]
     },
     "execution_count": 24,
     "metadata": {},
     "output_type": "execute_result"
    }
   ],
   "source": [
    "dim_product"
   ]
  },
  {
   "cell_type": "code",
   "execution_count": 25,
   "id": "aaad756f",
   "metadata": {
    "scrolled": false
   },
   "outputs": [
    {
     "data": {
      "text/html": [
       "<div>\n",
       "<style scoped>\n",
       "    .dataframe tbody tr th:only-of-type {\n",
       "        vertical-align: middle;\n",
       "    }\n",
       "\n",
       "    .dataframe tbody tr th {\n",
       "        vertical-align: top;\n",
       "    }\n",
       "\n",
       "    .dataframe thead th {\n",
       "        text-align: right;\n",
       "    }\n",
       "</style>\n",
       "<table border=\"1\" class=\"dataframe\">\n",
       "  <thead>\n",
       "    <tr style=\"text-align: right;\">\n",
       "      <th></th>\n",
       "      <th>date</th>\n",
       "      <th>product_code</th>\n",
       "      <th>customer_code</th>\n",
       "      <th>sold_quantity</th>\n",
       "      <th>fiscal_year</th>\n",
       "    </tr>\n",
       "  </thead>\n",
       "  <tbody>\n",
       "    <tr>\n",
       "      <th>0</th>\n",
       "      <td>2017-09-01</td>\n",
       "      <td>A0118150101</td>\n",
       "      <td>70002017.0</td>\n",
       "      <td>51.0</td>\n",
       "      <td>2018.0</td>\n",
       "    </tr>\n",
       "    <tr>\n",
       "      <th>1</th>\n",
       "      <td>2017-09-01</td>\n",
       "      <td>A0118150101</td>\n",
       "      <td>70002018.0</td>\n",
       "      <td>77.0</td>\n",
       "      <td>2018.0</td>\n",
       "    </tr>\n",
       "    <tr>\n",
       "      <th>2</th>\n",
       "      <td>2017-09-01</td>\n",
       "      <td>A0118150101</td>\n",
       "      <td>70003181.0</td>\n",
       "      <td>17.0</td>\n",
       "      <td>2018.0</td>\n",
       "    </tr>\n",
       "    <tr>\n",
       "      <th>3</th>\n",
       "      <td>2017-09-01</td>\n",
       "      <td>A0118150101</td>\n",
       "      <td>70003182.0</td>\n",
       "      <td>6.0</td>\n",
       "      <td>2018.0</td>\n",
       "    </tr>\n",
       "    <tr>\n",
       "      <th>4</th>\n",
       "      <td>2017-09-01</td>\n",
       "      <td>A0118150101</td>\n",
       "      <td>70006157.0</td>\n",
       "      <td>5.0</td>\n",
       "      <td>2018.0</td>\n",
       "    </tr>\n",
       "    <tr>\n",
       "      <th>...</th>\n",
       "      <td>...</td>\n",
       "      <td>...</td>\n",
       "      <td>...</td>\n",
       "      <td>...</td>\n",
       "      <td>...</td>\n",
       "    </tr>\n",
       "    <tr>\n",
       "      <th>67246</th>\n",
       "      <td>2019-06-01</td>\n",
       "      <td>A0418150104</td>\n",
       "      <td>90013124.0</td>\n",
       "      <td>16.0</td>\n",
       "      <td>2019.0</td>\n",
       "    </tr>\n",
       "    <tr>\n",
       "      <th>67247</th>\n",
       "      <td>2019-06-01</td>\n",
       "      <td>A0418150104</td>\n",
       "      <td>90014136.0</td>\n",
       "      <td>2.0</td>\n",
       "      <td>2019.0</td>\n",
       "    </tr>\n",
       "    <tr>\n",
       "      <th>67248</th>\n",
       "      <td>2019-06-01</td>\n",
       "      <td>A0418150104</td>\n",
       "      <td>90014137.0</td>\n",
       "      <td>1.0</td>\n",
       "      <td>2019.0</td>\n",
       "    </tr>\n",
       "    <tr>\n",
       "      <th>67249</th>\n",
       "      <td>2019-06-01</td>\n",
       "      <td>A0418150104</td>\n",
       "      <td>90014140.0</td>\n",
       "      <td>3.0</td>\n",
       "      <td>2019.0</td>\n",
       "    </tr>\n",
       "    <tr>\n",
       "      <th>67250</th>\n",
       "      <td>2019-06-01</td>\n",
       "      <td>A0</td>\n",
       "      <td>NaN</td>\n",
       "      <td>NaN</td>\n",
       "      <td>NaN</td>\n",
       "    </tr>\n",
       "  </tbody>\n",
       "</table>\n",
       "<p>67251 rows × 5 columns</p>\n",
       "</div>"
      ],
      "text/plain": [
       "             date product_code  customer_code  sold_quantity  fiscal_year\n",
       "0      2017-09-01  A0118150101     70002017.0           51.0       2018.0\n",
       "1      2017-09-01  A0118150101     70002018.0           77.0       2018.0\n",
       "2      2017-09-01  A0118150101     70003181.0           17.0       2018.0\n",
       "3      2017-09-01  A0118150101     70003182.0            6.0       2018.0\n",
       "4      2017-09-01  A0118150101     70006157.0            5.0       2018.0\n",
       "...           ...          ...            ...            ...          ...\n",
       "67246  2019-06-01  A0418150104     90013124.0           16.0       2019.0\n",
       "67247  2019-06-01  A0418150104     90014136.0            2.0       2019.0\n",
       "67248  2019-06-01  A0418150104     90014137.0            1.0       2019.0\n",
       "67249  2019-06-01  A0418150104     90014140.0            3.0       2019.0\n",
       "67250  2019-06-01           A0            NaN            NaN          NaN\n",
       "\n",
       "[67251 rows x 5 columns]"
      ]
     },
     "execution_count": 25,
     "metadata": {},
     "output_type": "execute_result"
    }
   ],
   "source": [
    "fact_sales_monthly"
   ]
  },
  {
   "cell_type": "code",
   "execution_count": 26,
   "id": "bff8a528",
   "metadata": {},
   "outputs": [
    {
     "data": {
      "text/html": [
       "<div>\n",
       "<style scoped>\n",
       "    .dataframe tbody tr th:only-of-type {\n",
       "        vertical-align: middle;\n",
       "    }\n",
       "\n",
       "    .dataframe tbody tr th {\n",
       "        vertical-align: top;\n",
       "    }\n",
       "\n",
       "    .dataframe thead th {\n",
       "        text-align: right;\n",
       "    }\n",
       "</style>\n",
       "<table border=\"1\" class=\"dataframe\">\n",
       "  <thead>\n",
       "    <tr style=\"text-align: right;\">\n",
       "      <th></th>\n",
       "      <th>product_code</th>\n",
       "      <th>fiscal_year</th>\n",
       "      <th>gross_price</th>\n",
       "    </tr>\n",
       "  </thead>\n",
       "  <tbody>\n",
       "    <tr>\n",
       "      <th>0</th>\n",
       "      <td>A0118150101</td>\n",
       "      <td>2018</td>\n",
       "      <td>15.3952</td>\n",
       "    </tr>\n",
       "    <tr>\n",
       "      <th>1</th>\n",
       "      <td>A0118150101</td>\n",
       "      <td>2019</td>\n",
       "      <td>14.4392</td>\n",
       "    </tr>\n",
       "    <tr>\n",
       "      <th>2</th>\n",
       "      <td>A0118150101</td>\n",
       "      <td>2020</td>\n",
       "      <td>16.2323</td>\n",
       "    </tr>\n",
       "    <tr>\n",
       "      <th>3</th>\n",
       "      <td>A0118150101</td>\n",
       "      <td>2021</td>\n",
       "      <td>19.0573</td>\n",
       "    </tr>\n",
       "    <tr>\n",
       "      <th>4</th>\n",
       "      <td>A0118150102</td>\n",
       "      <td>2018</td>\n",
       "      <td>19.5875</td>\n",
       "    </tr>\n",
       "    <tr>\n",
       "      <th>...</th>\n",
       "      <td>...</td>\n",
       "      <td>...</td>\n",
       "      <td>...</td>\n",
       "    </tr>\n",
       "    <tr>\n",
       "      <th>1177</th>\n",
       "      <td>A7321160301</td>\n",
       "      <td>2022</td>\n",
       "      <td>44.6260</td>\n",
       "    </tr>\n",
       "    <tr>\n",
       "      <th>1178</th>\n",
       "      <td>A7321160302</td>\n",
       "      <td>2021</td>\n",
       "      <td>43.9446</td>\n",
       "    </tr>\n",
       "    <tr>\n",
       "      <th>1179</th>\n",
       "      <td>A7321160302</td>\n",
       "      <td>2022</td>\n",
       "      <td>46.0399</td>\n",
       "    </tr>\n",
       "    <tr>\n",
       "      <th>1180</th>\n",
       "      <td>A7321160303</td>\n",
       "      <td>2021</td>\n",
       "      <td>42.8483</td>\n",
       "    </tr>\n",
       "    <tr>\n",
       "      <th>1181</th>\n",
       "      <td>A7321160303</td>\n",
       "      <td>2022</td>\n",
       "      <td>43.5559</td>\n",
       "    </tr>\n",
       "  </tbody>\n",
       "</table>\n",
       "<p>1182 rows × 3 columns</p>\n",
       "</div>"
      ],
      "text/plain": [
       "     product_code  fiscal_year  gross_price\n",
       "0     A0118150101         2018      15.3952\n",
       "1     A0118150101         2019      14.4392\n",
       "2     A0118150101         2020      16.2323\n",
       "3     A0118150101         2021      19.0573\n",
       "4     A0118150102         2018      19.5875\n",
       "...           ...          ...          ...\n",
       "1177  A7321160301         2022      44.6260\n",
       "1178  A7321160302         2021      43.9446\n",
       "1179  A7321160302         2022      46.0399\n",
       "1180  A7321160303         2021      42.8483\n",
       "1181  A7321160303         2022      43.5559\n",
       "\n",
       "[1182 rows x 3 columns]"
      ]
     },
     "execution_count": 26,
     "metadata": {},
     "output_type": "execute_result"
    }
   ],
   "source": [
    "fact_gross_price"
   ]
  },
  {
   "cell_type": "markdown",
   "id": "cb45a2ee",
   "metadata": {},
   "source": [
    "Let's compare the results on the example of 3 random different products."
   ]
  },
  {
   "cell_type": "code",
   "execution_count": 27,
   "id": "b8b8cdda",
   "metadata": {},
   "outputs": [
    {
     "data": {
      "text/html": [
       "<div>\n",
       "<style scoped>\n",
       "    .dataframe tbody tr th:only-of-type {\n",
       "        vertical-align: middle;\n",
       "    }\n",
       "\n",
       "    .dataframe tbody tr th {\n",
       "        vertical-align: top;\n",
       "    }\n",
       "\n",
       "    .dataframe thead th {\n",
       "        text-align: right;\n",
       "    }\n",
       "</style>\n",
       "<table border=\"1\" class=\"dataframe\">\n",
       "  <thead>\n",
       "    <tr style=\"text-align: right;\">\n",
       "      <th></th>\n",
       "      <th>product_code</th>\n",
       "      <th>product</th>\n",
       "      <th>variant</th>\n",
       "      <th>fiscal_year</th>\n",
       "      <th>gross_price</th>\n",
       "    </tr>\n",
       "  </thead>\n",
       "  <tbody>\n",
       "    <tr>\n",
       "      <th>0</th>\n",
       "      <td>A0118150103</td>\n",
       "      <td>AQ Dracula HDD – 3.5 Inch SATA 6 Gb/s 5400 RPM...</td>\n",
       "      <td>Premium</td>\n",
       "      <td>2018</td>\n",
       "      <td>19.3630</td>\n",
       "    </tr>\n",
       "    <tr>\n",
       "      <th>1</th>\n",
       "      <td>A0118150103</td>\n",
       "      <td>AQ Dracula HDD – 3.5 Inch SATA 6 Gb/s 5400 RPM...</td>\n",
       "      <td>Premium</td>\n",
       "      <td>2019</td>\n",
       "      <td>19.3442</td>\n",
       "    </tr>\n",
       "    <tr>\n",
       "      <th>2</th>\n",
       "      <td>A0118150103</td>\n",
       "      <td>AQ Dracula HDD – 3.5 Inch SATA 6 Gb/s 5400 RPM...</td>\n",
       "      <td>Premium</td>\n",
       "      <td>2020</td>\n",
       "      <td>22.1317</td>\n",
       "    </tr>\n",
       "    <tr>\n",
       "      <th>3</th>\n",
       "      <td>A0118150103</td>\n",
       "      <td>AQ Dracula HDD – 3.5 Inch SATA 6 Gb/s 5400 RPM...</td>\n",
       "      <td>Premium</td>\n",
       "      <td>2021</td>\n",
       "      <td>21.7795</td>\n",
       "    </tr>\n",
       "    <tr>\n",
       "      <th>4</th>\n",
       "      <td>A0118150103</td>\n",
       "      <td>AQ Dracula HDD – 3.5 Inch SATA 6 Gb/s 5400 RPM...</td>\n",
       "      <td>Premium</td>\n",
       "      <td>2022</td>\n",
       "      <td>23.9920</td>\n",
       "    </tr>\n",
       "    <tr>\n",
       "      <th>5</th>\n",
       "      <td>A0220150203</td>\n",
       "      <td>AQ WereWolf NAS Internal Hard Drive HDD – 8.89 cm</td>\n",
       "      <td>Premium</td>\n",
       "      <td>2020</td>\n",
       "      <td>23.9193</td>\n",
       "    </tr>\n",
       "    <tr>\n",
       "      <th>6</th>\n",
       "      <td>A0220150203</td>\n",
       "      <td>AQ WereWolf NAS Internal Hard Drive HDD – 8.89 cm</td>\n",
       "      <td>Premium</td>\n",
       "      <td>2021</td>\n",
       "      <td>23.6154</td>\n",
       "    </tr>\n",
       "    <tr>\n",
       "      <th>7</th>\n",
       "      <td>A0220150203</td>\n",
       "      <td>AQ WereWolf NAS Internal Hard Drive HDD – 8.89 cm</td>\n",
       "      <td>Premium</td>\n",
       "      <td>2022</td>\n",
       "      <td>25.7806</td>\n",
       "    </tr>\n",
       "    <tr>\n",
       "      <th>8</th>\n",
       "      <td>A0418150101</td>\n",
       "      <td>AQ Mforce Gen X</td>\n",
       "      <td>Standard 1</td>\n",
       "      <td>2018</td>\n",
       "      <td>15.8753</td>\n",
       "    </tr>\n",
       "    <tr>\n",
       "      <th>9</th>\n",
       "      <td>A0418150101</td>\n",
       "      <td>AQ Mforce Gen X</td>\n",
       "      <td>Standard 1</td>\n",
       "      <td>2019</td>\n",
       "      <td>14.0555</td>\n",
       "    </tr>\n",
       "    <tr>\n",
       "      <th>10</th>\n",
       "      <td>A0418150101</td>\n",
       "      <td>AQ Mforce Gen X</td>\n",
       "      <td>Standard 1</td>\n",
       "      <td>2020</td>\n",
       "      <td>17.4708</td>\n",
       "    </tr>\n",
       "  </tbody>\n",
       "</table>\n",
       "</div>"
      ],
      "text/plain": [
       "   product_code                                            product  \\\n",
       "0   A0118150103  AQ Dracula HDD – 3.5 Inch SATA 6 Gb/s 5400 RPM...   \n",
       "1   A0118150103  AQ Dracula HDD – 3.5 Inch SATA 6 Gb/s 5400 RPM...   \n",
       "2   A0118150103  AQ Dracula HDD – 3.5 Inch SATA 6 Gb/s 5400 RPM...   \n",
       "3   A0118150103  AQ Dracula HDD – 3.5 Inch SATA 6 Gb/s 5400 RPM...   \n",
       "4   A0118150103  AQ Dracula HDD – 3.5 Inch SATA 6 Gb/s 5400 RPM...   \n",
       "5   A0220150203  AQ WereWolf NAS Internal Hard Drive HDD – 8.89 cm   \n",
       "6   A0220150203  AQ WereWolf NAS Internal Hard Drive HDD – 8.89 cm   \n",
       "7   A0220150203  AQ WereWolf NAS Internal Hard Drive HDD – 8.89 cm   \n",
       "8   A0418150101                                    AQ Mforce Gen X   \n",
       "9   A0418150101                                    AQ Mforce Gen X   \n",
       "10  A0418150101                                    AQ Mforce Gen X   \n",
       "\n",
       "       variant  fiscal_year  gross_price  \n",
       "0      Premium         2018      19.3630  \n",
       "1      Premium         2019      19.3442  \n",
       "2      Premium         2020      22.1317  \n",
       "3      Premium         2021      21.7795  \n",
       "4      Premium         2022      23.9920  \n",
       "5      Premium         2020      23.9193  \n",
       "6      Premium         2021      23.6154  \n",
       "7      Premium         2022      25.7806  \n",
       "8   Standard 1         2018      15.8753  \n",
       "9   Standard 1         2019      14.0555  \n",
       "10  Standard 1         2020      17.4708  "
      ]
     },
     "execution_count": 27,
     "metadata": {},
     "output_type": "execute_result"
    }
   ],
   "source": [
    "price_qry = \"\"\"\n",
    "select distinct \n",
    "    dim_product.product_code, \n",
    "    dim_product.product,\n",
    "    dim_product.variant,\n",
    "    fact_gross_price.fiscal_year,\n",
    "    fact_gross_price.gross_price\n",
    "from \n",
    "    dim_product \n",
    "left join \n",
    "    fact_gross_price on fact_gross_price.product_code = dim_product.product_code \n",
    "where \n",
    "    dim_product.product_code = 'A0118150103'\n",
    "    or dim_product.product_code = 'A0220150203'\n",
    "    or dim_product.product_code = 'A0418150101'\n",
    "group by \n",
    "     dim_product.product_code,\n",
    "     dim_product.product,\n",
    "     dim_product.variant,\n",
    "     fact_gross_price.fiscal_year \n",
    "\"\"\"\n",
    "price = pd.read_sql_query(price_qry, con)\n",
    "price "
   ]
  },
  {
   "cell_type": "markdown",
   "id": "94b808bb",
   "metadata": {},
   "source": [
    "We determined that the price of each product increaces or decreaces yearly. So we will compare the results based on yearly changes."
   ]
  },
  {
   "cell_type": "markdown",
   "id": "85c2fd16",
   "metadata": {},
   "source": [
    "We see that the price of every product notable increases from the first to the last year in our dataset. "
   ]
  },
  {
   "cell_type": "code",
   "execution_count": 28,
   "id": "13d29ab9",
   "metadata": {
    "scrolled": false
   },
   "outputs": [
    {
     "data": {
      "text/html": [
       "<div>\n",
       "<style scoped>\n",
       "    .dataframe tbody tr th:only-of-type {\n",
       "        vertical-align: middle;\n",
       "    }\n",
       "\n",
       "    .dataframe tbody tr th {\n",
       "        vertical-align: top;\n",
       "    }\n",
       "\n",
       "    .dataframe thead th {\n",
       "        text-align: right;\n",
       "    }\n",
       "</style>\n",
       "<table border=\"1\" class=\"dataframe\">\n",
       "  <thead>\n",
       "    <tr style=\"text-align: right;\">\n",
       "      <th></th>\n",
       "      <th>product_code</th>\n",
       "      <th>product</th>\n",
       "      <th>variant</th>\n",
       "      <th>fiscal_year</th>\n",
       "      <th>sold_quantity</th>\n",
       "    </tr>\n",
       "  </thead>\n",
       "  <tbody>\n",
       "    <tr>\n",
       "      <th>0</th>\n",
       "      <td>A0118150103</td>\n",
       "      <td>AQ Dracula HDD – 3.5 Inch SATA 6 Gb/s 5400 RPM...</td>\n",
       "      <td>Premium</td>\n",
       "      <td>2018</td>\n",
       "      <td>18754</td>\n",
       "    </tr>\n",
       "    <tr>\n",
       "      <th>1</th>\n",
       "      <td>A0118150103</td>\n",
       "      <td>AQ Dracula HDD – 3.5 Inch SATA 6 Gb/s 5400 RPM...</td>\n",
       "      <td>Premium</td>\n",
       "      <td>2019</td>\n",
       "      <td>42191</td>\n",
       "    </tr>\n",
       "    <tr>\n",
       "      <th>2</th>\n",
       "      <td>A0118150103</td>\n",
       "      <td>AQ Dracula HDD – 3.5 Inch SATA 6 Gb/s 5400 RPM...</td>\n",
       "      <td>Premium</td>\n",
       "      <td>2020</td>\n",
       "      <td>61748</td>\n",
       "    </tr>\n",
       "    <tr>\n",
       "      <th>3</th>\n",
       "      <td>A0118150103</td>\n",
       "      <td>AQ Dracula HDD – 3.5 Inch SATA 6 Gb/s 5400 RPM...</td>\n",
       "      <td>Premium</td>\n",
       "      <td>2021</td>\n",
       "      <td>94481</td>\n",
       "    </tr>\n",
       "    <tr>\n",
       "      <th>4</th>\n",
       "      <td>A0118150103</td>\n",
       "      <td>AQ Dracula HDD – 3.5 Inch SATA 6 Gb/s 5400 RPM...</td>\n",
       "      <td>Premium</td>\n",
       "      <td>2022</td>\n",
       "      <td>162972</td>\n",
       "    </tr>\n",
       "    <tr>\n",
       "      <th>5</th>\n",
       "      <td>A0220150203</td>\n",
       "      <td>AQ WereWolf NAS Internal Hard Drive HDD – 8.89 cm</td>\n",
       "      <td>Premium</td>\n",
       "      <td>2020</td>\n",
       "      <td>63680</td>\n",
       "    </tr>\n",
       "    <tr>\n",
       "      <th>6</th>\n",
       "      <td>A0220150203</td>\n",
       "      <td>AQ WereWolf NAS Internal Hard Drive HDD – 8.89 cm</td>\n",
       "      <td>Premium</td>\n",
       "      <td>2021</td>\n",
       "      <td>97815</td>\n",
       "    </tr>\n",
       "    <tr>\n",
       "      <th>7</th>\n",
       "      <td>A0220150203</td>\n",
       "      <td>AQ WereWolf NAS Internal Hard Drive HDD – 8.89 cm</td>\n",
       "      <td>Premium</td>\n",
       "      <td>2022</td>\n",
       "      <td>165516</td>\n",
       "    </tr>\n",
       "    <tr>\n",
       "      <th>8</th>\n",
       "      <td>A0418150101</td>\n",
       "      <td>AQ Mforce Gen X</td>\n",
       "      <td>Standard 1</td>\n",
       "      <td>2018</td>\n",
       "      <td>21842</td>\n",
       "    </tr>\n",
       "    <tr>\n",
       "      <th>9</th>\n",
       "      <td>A0418150101</td>\n",
       "      <td>AQ Mforce Gen X</td>\n",
       "      <td>Standard 1</td>\n",
       "      <td>2019</td>\n",
       "      <td>32453</td>\n",
       "    </tr>\n",
       "    <tr>\n",
       "      <th>10</th>\n",
       "      <td>A0418150101</td>\n",
       "      <td>AQ Mforce Gen X</td>\n",
       "      <td>Standard 1</td>\n",
       "      <td>2020</td>\n",
       "      <td>45758</td>\n",
       "    </tr>\n",
       "  </tbody>\n",
       "</table>\n",
       "</div>"
      ],
      "text/plain": [
       "   product_code                                            product  \\\n",
       "0   A0118150103  AQ Dracula HDD – 3.5 Inch SATA 6 Gb/s 5400 RPM...   \n",
       "1   A0118150103  AQ Dracula HDD – 3.5 Inch SATA 6 Gb/s 5400 RPM...   \n",
       "2   A0118150103  AQ Dracula HDD – 3.5 Inch SATA 6 Gb/s 5400 RPM...   \n",
       "3   A0118150103  AQ Dracula HDD – 3.5 Inch SATA 6 Gb/s 5400 RPM...   \n",
       "4   A0118150103  AQ Dracula HDD – 3.5 Inch SATA 6 Gb/s 5400 RPM...   \n",
       "5   A0220150203  AQ WereWolf NAS Internal Hard Drive HDD – 8.89 cm   \n",
       "6   A0220150203  AQ WereWolf NAS Internal Hard Drive HDD – 8.89 cm   \n",
       "7   A0220150203  AQ WereWolf NAS Internal Hard Drive HDD – 8.89 cm   \n",
       "8   A0418150101                                    AQ Mforce Gen X   \n",
       "9   A0418150101                                    AQ Mforce Gen X   \n",
       "10  A0418150101                                    AQ Mforce Gen X   \n",
       "\n",
       "       variant  fiscal_year  sold_quantity  \n",
       "0      Premium         2018          18754  \n",
       "1      Premium         2019          42191  \n",
       "2      Premium         2020          61748  \n",
       "3      Premium         2021          94481  \n",
       "4      Premium         2022         162972  \n",
       "5      Premium         2020          63680  \n",
       "6      Premium         2021          97815  \n",
       "7      Premium         2022         165516  \n",
       "8   Standard 1         2018          21842  \n",
       "9   Standard 1         2019          32453  \n",
       "10  Standard 1         2020          45758  "
      ]
     },
     "execution_count": 28,
     "metadata": {},
     "output_type": "execute_result"
    }
   ],
   "source": [
    "sold_qry = \"\"\"\n",
    "select distinct \n",
    "    dim_product.product_code, \n",
    "    dim_product.product,\n",
    "    dim_product.variant,\n",
    "    fact_sales_monthly.fiscal_year,\n",
    "    sum(fact_sales_monthly.sold_quantity) as sold_quantity \n",
    "from \n",
    "    dim_product \n",
    "left join \n",
    "    fact_sales_monthly on fact_sales_monthly.product_code = dim_product.product_code \n",
    "where \n",
    "    dim_product.product_code = 'A0118150103'\n",
    "    or dim_product.product_code = 'A0220150203'\n",
    "    or dim_product.product_code = 'A0418150101'\n",
    "group by \n",
    "     dim_product.product_code,\n",
    "     dim_product.product,\n",
    "     dim_product.variant,\n",
    "     fact_sales_monthly.fiscal_year \n",
    "\"\"\"\n",
    "sold = pd.read_sql_query(sold_qry, con)\n",
    "sold"
   ]
  },
  {
   "cell_type": "markdown",
   "id": "f065d835",
   "metadata": {},
   "source": [
    "Despite on increase of the products prices we also see that sales increase on 50% or even twise yearly. Based on our research we can say that price does not affect on sales. But it still important do not make products overpriced. "
   ]
  },
  {
   "cell_type": "markdown",
   "id": "0851519b",
   "metadata": {},
   "source": [
    "### Customer Segmentation by Region"
   ]
  },
  {
   "cell_type": "code",
   "execution_count": 29,
   "id": "1f7aa98f",
   "metadata": {},
   "outputs": [
    {
     "data": {
      "text/html": [
       "<div>\n",
       "<style scoped>\n",
       "    .dataframe tbody tr th:only-of-type {\n",
       "        vertical-align: middle;\n",
       "    }\n",
       "\n",
       "    .dataframe tbody tr th {\n",
       "        vertical-align: top;\n",
       "    }\n",
       "\n",
       "    .dataframe thead th {\n",
       "        text-align: right;\n",
       "    }\n",
       "</style>\n",
       "<table border=\"1\" class=\"dataframe\">\n",
       "  <thead>\n",
       "    <tr style=\"text-align: right;\">\n",
       "      <th></th>\n",
       "      <th>customer_code</th>\n",
       "      <th>customer</th>\n",
       "      <th>platform</th>\n",
       "      <th>channel</th>\n",
       "      <th>market</th>\n",
       "      <th>sub_zone</th>\n",
       "      <th>region</th>\n",
       "    </tr>\n",
       "  </thead>\n",
       "  <tbody>\n",
       "    <tr>\n",
       "      <th>0</th>\n",
       "      <td>70002017</td>\n",
       "      <td>Atliq Exclusive</td>\n",
       "      <td>Brick &amp; Mortar</td>\n",
       "      <td>Direct</td>\n",
       "      <td>India</td>\n",
       "      <td>India</td>\n",
       "      <td>APAC</td>\n",
       "    </tr>\n",
       "    <tr>\n",
       "      <th>1</th>\n",
       "      <td>70002018</td>\n",
       "      <td>Atliq e Store</td>\n",
       "      <td>E-Commerce</td>\n",
       "      <td>Direct</td>\n",
       "      <td>India</td>\n",
       "      <td>India</td>\n",
       "      <td>APAC</td>\n",
       "    </tr>\n",
       "    <tr>\n",
       "      <th>2</th>\n",
       "      <td>70003181</td>\n",
       "      <td>Atliq Exclusive</td>\n",
       "      <td>Brick &amp; Mortar</td>\n",
       "      <td>Direct</td>\n",
       "      <td>Indonesia</td>\n",
       "      <td>ROA</td>\n",
       "      <td>APAC</td>\n",
       "    </tr>\n",
       "    <tr>\n",
       "      <th>3</th>\n",
       "      <td>70003182</td>\n",
       "      <td>Atliq e Store</td>\n",
       "      <td>E-Commerce</td>\n",
       "      <td>Direct</td>\n",
       "      <td>Indonesia</td>\n",
       "      <td>ROA</td>\n",
       "      <td>APAC</td>\n",
       "    </tr>\n",
       "    <tr>\n",
       "      <th>4</th>\n",
       "      <td>70004069</td>\n",
       "      <td>Atliq Exclusive</td>\n",
       "      <td>Brick &amp; Mortar</td>\n",
       "      <td>Direct</td>\n",
       "      <td>Japan</td>\n",
       "      <td>ROA</td>\n",
       "      <td>APAC</td>\n",
       "    </tr>\n",
       "  </tbody>\n",
       "</table>\n",
       "</div>"
      ],
      "text/plain": [
       "   customer_code         customer        platform channel     market sub_zone  \\\n",
       "0       70002017  Atliq Exclusive  Brick & Mortar  Direct      India    India   \n",
       "1       70002018    Atliq e Store      E-Commerce  Direct      India    India   \n",
       "2       70003181  Atliq Exclusive  Brick & Mortar  Direct  Indonesia      ROA   \n",
       "3       70003182    Atliq e Store      E-Commerce  Direct  Indonesia      ROA   \n",
       "4       70004069  Atliq Exclusive  Brick & Mortar  Direct      Japan      ROA   \n",
       "\n",
       "  region  \n",
       "0   APAC  \n",
       "1   APAC  \n",
       "2   APAC  \n",
       "3   APAC  \n",
       "4   APAC  "
      ]
     },
     "execution_count": 29,
     "metadata": {},
     "output_type": "execute_result"
    }
   ],
   "source": [
    "dim_customer.head()"
   ]
  },
  {
   "cell_type": "code",
   "execution_count": 30,
   "id": "0746d595",
   "metadata": {},
   "outputs": [
    {
     "data": {
      "text/html": [
       "<div>\n",
       "<style scoped>\n",
       "    .dataframe tbody tr th:only-of-type {\n",
       "        vertical-align: middle;\n",
       "    }\n",
       "\n",
       "    .dataframe tbody tr th {\n",
       "        vertical-align: top;\n",
       "    }\n",
       "\n",
       "    .dataframe thead th {\n",
       "        text-align: right;\n",
       "    }\n",
       "</style>\n",
       "<table border=\"1\" class=\"dataframe\">\n",
       "  <thead>\n",
       "    <tr style=\"text-align: right;\">\n",
       "      <th></th>\n",
       "      <th>product_code</th>\n",
       "      <th>division</th>\n",
       "      <th>segment</th>\n",
       "      <th>category</th>\n",
       "      <th>product</th>\n",
       "      <th>variant</th>\n",
       "    </tr>\n",
       "  </thead>\n",
       "  <tbody>\n",
       "    <tr>\n",
       "      <th>0</th>\n",
       "      <td>A0118150101</td>\n",
       "      <td>P &amp; A</td>\n",
       "      <td>Peripherals</td>\n",
       "      <td>Internal HDD</td>\n",
       "      <td>AQ Dracula HDD – 3.5 Inch SATA 6 Gb/s 5400 RPM...</td>\n",
       "      <td>Standard</td>\n",
       "    </tr>\n",
       "    <tr>\n",
       "      <th>1</th>\n",
       "      <td>A0118150102</td>\n",
       "      <td>P &amp; A</td>\n",
       "      <td>Peripherals</td>\n",
       "      <td>Internal HDD</td>\n",
       "      <td>AQ Dracula HDD – 3.5 Inch SATA 6 Gb/s 5400 RPM...</td>\n",
       "      <td>Plus</td>\n",
       "    </tr>\n",
       "    <tr>\n",
       "      <th>2</th>\n",
       "      <td>A0118150103</td>\n",
       "      <td>P &amp; A</td>\n",
       "      <td>Peripherals</td>\n",
       "      <td>Internal HDD</td>\n",
       "      <td>AQ Dracula HDD – 3.5 Inch SATA 6 Gb/s 5400 RPM...</td>\n",
       "      <td>Premium</td>\n",
       "    </tr>\n",
       "    <tr>\n",
       "      <th>3</th>\n",
       "      <td>A0118150104</td>\n",
       "      <td>P &amp; A</td>\n",
       "      <td>Peripherals</td>\n",
       "      <td>Internal HDD</td>\n",
       "      <td>AQ Dracula HDD – 3.5 Inch SATA 6 Gb/s 5400 RPM...</td>\n",
       "      <td>Premium Plus</td>\n",
       "    </tr>\n",
       "    <tr>\n",
       "      <th>4</th>\n",
       "      <td>A0219150201</td>\n",
       "      <td>P &amp; A</td>\n",
       "      <td>Peripherals</td>\n",
       "      <td>Internal HDD</td>\n",
       "      <td>AQ WereWolf NAS Internal Hard Drive HDD – 8.89 cm</td>\n",
       "      <td>Standard</td>\n",
       "    </tr>\n",
       "  </tbody>\n",
       "</table>\n",
       "</div>"
      ],
      "text/plain": [
       "  product_code division      segment      category  \\\n",
       "0  A0118150101    P & A  Peripherals  Internal HDD   \n",
       "1  A0118150102    P & A  Peripherals  Internal HDD   \n",
       "2  A0118150103    P & A  Peripherals  Internal HDD   \n",
       "3  A0118150104    P & A  Peripherals  Internal HDD   \n",
       "4  A0219150201    P & A  Peripherals  Internal HDD   \n",
       "\n",
       "                                             product       variant  \n",
       "0  AQ Dracula HDD – 3.5 Inch SATA 6 Gb/s 5400 RPM...      Standard  \n",
       "1  AQ Dracula HDD – 3.5 Inch SATA 6 Gb/s 5400 RPM...          Plus  \n",
       "2  AQ Dracula HDD – 3.5 Inch SATA 6 Gb/s 5400 RPM...       Premium  \n",
       "3  AQ Dracula HDD – 3.5 Inch SATA 6 Gb/s 5400 RPM...  Premium Plus  \n",
       "4  AQ WereWolf NAS Internal Hard Drive HDD – 8.89 cm      Standard  "
      ]
     },
     "execution_count": 30,
     "metadata": {},
     "output_type": "execute_result"
    }
   ],
   "source": [
    "dim_product.head()"
   ]
  },
  {
   "cell_type": "code",
   "execution_count": 31,
   "id": "63fad0cf",
   "metadata": {},
   "outputs": [
    {
     "data": {
      "text/html": [
       "<div>\n",
       "<style scoped>\n",
       "    .dataframe tbody tr th:only-of-type {\n",
       "        vertical-align: middle;\n",
       "    }\n",
       "\n",
       "    .dataframe tbody tr th {\n",
       "        vertical-align: top;\n",
       "    }\n",
       "\n",
       "    .dataframe thead th {\n",
       "        text-align: right;\n",
       "    }\n",
       "</style>\n",
       "<table border=\"1\" class=\"dataframe\">\n",
       "  <thead>\n",
       "    <tr style=\"text-align: right;\">\n",
       "      <th></th>\n",
       "      <th>date</th>\n",
       "      <th>product_code</th>\n",
       "      <th>customer_code</th>\n",
       "      <th>sold_quantity</th>\n",
       "      <th>fiscal_year</th>\n",
       "    </tr>\n",
       "  </thead>\n",
       "  <tbody>\n",
       "    <tr>\n",
       "      <th>0</th>\n",
       "      <td>2017-09-01</td>\n",
       "      <td>A0118150101</td>\n",
       "      <td>70002017.0</td>\n",
       "      <td>51.0</td>\n",
       "      <td>2018.0</td>\n",
       "    </tr>\n",
       "    <tr>\n",
       "      <th>1</th>\n",
       "      <td>2017-09-01</td>\n",
       "      <td>A0118150101</td>\n",
       "      <td>70002018.0</td>\n",
       "      <td>77.0</td>\n",
       "      <td>2018.0</td>\n",
       "    </tr>\n",
       "    <tr>\n",
       "      <th>2</th>\n",
       "      <td>2017-09-01</td>\n",
       "      <td>A0118150101</td>\n",
       "      <td>70003181.0</td>\n",
       "      <td>17.0</td>\n",
       "      <td>2018.0</td>\n",
       "    </tr>\n",
       "    <tr>\n",
       "      <th>3</th>\n",
       "      <td>2017-09-01</td>\n",
       "      <td>A0118150101</td>\n",
       "      <td>70003182.0</td>\n",
       "      <td>6.0</td>\n",
       "      <td>2018.0</td>\n",
       "    </tr>\n",
       "    <tr>\n",
       "      <th>4</th>\n",
       "      <td>2017-09-01</td>\n",
       "      <td>A0118150101</td>\n",
       "      <td>70006157.0</td>\n",
       "      <td>5.0</td>\n",
       "      <td>2018.0</td>\n",
       "    </tr>\n",
       "  </tbody>\n",
       "</table>\n",
       "</div>"
      ],
      "text/plain": [
       "         date product_code  customer_code  sold_quantity  fiscal_year\n",
       "0  2017-09-01  A0118150101     70002017.0           51.0       2018.0\n",
       "1  2017-09-01  A0118150101     70002018.0           77.0       2018.0\n",
       "2  2017-09-01  A0118150101     70003181.0           17.0       2018.0\n",
       "3  2017-09-01  A0118150101     70003182.0            6.0       2018.0\n",
       "4  2017-09-01  A0118150101     70006157.0            5.0       2018.0"
      ]
     },
     "execution_count": 31,
     "metadata": {},
     "output_type": "execute_result"
    }
   ],
   "source": [
    "fact_sales_monthly.head()"
   ]
  },
  {
   "cell_type": "code",
   "execution_count": 32,
   "id": "09f39024",
   "metadata": {},
   "outputs": [
    {
     "data": {
      "text/html": [
       "<div>\n",
       "<style scoped>\n",
       "    .dataframe tbody tr th:only-of-type {\n",
       "        vertical-align: middle;\n",
       "    }\n",
       "\n",
       "    .dataframe tbody tr th {\n",
       "        vertical-align: top;\n",
       "    }\n",
       "\n",
       "    .dataframe thead th {\n",
       "        text-align: right;\n",
       "    }\n",
       "</style>\n",
       "<table border=\"1\" class=\"dataframe\">\n",
       "  <thead>\n",
       "    <tr style=\"text-align: right;\">\n",
       "      <th></th>\n",
       "      <th>market</th>\n",
       "      <th>product_code</th>\n",
       "      <th>quantity_sold</th>\n",
       "      <th>product</th>\n",
       "      <th>variant</th>\n",
       "      <th>category</th>\n",
       "    </tr>\n",
       "  </thead>\n",
       "  <tbody>\n",
       "    <tr>\n",
       "      <th>0</th>\n",
       "      <td>India</td>\n",
       "      <td>A0418150103</td>\n",
       "      <td>115233</td>\n",
       "      <td>AQ Mforce Gen X</td>\n",
       "      <td>Standard 3</td>\n",
       "      <td>Graphic Card</td>\n",
       "    </tr>\n",
       "    <tr>\n",
       "      <th>1</th>\n",
       "      <td>India</td>\n",
       "      <td>A0118150104</td>\n",
       "      <td>109809</td>\n",
       "      <td>AQ Dracula HDD – 3.5 Inch SATA 6 Gb/s 5400 RPM...</td>\n",
       "      <td>Premium Plus</td>\n",
       "      <td>Internal HDD</td>\n",
       "    </tr>\n",
       "    <tr>\n",
       "      <th>2</th>\n",
       "      <td>India</td>\n",
       "      <td>A0118150103</td>\n",
       "      <td>109584</td>\n",
       "      <td>AQ Dracula HDD – 3.5 Inch SATA 6 Gb/s 5400 RPM...</td>\n",
       "      <td>Premium</td>\n",
       "      <td>Internal HDD</td>\n",
       "    </tr>\n",
       "    <tr>\n",
       "      <th>3</th>\n",
       "      <td>India</td>\n",
       "      <td>A0219150201</td>\n",
       "      <td>106249</td>\n",
       "      <td>AQ WereWolf NAS Internal Hard Drive HDD – 8.89 cm</td>\n",
       "      <td>Standard</td>\n",
       "      <td>Internal HDD</td>\n",
       "    </tr>\n",
       "    <tr>\n",
       "      <th>4</th>\n",
       "      <td>India</td>\n",
       "      <td>A0219150202</td>\n",
       "      <td>105134</td>\n",
       "      <td>AQ WereWolf NAS Internal Hard Drive HDD – 8.89 cm</td>\n",
       "      <td>Plus</td>\n",
       "      <td>Internal HDD</td>\n",
       "    </tr>\n",
       "    <tr>\n",
       "      <th>5</th>\n",
       "      <td>India</td>\n",
       "      <td>A0220150203</td>\n",
       "      <td>89193</td>\n",
       "      <td>AQ WereWolf NAS Internal Hard Drive HDD – 8.89 cm</td>\n",
       "      <td>Premium</td>\n",
       "      <td>Internal HDD</td>\n",
       "    </tr>\n",
       "    <tr>\n",
       "      <th>6</th>\n",
       "      <td>India</td>\n",
       "      <td>A0320150301</td>\n",
       "      <td>88436</td>\n",
       "      <td>AQ Zion Saga</td>\n",
       "      <td>Standard</td>\n",
       "      <td>Internal HDD</td>\n",
       "    </tr>\n",
       "    <tr>\n",
       "      <th>7</th>\n",
       "      <td>India</td>\n",
       "      <td>A0321150302</td>\n",
       "      <td>74282</td>\n",
       "      <td>AQ Zion Saga</td>\n",
       "      <td>Plus</td>\n",
       "      <td>Internal HDD</td>\n",
       "    </tr>\n",
       "    <tr>\n",
       "      <th>8</th>\n",
       "      <td>India</td>\n",
       "      <td>A0321150303</td>\n",
       "      <td>72191</td>\n",
       "      <td>AQ Zion Saga</td>\n",
       "      <td>Premium</td>\n",
       "      <td>Internal HDD</td>\n",
       "    </tr>\n",
       "    <tr>\n",
       "      <th>9</th>\n",
       "      <td>India</td>\n",
       "      <td>A0118150102</td>\n",
       "      <td>66344</td>\n",
       "      <td>AQ Dracula HDD – 3.5 Inch SATA 6 Gb/s 5400 RPM...</td>\n",
       "      <td>Plus</td>\n",
       "      <td>Internal HDD</td>\n",
       "    </tr>\n",
       "    <tr>\n",
       "      <th>10</th>\n",
       "      <td>India</td>\n",
       "      <td>A0118150101</td>\n",
       "      <td>65534</td>\n",
       "      <td>AQ Dracula HDD – 3.5 Inch SATA 6 Gb/s 5400 RPM...</td>\n",
       "      <td>Standard</td>\n",
       "      <td>Internal HDD</td>\n",
       "    </tr>\n",
       "    <tr>\n",
       "      <th>11</th>\n",
       "      <td>India</td>\n",
       "      <td>A0418150102</td>\n",
       "      <td>33361</td>\n",
       "      <td>AQ Mforce Gen X</td>\n",
       "      <td>Standard 2</td>\n",
       "      <td>Graphic Card</td>\n",
       "    </tr>\n",
       "    <tr>\n",
       "      <th>12</th>\n",
       "      <td>India</td>\n",
       "      <td>A0418150101</td>\n",
       "      <td>32811</td>\n",
       "      <td>AQ Mforce Gen X</td>\n",
       "      <td>Standard 1</td>\n",
       "      <td>Graphic Card</td>\n",
       "    </tr>\n",
       "    <tr>\n",
       "      <th>13</th>\n",
       "      <td>India</td>\n",
       "      <td>A0418150104</td>\n",
       "      <td>19549</td>\n",
       "      <td>AQ Mforce Gen X</td>\n",
       "      <td>Plus 1</td>\n",
       "      <td>Graphic Card</td>\n",
       "    </tr>\n",
       "    <tr>\n",
       "      <th>14</th>\n",
       "      <td>China</td>\n",
       "      <td>A0219150201</td>\n",
       "      <td>12686</td>\n",
       "      <td>AQ WereWolf NAS Internal Hard Drive HDD – 8.89 cm</td>\n",
       "      <td>Standard</td>\n",
       "      <td>Internal HDD</td>\n",
       "    </tr>\n",
       "    <tr>\n",
       "      <th>15</th>\n",
       "      <td>China</td>\n",
       "      <td>A0219150202</td>\n",
       "      <td>11353</td>\n",
       "      <td>AQ WereWolf NAS Internal Hard Drive HDD – 8.89 cm</td>\n",
       "      <td>Plus</td>\n",
       "      <td>Internal HDD</td>\n",
       "    </tr>\n",
       "    <tr>\n",
       "      <th>16</th>\n",
       "      <td>China</td>\n",
       "      <td>A0418150103</td>\n",
       "      <td>10582</td>\n",
       "      <td>AQ Mforce Gen X</td>\n",
       "      <td>Standard 3</td>\n",
       "      <td>Graphic Card</td>\n",
       "    </tr>\n",
       "    <tr>\n",
       "      <th>17</th>\n",
       "      <td>China</td>\n",
       "      <td>A0118150104</td>\n",
       "      <td>10572</td>\n",
       "      <td>AQ Dracula HDD – 3.5 Inch SATA 6 Gb/s 5400 RPM...</td>\n",
       "      <td>Premium Plus</td>\n",
       "      <td>Internal HDD</td>\n",
       "    </tr>\n",
       "    <tr>\n",
       "      <th>18</th>\n",
       "      <td>China</td>\n",
       "      <td>A0220150203</td>\n",
       "      <td>10508</td>\n",
       "      <td>AQ WereWolf NAS Internal Hard Drive HDD – 8.89 cm</td>\n",
       "      <td>Premium</td>\n",
       "      <td>Internal HDD</td>\n",
       "    </tr>\n",
       "    <tr>\n",
       "      <th>19</th>\n",
       "      <td>China</td>\n",
       "      <td>A0320150301</td>\n",
       "      <td>9828</td>\n",
       "      <td>AQ Zion Saga</td>\n",
       "      <td>Standard</td>\n",
       "      <td>Internal HDD</td>\n",
       "    </tr>\n",
       "    <tr>\n",
       "      <th>20</th>\n",
       "      <td>China</td>\n",
       "      <td>A0321150302</td>\n",
       "      <td>9583</td>\n",
       "      <td>AQ Zion Saga</td>\n",
       "      <td>Plus</td>\n",
       "      <td>Internal HDD</td>\n",
       "    </tr>\n",
       "    <tr>\n",
       "      <th>21</th>\n",
       "      <td>China</td>\n",
       "      <td>A0118150103</td>\n",
       "      <td>8600</td>\n",
       "      <td>AQ Dracula HDD – 3.5 Inch SATA 6 Gb/s 5400 RPM...</td>\n",
       "      <td>Premium</td>\n",
       "      <td>Internal HDD</td>\n",
       "    </tr>\n",
       "    <tr>\n",
       "      <th>22</th>\n",
       "      <td>China</td>\n",
       "      <td>A0321150303</td>\n",
       "      <td>7832</td>\n",
       "      <td>AQ Zion Saga</td>\n",
       "      <td>Premium</td>\n",
       "      <td>Internal HDD</td>\n",
       "    </tr>\n",
       "    <tr>\n",
       "      <th>23</th>\n",
       "      <td>China</td>\n",
       "      <td>A0118150101</td>\n",
       "      <td>6240</td>\n",
       "      <td>AQ Dracula HDD – 3.5 Inch SATA 6 Gb/s 5400 RPM...</td>\n",
       "      <td>Standard</td>\n",
       "      <td>Internal HDD</td>\n",
       "    </tr>\n",
       "    <tr>\n",
       "      <th>24</th>\n",
       "      <td>China</td>\n",
       "      <td>A0118150102</td>\n",
       "      <td>5811</td>\n",
       "      <td>AQ Dracula HDD – 3.5 Inch SATA 6 Gb/s 5400 RPM...</td>\n",
       "      <td>Plus</td>\n",
       "      <td>Internal HDD</td>\n",
       "    </tr>\n",
       "    <tr>\n",
       "      <th>25</th>\n",
       "      <td>China</td>\n",
       "      <td>A0418150102</td>\n",
       "      <td>1888</td>\n",
       "      <td>AQ Mforce Gen X</td>\n",
       "      <td>Standard 2</td>\n",
       "      <td>Graphic Card</td>\n",
       "    </tr>\n",
       "    <tr>\n",
       "      <th>26</th>\n",
       "      <td>China</td>\n",
       "      <td>A0418150101</td>\n",
       "      <td>1700</td>\n",
       "      <td>AQ Mforce Gen X</td>\n",
       "      <td>Standard 1</td>\n",
       "      <td>Graphic Card</td>\n",
       "    </tr>\n",
       "    <tr>\n",
       "      <th>27</th>\n",
       "      <td>China</td>\n",
       "      <td>A0418150104</td>\n",
       "      <td>454</td>\n",
       "      <td>AQ Mforce Gen X</td>\n",
       "      <td>Plus 1</td>\n",
       "      <td>Graphic Card</td>\n",
       "    </tr>\n",
       "  </tbody>\n",
       "</table>\n",
       "</div>"
      ],
      "text/plain": [
       "   market product_code  quantity_sold  \\\n",
       "0   India  A0418150103         115233   \n",
       "1   India  A0118150104         109809   \n",
       "2   India  A0118150103         109584   \n",
       "3   India  A0219150201         106249   \n",
       "4   India  A0219150202         105134   \n",
       "5   India  A0220150203          89193   \n",
       "6   India  A0320150301          88436   \n",
       "7   India  A0321150302          74282   \n",
       "8   India  A0321150303          72191   \n",
       "9   India  A0118150102          66344   \n",
       "10  India  A0118150101          65534   \n",
       "11  India  A0418150102          33361   \n",
       "12  India  A0418150101          32811   \n",
       "13  India  A0418150104          19549   \n",
       "14  China  A0219150201          12686   \n",
       "15  China  A0219150202          11353   \n",
       "16  China  A0418150103          10582   \n",
       "17  China  A0118150104          10572   \n",
       "18  China  A0220150203          10508   \n",
       "19  China  A0320150301           9828   \n",
       "20  China  A0321150302           9583   \n",
       "21  China  A0118150103           8600   \n",
       "22  China  A0321150303           7832   \n",
       "23  China  A0118150101           6240   \n",
       "24  China  A0118150102           5811   \n",
       "25  China  A0418150102           1888   \n",
       "26  China  A0418150101           1700   \n",
       "27  China  A0418150104            454   \n",
       "\n",
       "                                              product       variant  \\\n",
       "0                                     AQ Mforce Gen X    Standard 3   \n",
       "1   AQ Dracula HDD – 3.5 Inch SATA 6 Gb/s 5400 RPM...  Premium Plus   \n",
       "2   AQ Dracula HDD – 3.5 Inch SATA 6 Gb/s 5400 RPM...       Premium   \n",
       "3   AQ WereWolf NAS Internal Hard Drive HDD – 8.89 cm      Standard   \n",
       "4   AQ WereWolf NAS Internal Hard Drive HDD – 8.89 cm          Plus   \n",
       "5   AQ WereWolf NAS Internal Hard Drive HDD – 8.89 cm       Premium   \n",
       "6                                        AQ Zion Saga      Standard   \n",
       "7                                        AQ Zion Saga          Plus   \n",
       "8                                        AQ Zion Saga       Premium   \n",
       "9   AQ Dracula HDD – 3.5 Inch SATA 6 Gb/s 5400 RPM...          Plus   \n",
       "10  AQ Dracula HDD – 3.5 Inch SATA 6 Gb/s 5400 RPM...      Standard   \n",
       "11                                    AQ Mforce Gen X    Standard 2   \n",
       "12                                    AQ Mforce Gen X    Standard 1   \n",
       "13                                    AQ Mforce Gen X        Plus 1   \n",
       "14  AQ WereWolf NAS Internal Hard Drive HDD – 8.89 cm      Standard   \n",
       "15  AQ WereWolf NAS Internal Hard Drive HDD – 8.89 cm          Plus   \n",
       "16                                    AQ Mforce Gen X    Standard 3   \n",
       "17  AQ Dracula HDD – 3.5 Inch SATA 6 Gb/s 5400 RPM...  Premium Plus   \n",
       "18  AQ WereWolf NAS Internal Hard Drive HDD – 8.89 cm       Premium   \n",
       "19                                       AQ Zion Saga      Standard   \n",
       "20                                       AQ Zion Saga          Plus   \n",
       "21  AQ Dracula HDD – 3.5 Inch SATA 6 Gb/s 5400 RPM...       Premium   \n",
       "22                                       AQ Zion Saga       Premium   \n",
       "23  AQ Dracula HDD – 3.5 Inch SATA 6 Gb/s 5400 RPM...      Standard   \n",
       "24  AQ Dracula HDD – 3.5 Inch SATA 6 Gb/s 5400 RPM...          Plus   \n",
       "25                                    AQ Mforce Gen X    Standard 2   \n",
       "26                                    AQ Mforce Gen X    Standard 1   \n",
       "27                                    AQ Mforce Gen X        Plus 1   \n",
       "\n",
       "        category  \n",
       "0   Graphic Card  \n",
       "1   Internal HDD  \n",
       "2   Internal HDD  \n",
       "3   Internal HDD  \n",
       "4   Internal HDD  \n",
       "5   Internal HDD  \n",
       "6   Internal HDD  \n",
       "7   Internal HDD  \n",
       "8   Internal HDD  \n",
       "9   Internal HDD  \n",
       "10  Internal HDD  \n",
       "11  Graphic Card  \n",
       "12  Graphic Card  \n",
       "13  Graphic Card  \n",
       "14  Internal HDD  \n",
       "15  Internal HDD  \n",
       "16  Graphic Card  \n",
       "17  Internal HDD  \n",
       "18  Internal HDD  \n",
       "19  Internal HDD  \n",
       "20  Internal HDD  \n",
       "21  Internal HDD  \n",
       "22  Internal HDD  \n",
       "23  Internal HDD  \n",
       "24  Internal HDD  \n",
       "25  Graphic Card  \n",
       "26  Graphic Card  \n",
       "27  Graphic Card  "
      ]
     },
     "execution_count": 32,
     "metadata": {},
     "output_type": "execute_result"
    }
   ],
   "source": [
    "top_product_qry =\"\"\"\n",
    "Select distinct\n",
    "    dim_customer.market,\n",
    "    fact_sales_monthly.product_code,\n",
    "    SUM(fact_sales_monthly.sold_quantity) as 'quantity_sold',\n",
    "    dim_product.product,\n",
    "    dim_product.variant,\n",
    "    dim_product.category\n",
    "From \n",
    "    dim_customer\n",
    "Left join\n",
    "    fact_sales_monthly on fact_sales_monthly.customer_code = dim_customer.customer_code\n",
    "Left join \n",
    "    dim_product on dim_product.product_code = fact_sales_monthly.product_code\n",
    "Where \n",
    "    dim_customer.market = 'China'\n",
    "    or dim_customer.market = 'India'\n",
    "Group by \n",
    "    dim_customer.market,\n",
    "    fact_sales_monthly.product_code,\n",
    "    dim_product.product,\n",
    "    dim_product.variant\n",
    "Order by\n",
    "    SUM(fact_sales_monthly.sold_quantity) desc\n",
    "\"\"\"\n",
    "\n",
    "top_product = pd.read_sql_query(top_product_qry, con)\n",
    "top_product"
   ]
  },
  {
   "cell_type": "markdown",
   "id": "1c5649fd",
   "metadata": {},
   "source": [
    "Firstly, it's notable that graphic cards and internal HDDs dominate as the most sought-after products in both India and China. However, there's a stark contrast in sales figures, with India outpacing China significantly. This variance could be attributed to potential marketing gaps in China, despite its immense market potential and large consumer base.\n",
    "\n",
    "Furthermore, it's intriguing to observe that the top-selling items in both countries largely align, indicating a universal demand for certain tech products across these regions."
   ]
  },
  {
   "cell_type": "markdown",
   "id": "f7fa495d",
   "metadata": {},
   "source": [
    "### Effect of Pre-Invoice Discounts on Sales"
   ]
  },
  {
   "cell_type": "code",
   "execution_count": 33,
   "id": "ce135f87",
   "metadata": {
    "scrolled": false
   },
   "outputs": [
    {
     "data": {
      "text/html": [
       "<div>\n",
       "<style scoped>\n",
       "    .dataframe tbody tr th:only-of-type {\n",
       "        vertical-align: middle;\n",
       "    }\n",
       "\n",
       "    .dataframe tbody tr th {\n",
       "        vertical-align: top;\n",
       "    }\n",
       "\n",
       "    .dataframe thead th {\n",
       "        text-align: right;\n",
       "    }\n",
       "</style>\n",
       "<table border=\"1\" class=\"dataframe\">\n",
       "  <thead>\n",
       "    <tr style=\"text-align: right;\">\n",
       "      <th></th>\n",
       "      <th>customer_code</th>\n",
       "      <th>fiscal_year</th>\n",
       "      <th>pre_invoice_discount_pct</th>\n",
       "    </tr>\n",
       "  </thead>\n",
       "  <tbody>\n",
       "    <tr>\n",
       "      <th>0</th>\n",
       "      <td>70002017</td>\n",
       "      <td>2018</td>\n",
       "      <td>0.0824</td>\n",
       "    </tr>\n",
       "    <tr>\n",
       "      <th>1</th>\n",
       "      <td>70002017</td>\n",
       "      <td>2019</td>\n",
       "      <td>0.0777</td>\n",
       "    </tr>\n",
       "    <tr>\n",
       "      <th>2</th>\n",
       "      <td>70002017</td>\n",
       "      <td>2020</td>\n",
       "      <td>0.0735</td>\n",
       "    </tr>\n",
       "    <tr>\n",
       "      <th>3</th>\n",
       "      <td>70002017</td>\n",
       "      <td>2021</td>\n",
       "      <td>0.0703</td>\n",
       "    </tr>\n",
       "    <tr>\n",
       "      <th>4</th>\n",
       "      <td>70002017</td>\n",
       "      <td>2022</td>\n",
       "      <td>0.1057</td>\n",
       "    </tr>\n",
       "    <tr>\n",
       "      <th>...</th>\n",
       "      <td>...</td>\n",
       "      <td>...</td>\n",
       "      <td>...</td>\n",
       "    </tr>\n",
       "    <tr>\n",
       "      <th>1040</th>\n",
       "      <td>90027207</td>\n",
       "      <td>2018</td>\n",
       "      <td>0.2803</td>\n",
       "    </tr>\n",
       "    <tr>\n",
       "      <th>1041</th>\n",
       "      <td>90027207</td>\n",
       "      <td>2019</td>\n",
       "      <td>0.2248</td>\n",
       "    </tr>\n",
       "    <tr>\n",
       "      <th>1042</th>\n",
       "      <td>90027207</td>\n",
       "      <td>2020</td>\n",
       "      <td>0.2386</td>\n",
       "    </tr>\n",
       "    <tr>\n",
       "      <th>1043</th>\n",
       "      <td>90027207</td>\n",
       "      <td>2021</td>\n",
       "      <td>0.2772</td>\n",
       "    </tr>\n",
       "    <tr>\n",
       "      <th>1044</th>\n",
       "      <td>90027207</td>\n",
       "      <td>2022</td>\n",
       "      <td>0.2317</td>\n",
       "    </tr>\n",
       "  </tbody>\n",
       "</table>\n",
       "<p>1045 rows × 3 columns</p>\n",
       "</div>"
      ],
      "text/plain": [
       "      customer_code  fiscal_year  pre_invoice_discount_pct\n",
       "0          70002017         2018                    0.0824\n",
       "1          70002017         2019                    0.0777\n",
       "2          70002017         2020                    0.0735\n",
       "3          70002017         2021                    0.0703\n",
       "4          70002017         2022                    0.1057\n",
       "...             ...          ...                       ...\n",
       "1040       90027207         2018                    0.2803\n",
       "1041       90027207         2019                    0.2248\n",
       "1042       90027207         2020                    0.2386\n",
       "1043       90027207         2021                    0.2772\n",
       "1044       90027207         2022                    0.2317\n",
       "\n",
       "[1045 rows x 3 columns]"
      ]
     },
     "execution_count": 33,
     "metadata": {},
     "output_type": "execute_result"
    }
   ],
   "source": [
    "fact_pre_discount"
   ]
  },
  {
   "cell_type": "code",
   "execution_count": 34,
   "id": "8b88381c",
   "metadata": {},
   "outputs": [
    {
     "data": {
      "text/html": [
       "<div>\n",
       "<style scoped>\n",
       "    .dataframe tbody tr th:only-of-type {\n",
       "        vertical-align: middle;\n",
       "    }\n",
       "\n",
       "    .dataframe tbody tr th {\n",
       "        vertical-align: top;\n",
       "    }\n",
       "\n",
       "    .dataframe thead th {\n",
       "        text-align: right;\n",
       "    }\n",
       "</style>\n",
       "<table border=\"1\" class=\"dataframe\">\n",
       "  <thead>\n",
       "    <tr style=\"text-align: right;\">\n",
       "      <th></th>\n",
       "      <th>date</th>\n",
       "      <th>product_code</th>\n",
       "      <th>customer_code</th>\n",
       "      <th>sold_quantity</th>\n",
       "      <th>fiscal_year</th>\n",
       "    </tr>\n",
       "  </thead>\n",
       "  <tbody>\n",
       "    <tr>\n",
       "      <th>0</th>\n",
       "      <td>2017-09-01</td>\n",
       "      <td>A0118150101</td>\n",
       "      <td>70002017.0</td>\n",
       "      <td>51.0</td>\n",
       "      <td>2018.0</td>\n",
       "    </tr>\n",
       "    <tr>\n",
       "      <th>1</th>\n",
       "      <td>2017-09-01</td>\n",
       "      <td>A0118150101</td>\n",
       "      <td>70002018.0</td>\n",
       "      <td>77.0</td>\n",
       "      <td>2018.0</td>\n",
       "    </tr>\n",
       "    <tr>\n",
       "      <th>2</th>\n",
       "      <td>2017-09-01</td>\n",
       "      <td>A0118150101</td>\n",
       "      <td>70003181.0</td>\n",
       "      <td>17.0</td>\n",
       "      <td>2018.0</td>\n",
       "    </tr>\n",
       "    <tr>\n",
       "      <th>3</th>\n",
       "      <td>2017-09-01</td>\n",
       "      <td>A0118150101</td>\n",
       "      <td>70003182.0</td>\n",
       "      <td>6.0</td>\n",
       "      <td>2018.0</td>\n",
       "    </tr>\n",
       "    <tr>\n",
       "      <th>4</th>\n",
       "      <td>2017-09-01</td>\n",
       "      <td>A0118150101</td>\n",
       "      <td>70006157.0</td>\n",
       "      <td>5.0</td>\n",
       "      <td>2018.0</td>\n",
       "    </tr>\n",
       "    <tr>\n",
       "      <th>...</th>\n",
       "      <td>...</td>\n",
       "      <td>...</td>\n",
       "      <td>...</td>\n",
       "      <td>...</td>\n",
       "      <td>...</td>\n",
       "    </tr>\n",
       "    <tr>\n",
       "      <th>67246</th>\n",
       "      <td>2019-06-01</td>\n",
       "      <td>A0418150104</td>\n",
       "      <td>90013124.0</td>\n",
       "      <td>16.0</td>\n",
       "      <td>2019.0</td>\n",
       "    </tr>\n",
       "    <tr>\n",
       "      <th>67247</th>\n",
       "      <td>2019-06-01</td>\n",
       "      <td>A0418150104</td>\n",
       "      <td>90014136.0</td>\n",
       "      <td>2.0</td>\n",
       "      <td>2019.0</td>\n",
       "    </tr>\n",
       "    <tr>\n",
       "      <th>67248</th>\n",
       "      <td>2019-06-01</td>\n",
       "      <td>A0418150104</td>\n",
       "      <td>90014137.0</td>\n",
       "      <td>1.0</td>\n",
       "      <td>2019.0</td>\n",
       "    </tr>\n",
       "    <tr>\n",
       "      <th>67249</th>\n",
       "      <td>2019-06-01</td>\n",
       "      <td>A0418150104</td>\n",
       "      <td>90014140.0</td>\n",
       "      <td>3.0</td>\n",
       "      <td>2019.0</td>\n",
       "    </tr>\n",
       "    <tr>\n",
       "      <th>67250</th>\n",
       "      <td>2019-06-01</td>\n",
       "      <td>A0</td>\n",
       "      <td>NaN</td>\n",
       "      <td>NaN</td>\n",
       "      <td>NaN</td>\n",
       "    </tr>\n",
       "  </tbody>\n",
       "</table>\n",
       "<p>67251 rows × 5 columns</p>\n",
       "</div>"
      ],
      "text/plain": [
       "             date product_code  customer_code  sold_quantity  fiscal_year\n",
       "0      2017-09-01  A0118150101     70002017.0           51.0       2018.0\n",
       "1      2017-09-01  A0118150101     70002018.0           77.0       2018.0\n",
       "2      2017-09-01  A0118150101     70003181.0           17.0       2018.0\n",
       "3      2017-09-01  A0118150101     70003182.0            6.0       2018.0\n",
       "4      2017-09-01  A0118150101     70006157.0            5.0       2018.0\n",
       "...           ...          ...            ...            ...          ...\n",
       "67246  2019-06-01  A0418150104     90013124.0           16.0       2019.0\n",
       "67247  2019-06-01  A0418150104     90014136.0            2.0       2019.0\n",
       "67248  2019-06-01  A0418150104     90014137.0            1.0       2019.0\n",
       "67249  2019-06-01  A0418150104     90014140.0            3.0       2019.0\n",
       "67250  2019-06-01           A0            NaN            NaN          NaN\n",
       "\n",
       "[67251 rows x 5 columns]"
      ]
     },
     "execution_count": 34,
     "metadata": {},
     "output_type": "execute_result"
    }
   ],
   "source": [
    "fact_sales_monthly"
   ]
  },
  {
   "cell_type": "code",
   "execution_count": 35,
   "id": "2bda7e72",
   "metadata": {
    "scrolled": false
   },
   "outputs": [
    {
     "data": {
      "text/html": [
       "<div>\n",
       "<style scoped>\n",
       "    .dataframe tbody tr th:only-of-type {\n",
       "        vertical-align: middle;\n",
       "    }\n",
       "\n",
       "    .dataframe tbody tr th {\n",
       "        vertical-align: top;\n",
       "    }\n",
       "\n",
       "    .dataframe thead th {\n",
       "        text-align: right;\n",
       "    }\n",
       "</style>\n",
       "<table border=\"1\" class=\"dataframe\">\n",
       "  <thead>\n",
       "    <tr style=\"text-align: right;\">\n",
       "      <th></th>\n",
       "      <th>customer_code</th>\n",
       "      <th>fiscal_year</th>\n",
       "      <th>persent_of_discount</th>\n",
       "      <th>quantity_sold</th>\n",
       "    </tr>\n",
       "  </thead>\n",
       "  <tbody>\n",
       "    <tr>\n",
       "      <th>0</th>\n",
       "      <td>70002017</td>\n",
       "      <td>2018</td>\n",
       "      <td>8.24</td>\n",
       "      <td>3782.0</td>\n",
       "    </tr>\n",
       "    <tr>\n",
       "      <th>1</th>\n",
       "      <td>70002017</td>\n",
       "      <td>2019</td>\n",
       "      <td>7.77</td>\n",
       "      <td>7063.0</td>\n",
       "    </tr>\n",
       "    <tr>\n",
       "      <th>2</th>\n",
       "      <td>70002017</td>\n",
       "      <td>2020</td>\n",
       "      <td>7.35</td>\n",
       "      <td>6987.0</td>\n",
       "    </tr>\n",
       "    <tr>\n",
       "      <th>3</th>\n",
       "      <td>70002017</td>\n",
       "      <td>2021</td>\n",
       "      <td>7.03</td>\n",
       "      <td>14876.0</td>\n",
       "    </tr>\n",
       "    <tr>\n",
       "      <th>4</th>\n",
       "      <td>70002017</td>\n",
       "      <td>2022</td>\n",
       "      <td>10.57</td>\n",
       "      <td>20405.0</td>\n",
       "    </tr>\n",
       "    <tr>\n",
       "      <th>5</th>\n",
       "      <td>70002018</td>\n",
       "      <td>2018</td>\n",
       "      <td>29.56</td>\n",
       "      <td>3992.0</td>\n",
       "    </tr>\n",
       "    <tr>\n",
       "      <th>6</th>\n",
       "      <td>70002018</td>\n",
       "      <td>2019</td>\n",
       "      <td>25.77</td>\n",
       "      <td>7083.0</td>\n",
       "    </tr>\n",
       "    <tr>\n",
       "      <th>7</th>\n",
       "      <td>70002018</td>\n",
       "      <td>2020</td>\n",
       "      <td>22.55</td>\n",
       "      <td>11200.0</td>\n",
       "    </tr>\n",
       "    <tr>\n",
       "      <th>8</th>\n",
       "      <td>70002018</td>\n",
       "      <td>2021</td>\n",
       "      <td>20.61</td>\n",
       "      <td>16113.0</td>\n",
       "    </tr>\n",
       "    <tr>\n",
       "      <th>9</th>\n",
       "      <td>70002018</td>\n",
       "      <td>2022</td>\n",
       "      <td>29.31</td>\n",
       "      <td>22750.0</td>\n",
       "    </tr>\n",
       "    <tr>\n",
       "      <th>10</th>\n",
       "      <td>70003181</td>\n",
       "      <td>2018</td>\n",
       "      <td>5.36</td>\n",
       "      <td>1193.0</td>\n",
       "    </tr>\n",
       "    <tr>\n",
       "      <th>11</th>\n",
       "      <td>70003181</td>\n",
       "      <td>2019</td>\n",
       "      <td>5.46</td>\n",
       "      <td>2649.0</td>\n",
       "    </tr>\n",
       "    <tr>\n",
       "      <th>12</th>\n",
       "      <td>70003181</td>\n",
       "      <td>2020</td>\n",
       "      <td>5.31</td>\n",
       "      <td>3336.0</td>\n",
       "    </tr>\n",
       "    <tr>\n",
       "      <th>13</th>\n",
       "      <td>70003181</td>\n",
       "      <td>2021</td>\n",
       "      <td>9.74</td>\n",
       "      <td>7508.0</td>\n",
       "    </tr>\n",
       "    <tr>\n",
       "      <th>14</th>\n",
       "      <td>70003181</td>\n",
       "      <td>2022</td>\n",
       "      <td>7.27</td>\n",
       "      <td>11312.0</td>\n",
       "    </tr>\n",
       "    <tr>\n",
       "      <th>15</th>\n",
       "      <td>70003182</td>\n",
       "      <td>2018</td>\n",
       "      <td>23.78</td>\n",
       "      <td>1033.0</td>\n",
       "    </tr>\n",
       "    <tr>\n",
       "      <th>16</th>\n",
       "      <td>70003182</td>\n",
       "      <td>2019</td>\n",
       "      <td>20.23</td>\n",
       "      <td>2529.0</td>\n",
       "    </tr>\n",
       "    <tr>\n",
       "      <th>17</th>\n",
       "      <td>70003182</td>\n",
       "      <td>2020</td>\n",
       "      <td>18.23</td>\n",
       "      <td>5630.0</td>\n",
       "    </tr>\n",
       "    <tr>\n",
       "      <th>18</th>\n",
       "      <td>70003182</td>\n",
       "      <td>2021</td>\n",
       "      <td>20.65</td>\n",
       "      <td>7568.0</td>\n",
       "    </tr>\n",
       "    <tr>\n",
       "      <th>19</th>\n",
       "      <td>70003182</td>\n",
       "      <td>2022</td>\n",
       "      <td>21.47</td>\n",
       "      <td>10563.0</td>\n",
       "    </tr>\n",
       "    <tr>\n",
       "      <th>20</th>\n",
       "      <td>70004069</td>\n",
       "      <td>2018</td>\n",
       "      <td>5.47</td>\n",
       "      <td>NaN</td>\n",
       "    </tr>\n",
       "    <tr>\n",
       "      <th>21</th>\n",
       "      <td>70004069</td>\n",
       "      <td>2019</td>\n",
       "      <td>9.97</td>\n",
       "      <td>NaN</td>\n",
       "    </tr>\n",
       "    <tr>\n",
       "      <th>22</th>\n",
       "      <td>70004069</td>\n",
       "      <td>2020</td>\n",
       "      <td>5.76</td>\n",
       "      <td>473.0</td>\n",
       "    </tr>\n",
       "    <tr>\n",
       "      <th>23</th>\n",
       "      <td>70004069</td>\n",
       "      <td>2021</td>\n",
       "      <td>10.68</td>\n",
       "      <td>1074.0</td>\n",
       "    </tr>\n",
       "    <tr>\n",
       "      <th>24</th>\n",
       "      <td>70004069</td>\n",
       "      <td>2022</td>\n",
       "      <td>8.95</td>\n",
       "      <td>1446.0</td>\n",
       "    </tr>\n",
       "    <tr>\n",
       "      <th>25</th>\n",
       "      <td>70004070</td>\n",
       "      <td>2018</td>\n",
       "      <td>30.33</td>\n",
       "      <td>NaN</td>\n",
       "    </tr>\n",
       "    <tr>\n",
       "      <th>26</th>\n",
       "      <td>70004070</td>\n",
       "      <td>2019</td>\n",
       "      <td>25.26</td>\n",
       "      <td>NaN</td>\n",
       "    </tr>\n",
       "    <tr>\n",
       "      <th>27</th>\n",
       "      <td>70004070</td>\n",
       "      <td>2020</td>\n",
       "      <td>20.54</td>\n",
       "      <td>862.0</td>\n",
       "    </tr>\n",
       "    <tr>\n",
       "      <th>28</th>\n",
       "      <td>70004070</td>\n",
       "      <td>2021</td>\n",
       "      <td>26.12</td>\n",
       "      <td>1101.0</td>\n",
       "    </tr>\n",
       "    <tr>\n",
       "      <th>29</th>\n",
       "      <td>70004070</td>\n",
       "      <td>2022</td>\n",
       "      <td>21.92</td>\n",
       "      <td>1399.0</td>\n",
       "    </tr>\n",
       "    <tr>\n",
       "      <th>30</th>\n",
       "      <td>70005163</td>\n",
       "      <td>2018</td>\n",
       "      <td>30.98</td>\n",
       "      <td>NaN</td>\n",
       "    </tr>\n",
       "    <tr>\n",
       "      <th>31</th>\n",
       "      <td>70005163</td>\n",
       "      <td>2019</td>\n",
       "      <td>23.70</td>\n",
       "      <td>589.0</td>\n",
       "    </tr>\n",
       "    <tr>\n",
       "      <th>32</th>\n",
       "      <td>70005163</td>\n",
       "      <td>2020</td>\n",
       "      <td>25.78</td>\n",
       "      <td>3170.0</td>\n",
       "    </tr>\n",
       "    <tr>\n",
       "      <th>33</th>\n",
       "      <td>70005163</td>\n",
       "      <td>2021</td>\n",
       "      <td>24.71</td>\n",
       "      <td>1927.0</td>\n",
       "    </tr>\n",
       "    <tr>\n",
       "      <th>34</th>\n",
       "      <td>70005163</td>\n",
       "      <td>2022</td>\n",
       "      <td>29.49</td>\n",
       "      <td>2637.0</td>\n",
       "    </tr>\n",
       "    <tr>\n",
       "      <th>35</th>\n",
       "      <td>70006157</td>\n",
       "      <td>2018</td>\n",
       "      <td>10.57</td>\n",
       "      <td>568.0</td>\n",
       "    </tr>\n",
       "    <tr>\n",
       "      <th>36</th>\n",
       "      <td>70006157</td>\n",
       "      <td>2019</td>\n",
       "      <td>9.72</td>\n",
       "      <td>2227.0</td>\n",
       "    </tr>\n",
       "    <tr>\n",
       "      <th>37</th>\n",
       "      <td>70006157</td>\n",
       "      <td>2020</td>\n",
       "      <td>7.65</td>\n",
       "      <td>2770.0</td>\n",
       "    </tr>\n",
       "    <tr>\n",
       "      <th>38</th>\n",
       "      <td>70006157</td>\n",
       "      <td>2021</td>\n",
       "      <td>8.58</td>\n",
       "      <td>3957.0</td>\n",
       "    </tr>\n",
       "    <tr>\n",
       "      <th>39</th>\n",
       "      <td>70006157</td>\n",
       "      <td>2022</td>\n",
       "      <td>5.52</td>\n",
       "      <td>5736.0</td>\n",
       "    </tr>\n",
       "    <tr>\n",
       "      <th>40</th>\n",
       "      <td>70006158</td>\n",
       "      <td>2018</td>\n",
       "      <td>18.75</td>\n",
       "      <td>517.0</td>\n",
       "    </tr>\n",
       "    <tr>\n",
       "      <th>41</th>\n",
       "      <td>70006158</td>\n",
       "      <td>2019</td>\n",
       "      <td>19.62</td>\n",
       "      <td>1921.0</td>\n",
       "    </tr>\n",
       "    <tr>\n",
       "      <th>42</th>\n",
       "      <td>70006158</td>\n",
       "      <td>2020</td>\n",
       "      <td>23.91</td>\n",
       "      <td>4533.0</td>\n",
       "    </tr>\n",
       "    <tr>\n",
       "      <th>43</th>\n",
       "      <td>70006158</td>\n",
       "      <td>2021</td>\n",
       "      <td>24.50</td>\n",
       "      <td>4116.0</td>\n",
       "    </tr>\n",
       "    <tr>\n",
       "      <th>44</th>\n",
       "      <td>70006158</td>\n",
       "      <td>2022</td>\n",
       "      <td>20.91</td>\n",
       "      <td>5928.0</td>\n",
       "    </tr>\n",
       "    <tr>\n",
       "      <th>45</th>\n",
       "      <td>70007198</td>\n",
       "      <td>2018</td>\n",
       "      <td>7.00</td>\n",
       "      <td>2433.0</td>\n",
       "    </tr>\n",
       "    <tr>\n",
       "      <th>46</th>\n",
       "      <td>70007198</td>\n",
       "      <td>2019</td>\n",
       "      <td>5.34</td>\n",
       "      <td>3915.0</td>\n",
       "    </tr>\n",
       "    <tr>\n",
       "      <th>47</th>\n",
       "      <td>70007198</td>\n",
       "      <td>2020</td>\n",
       "      <td>7.03</td>\n",
       "      <td>4909.0</td>\n",
       "    </tr>\n",
       "    <tr>\n",
       "      <th>48</th>\n",
       "      <td>70007198</td>\n",
       "      <td>2021</td>\n",
       "      <td>7.36</td>\n",
       "      <td>7400.0</td>\n",
       "    </tr>\n",
       "    <tr>\n",
       "      <th>49</th>\n",
       "      <td>70007198</td>\n",
       "      <td>2022</td>\n",
       "      <td>9.77</td>\n",
       "      <td>10444.0</td>\n",
       "    </tr>\n",
       "  </tbody>\n",
       "</table>\n",
       "</div>"
      ],
      "text/plain": [
       "    customer_code  fiscal_year  persent_of_discount  quantity_sold\n",
       "0        70002017         2018                 8.24         3782.0\n",
       "1        70002017         2019                 7.77         7063.0\n",
       "2        70002017         2020                 7.35         6987.0\n",
       "3        70002017         2021                 7.03        14876.0\n",
       "4        70002017         2022                10.57        20405.0\n",
       "5        70002018         2018                29.56         3992.0\n",
       "6        70002018         2019                25.77         7083.0\n",
       "7        70002018         2020                22.55        11200.0\n",
       "8        70002018         2021                20.61        16113.0\n",
       "9        70002018         2022                29.31        22750.0\n",
       "10       70003181         2018                 5.36         1193.0\n",
       "11       70003181         2019                 5.46         2649.0\n",
       "12       70003181         2020                 5.31         3336.0\n",
       "13       70003181         2021                 9.74         7508.0\n",
       "14       70003181         2022                 7.27        11312.0\n",
       "15       70003182         2018                23.78         1033.0\n",
       "16       70003182         2019                20.23         2529.0\n",
       "17       70003182         2020                18.23         5630.0\n",
       "18       70003182         2021                20.65         7568.0\n",
       "19       70003182         2022                21.47        10563.0\n",
       "20       70004069         2018                 5.47            NaN\n",
       "21       70004069         2019                 9.97            NaN\n",
       "22       70004069         2020                 5.76          473.0\n",
       "23       70004069         2021                10.68         1074.0\n",
       "24       70004069         2022                 8.95         1446.0\n",
       "25       70004070         2018                30.33            NaN\n",
       "26       70004070         2019                25.26            NaN\n",
       "27       70004070         2020                20.54          862.0\n",
       "28       70004070         2021                26.12         1101.0\n",
       "29       70004070         2022                21.92         1399.0\n",
       "30       70005163         2018                30.98            NaN\n",
       "31       70005163         2019                23.70          589.0\n",
       "32       70005163         2020                25.78         3170.0\n",
       "33       70005163         2021                24.71         1927.0\n",
       "34       70005163         2022                29.49         2637.0\n",
       "35       70006157         2018                10.57          568.0\n",
       "36       70006157         2019                 9.72         2227.0\n",
       "37       70006157         2020                 7.65         2770.0\n",
       "38       70006157         2021                 8.58         3957.0\n",
       "39       70006157         2022                 5.52         5736.0\n",
       "40       70006158         2018                18.75          517.0\n",
       "41       70006158         2019                19.62         1921.0\n",
       "42       70006158         2020                23.91         4533.0\n",
       "43       70006158         2021                24.50         4116.0\n",
       "44       70006158         2022                20.91         5928.0\n",
       "45       70007198         2018                 7.00         2433.0\n",
       "46       70007198         2019                 5.34         3915.0\n",
       "47       70007198         2020                 7.03         4909.0\n",
       "48       70007198         2021                 7.36         7400.0\n",
       "49       70007198         2022                 9.77        10444.0"
      ]
     },
     "execution_count": 35,
     "metadata": {},
     "output_type": "execute_result"
    }
   ],
   "source": [
    "discounts_qry = \"\"\"\n",
    "Select distinct\n",
    "    fact_pre_discount.customer_code,\n",
    "    fact_pre_discount.fiscal_year,\n",
    "    fact_pre_discount.pre_invoice_discount_pct * 100 as persent_of_discount,\n",
    "    SUM(fact_sales_monthly.sold_quantity) as quantity_sold\n",
    "From \n",
    "    fact_pre_discount \n",
    "Left join \n",
    "    fact_sales_monthly on fact_sales_monthly.customer_code = fact_pre_discount.customer_code\n",
    "    and fact_sales_monthly.fiscal_year = fact_pre_discount.fiscal_year\n",
    "Group by \n",
    "    fact_pre_discount.customer_code,\n",
    "    fact_pre_discount.fiscal_year,\n",
    "    fact_pre_discount.pre_invoice_discount_pct \n",
    "\"\"\"\n",
    "\n",
    "discounts = pd.read_sql_query(discounts_qry, con)\n",
    "discounts.head(50)"
   ]
  },
  {
   "cell_type": "markdown",
   "id": "3ebac2aa",
   "metadata": {},
   "source": [
    "Based on the table, it is evident that regardless of the discount size, the number of sales per customer increases yearly. Therefore, we cannot conclusively say that the discount has a significant effect on sales."
   ]
  },
  {
   "cell_type": "markdown",
   "id": "808439ae",
   "metadata": {},
   "source": [
    "### Seasonal Trends in Sales"
   ]
  },
  {
   "cell_type": "code",
   "execution_count": 36,
   "id": "b2218da9",
   "metadata": {},
   "outputs": [
    {
     "data": {
      "text/html": [
       "<div>\n",
       "<style scoped>\n",
       "    .dataframe tbody tr th:only-of-type {\n",
       "        vertical-align: middle;\n",
       "    }\n",
       "\n",
       "    .dataframe tbody tr th {\n",
       "        vertical-align: top;\n",
       "    }\n",
       "\n",
       "    .dataframe thead th {\n",
       "        text-align: right;\n",
       "    }\n",
       "</style>\n",
       "<table border=\"1\" class=\"dataframe\">\n",
       "  <thead>\n",
       "    <tr style=\"text-align: right;\">\n",
       "      <th></th>\n",
       "      <th>date</th>\n",
       "      <th>product_code</th>\n",
       "      <th>customer_code</th>\n",
       "      <th>sold_quantity</th>\n",
       "      <th>fiscal_year</th>\n",
       "    </tr>\n",
       "  </thead>\n",
       "  <tbody>\n",
       "    <tr>\n",
       "      <th>0</th>\n",
       "      <td>2017-09-01</td>\n",
       "      <td>A0118150101</td>\n",
       "      <td>70002017.0</td>\n",
       "      <td>51.0</td>\n",
       "      <td>2018.0</td>\n",
       "    </tr>\n",
       "    <tr>\n",
       "      <th>1</th>\n",
       "      <td>2017-09-01</td>\n",
       "      <td>A0118150101</td>\n",
       "      <td>70002018.0</td>\n",
       "      <td>77.0</td>\n",
       "      <td>2018.0</td>\n",
       "    </tr>\n",
       "    <tr>\n",
       "      <th>2</th>\n",
       "      <td>2017-09-01</td>\n",
       "      <td>A0118150101</td>\n",
       "      <td>70003181.0</td>\n",
       "      <td>17.0</td>\n",
       "      <td>2018.0</td>\n",
       "    </tr>\n",
       "    <tr>\n",
       "      <th>3</th>\n",
       "      <td>2017-09-01</td>\n",
       "      <td>A0118150101</td>\n",
       "      <td>70003182.0</td>\n",
       "      <td>6.0</td>\n",
       "      <td>2018.0</td>\n",
       "    </tr>\n",
       "    <tr>\n",
       "      <th>4</th>\n",
       "      <td>2017-09-01</td>\n",
       "      <td>A0118150101</td>\n",
       "      <td>70006157.0</td>\n",
       "      <td>5.0</td>\n",
       "      <td>2018.0</td>\n",
       "    </tr>\n",
       "    <tr>\n",
       "      <th>...</th>\n",
       "      <td>...</td>\n",
       "      <td>...</td>\n",
       "      <td>...</td>\n",
       "      <td>...</td>\n",
       "      <td>...</td>\n",
       "    </tr>\n",
       "    <tr>\n",
       "      <th>67246</th>\n",
       "      <td>2019-06-01</td>\n",
       "      <td>A0418150104</td>\n",
       "      <td>90013124.0</td>\n",
       "      <td>16.0</td>\n",
       "      <td>2019.0</td>\n",
       "    </tr>\n",
       "    <tr>\n",
       "      <th>67247</th>\n",
       "      <td>2019-06-01</td>\n",
       "      <td>A0418150104</td>\n",
       "      <td>90014136.0</td>\n",
       "      <td>2.0</td>\n",
       "      <td>2019.0</td>\n",
       "    </tr>\n",
       "    <tr>\n",
       "      <th>67248</th>\n",
       "      <td>2019-06-01</td>\n",
       "      <td>A0418150104</td>\n",
       "      <td>90014137.0</td>\n",
       "      <td>1.0</td>\n",
       "      <td>2019.0</td>\n",
       "    </tr>\n",
       "    <tr>\n",
       "      <th>67249</th>\n",
       "      <td>2019-06-01</td>\n",
       "      <td>A0418150104</td>\n",
       "      <td>90014140.0</td>\n",
       "      <td>3.0</td>\n",
       "      <td>2019.0</td>\n",
       "    </tr>\n",
       "    <tr>\n",
       "      <th>67250</th>\n",
       "      <td>2019-06-01</td>\n",
       "      <td>A0</td>\n",
       "      <td>NaN</td>\n",
       "      <td>NaN</td>\n",
       "      <td>NaN</td>\n",
       "    </tr>\n",
       "  </tbody>\n",
       "</table>\n",
       "<p>67251 rows × 5 columns</p>\n",
       "</div>"
      ],
      "text/plain": [
       "             date product_code  customer_code  sold_quantity  fiscal_year\n",
       "0      2017-09-01  A0118150101     70002017.0           51.0       2018.0\n",
       "1      2017-09-01  A0118150101     70002018.0           77.0       2018.0\n",
       "2      2017-09-01  A0118150101     70003181.0           17.0       2018.0\n",
       "3      2017-09-01  A0118150101     70003182.0            6.0       2018.0\n",
       "4      2017-09-01  A0118150101     70006157.0            5.0       2018.0\n",
       "...           ...          ...            ...            ...          ...\n",
       "67246  2019-06-01  A0418150104     90013124.0           16.0       2019.0\n",
       "67247  2019-06-01  A0418150104     90014136.0            2.0       2019.0\n",
       "67248  2019-06-01  A0418150104     90014137.0            1.0       2019.0\n",
       "67249  2019-06-01  A0418150104     90014140.0            3.0       2019.0\n",
       "67250  2019-06-01           A0            NaN            NaN          NaN\n",
       "\n",
       "[67251 rows x 5 columns]"
      ]
     },
     "execution_count": 36,
     "metadata": {},
     "output_type": "execute_result"
    }
   ],
   "source": [
    "fact_sales_monthly"
   ]
  },
  {
   "cell_type": "code",
   "execution_count": 37,
   "id": "0cdf7a42",
   "metadata": {
    "scrolled": false
   },
   "outputs": [
    {
     "data": {
      "text/html": [
       "<div>\n",
       "<style scoped>\n",
       "    .dataframe tbody tr th:only-of-type {\n",
       "        vertical-align: middle;\n",
       "    }\n",
       "\n",
       "    .dataframe tbody tr th {\n",
       "        vertical-align: top;\n",
       "    }\n",
       "\n",
       "    .dataframe thead th {\n",
       "        text-align: right;\n",
       "    }\n",
       "</style>\n",
       "<table border=\"1\" class=\"dataframe\">\n",
       "  <thead>\n",
       "    <tr style=\"text-align: right;\">\n",
       "      <th></th>\n",
       "      <th>month</th>\n",
       "      <th>average_sales</th>\n",
       "    </tr>\n",
       "  </thead>\n",
       "  <tbody>\n",
       "    <tr>\n",
       "      <th>0</th>\n",
       "      <td>01</td>\n",
       "      <td>32.871494</td>\n",
       "    </tr>\n",
       "    <tr>\n",
       "      <th>1</th>\n",
       "      <td>02</td>\n",
       "      <td>32.737409</td>\n",
       "    </tr>\n",
       "    <tr>\n",
       "      <th>2</th>\n",
       "      <td>03</td>\n",
       "      <td>24.940510</td>\n",
       "    </tr>\n",
       "    <tr>\n",
       "      <th>3</th>\n",
       "      <td>04</td>\n",
       "      <td>28.331552</td>\n",
       "    </tr>\n",
       "    <tr>\n",
       "      <th>4</th>\n",
       "      <td>05</td>\n",
       "      <td>29.203300</td>\n",
       "    </tr>\n",
       "    <tr>\n",
       "      <th>5</th>\n",
       "      <td>06</td>\n",
       "      <td>31.810646</td>\n",
       "    </tr>\n",
       "    <tr>\n",
       "      <th>6</th>\n",
       "      <td>07</td>\n",
       "      <td>32.481745</td>\n",
       "    </tr>\n",
       "    <tr>\n",
       "      <th>7</th>\n",
       "      <td>08</td>\n",
       "      <td>33.340999</td>\n",
       "    </tr>\n",
       "    <tr>\n",
       "      <th>8</th>\n",
       "      <td>09</td>\n",
       "      <td>65.662025</td>\n",
       "    </tr>\n",
       "    <tr>\n",
       "      <th>9</th>\n",
       "      <td>10</td>\n",
       "      <td>82.731373</td>\n",
       "    </tr>\n",
       "    <tr>\n",
       "      <th>10</th>\n",
       "      <td>11</td>\n",
       "      <td>112.483973</td>\n",
       "    </tr>\n",
       "    <tr>\n",
       "      <th>11</th>\n",
       "      <td>12</td>\n",
       "      <td>120.764011</td>\n",
       "    </tr>\n",
       "  </tbody>\n",
       "</table>\n",
       "</div>"
      ],
      "text/plain": [
       "   month  average_sales\n",
       "0     01      32.871494\n",
       "1     02      32.737409\n",
       "2     03      24.940510\n",
       "3     04      28.331552\n",
       "4     05      29.203300\n",
       "5     06      31.810646\n",
       "6     07      32.481745\n",
       "7     08      33.340999\n",
       "8     09      65.662025\n",
       "9     10      82.731373\n",
       "10    11     112.483973\n",
       "11    12     120.764011"
      ]
     },
     "execution_count": 37,
     "metadata": {},
     "output_type": "execute_result"
    }
   ],
   "source": [
    "season_qry = \"\"\"\n",
    "SELECT \n",
    "    strftime('%m', fact_sales_monthly.date) AS month,\n",
    "    AVG(fact_sales_monthly.sold_quantity) AS average_sales \n",
    "FROM \n",
    "    fact_sales_monthly\n",
    "GROUP BY \n",
    "    month;\n",
    "\"\"\"\n",
    "\n",
    "season = pd.read_sql_query(season_qry, con)\n",
    "season"
   ]
  },
  {
   "cell_type": "code",
   "execution_count": 38,
   "id": "0453fdf1",
   "metadata": {
    "scrolled": false
   },
   "outputs": [
    {
     "data": {
      "image/png": "[encoded data removed]",
      "text/plain": [
       "<Figure size 1200x600 with 1 Axes>"
      ]
     },
     "metadata": {},
     "output_type": "display_data"
    }
   ],
   "source": [
    "plt.figure(figsize=(12, 6))\n",
    "plt.plot(season['month'], season['average_sales'], marker='o', linestyle='-', color='b')\n",
    "plt.title('Average Monthly Sales', fontsize=20)\n",
    "plt.xlabel('Month', fontsize=16)\n",
    "plt.ylabel('Average Sales', fontsize=16)\n",
    "plt.xticks(fontsize=14)\n",
    "plt.yticks(fontsize=14)\n",
    "plt.show()"
   ]
  },
  {
   "cell_type": "markdown",
   "id": "9503f877",
   "metadata": {},
   "source": [
    "Based on the table and graph, the highest sales were observed in October, November, and December. This increase in sales is likely due to the winter holidays, including Christmas and New Year."
   ]
  },
  {
   "cell_type": "markdown",
   "id": "6872d0c9",
   "metadata": {},
   "source": [
    "## A/B Testing "
   ]
  },
  {
   "cell_type": "code",
   "execution_count": 39,
   "id": "af53ede2",
   "metadata": {},
   "outputs": [
    {
     "data": {
      "text/html": [
       "<div>\n",
       "<style scoped>\n",
       "    .dataframe tbody tr th:only-of-type {\n",
       "        vertical-align: middle;\n",
       "    }\n",
       "\n",
       "    .dataframe tbody tr th {\n",
       "        vertical-align: top;\n",
       "    }\n",
       "\n",
       "    .dataframe thead th {\n",
       "        text-align: right;\n",
       "    }\n",
       "</style>\n",
       "<table border=\"1\" class=\"dataframe\">\n",
       "  <thead>\n",
       "    <tr style=\"text-align: right;\">\n",
       "      <th></th>\n",
       "      <th>customer_code</th>\n",
       "      <th>fiscal_year</th>\n",
       "      <th>persent_of_discount</th>\n",
       "      <th>quantity_sold</th>\n",
       "    </tr>\n",
       "  </thead>\n",
       "  <tbody>\n",
       "    <tr>\n",
       "      <th>0</th>\n",
       "      <td>70002017</td>\n",
       "      <td>2018</td>\n",
       "      <td>8.24</td>\n",
       "      <td>3782.0</td>\n",
       "    </tr>\n",
       "    <tr>\n",
       "      <th>1</th>\n",
       "      <td>70002017</td>\n",
       "      <td>2019</td>\n",
       "      <td>7.77</td>\n",
       "      <td>7063.0</td>\n",
       "    </tr>\n",
       "    <tr>\n",
       "      <th>2</th>\n",
       "      <td>70002017</td>\n",
       "      <td>2020</td>\n",
       "      <td>7.35</td>\n",
       "      <td>6987.0</td>\n",
       "    </tr>\n",
       "    <tr>\n",
       "      <th>3</th>\n",
       "      <td>70002017</td>\n",
       "      <td>2021</td>\n",
       "      <td>7.03</td>\n",
       "      <td>14876.0</td>\n",
       "    </tr>\n",
       "    <tr>\n",
       "      <th>4</th>\n",
       "      <td>70002017</td>\n",
       "      <td>2022</td>\n",
       "      <td>10.57</td>\n",
       "      <td>20405.0</td>\n",
       "    </tr>\n",
       "    <tr>\n",
       "      <th>...</th>\n",
       "      <td>...</td>\n",
       "      <td>...</td>\n",
       "      <td>...</td>\n",
       "      <td>...</td>\n",
       "    </tr>\n",
       "    <tr>\n",
       "      <th>1040</th>\n",
       "      <td>90027207</td>\n",
       "      <td>2018</td>\n",
       "      <td>28.03</td>\n",
       "      <td>570.0</td>\n",
       "    </tr>\n",
       "    <tr>\n",
       "      <th>1041</th>\n",
       "      <td>90027207</td>\n",
       "      <td>2019</td>\n",
       "      <td>22.48</td>\n",
       "      <td>956.0</td>\n",
       "    </tr>\n",
       "    <tr>\n",
       "      <th>1042</th>\n",
       "      <td>90027207</td>\n",
       "      <td>2020</td>\n",
       "      <td>23.86</td>\n",
       "      <td>1441.0</td>\n",
       "    </tr>\n",
       "    <tr>\n",
       "      <th>1043</th>\n",
       "      <td>90027207</td>\n",
       "      <td>2021</td>\n",
       "      <td>27.72</td>\n",
       "      <td>671.0</td>\n",
       "    </tr>\n",
       "    <tr>\n",
       "      <th>1044</th>\n",
       "      <td>90027207</td>\n",
       "      <td>2022</td>\n",
       "      <td>23.17</td>\n",
       "      <td>911.0</td>\n",
       "    </tr>\n",
       "  </tbody>\n",
       "</table>\n",
       "<p>1045 rows × 4 columns</p>\n",
       "</div>"
      ],
      "text/plain": [
       "      customer_code  fiscal_year  persent_of_discount  quantity_sold\n",
       "0          70002017         2018                 8.24         3782.0\n",
       "1          70002017         2019                 7.77         7063.0\n",
       "2          70002017         2020                 7.35         6987.0\n",
       "3          70002017         2021                 7.03        14876.0\n",
       "4          70002017         2022                10.57        20405.0\n",
       "...             ...          ...                  ...            ...\n",
       "1040       90027207         2018                28.03          570.0\n",
       "1041       90027207         2019                22.48          956.0\n",
       "1042       90027207         2020                23.86         1441.0\n",
       "1043       90027207         2021                27.72          671.0\n",
       "1044       90027207         2022                23.17          911.0\n",
       "\n",
       "[1045 rows x 4 columns]"
      ]
     },
     "execution_count": 39,
     "metadata": {},
     "output_type": "execute_result"
    }
   ],
   "source": [
    "discounts"
   ]
  },
  {
   "cell_type": "code",
   "execution_count": 40,
   "id": "e423d603",
   "metadata": {},
   "outputs": [
    {
     "data": {
      "text/plain": [
       "count    1045.000000\n",
       "mean       23.380660\n",
       "std         5.807724\n",
       "min         5.100000\n",
       "25%        20.480000\n",
       "50%        24.390000\n",
       "75%        27.670000\n",
       "max        30.990000\n",
       "Name: persent_of_discount, dtype: float64"
      ]
     },
     "execution_count": 40,
     "metadata": {},
     "output_type": "execute_result"
    }
   ],
   "source": [
    "discounts['persent_of_discount'].describe()"
   ]
  },
  {
   "cell_type": "markdown",
   "id": "937a6fa8",
   "metadata": {},
   "source": [
    "50% is 24.4 so control group is group with discount less than 24.4 and test group is group with discount more than 24.4\n",
    "\n",
    "We'll do test by data from 2022 year"
   ]
  },
  {
   "cell_type": "code",
   "execution_count": 41,
   "id": "ed7038ce",
   "metadata": {},
   "outputs": [
    {
     "data": {
      "text/html": [
       "<div>\n",
       "<style scoped>\n",
       "    .dataframe tbody tr th:only-of-type {\n",
       "        vertical-align: middle;\n",
       "    }\n",
       "\n",
       "    .dataframe tbody tr th {\n",
       "        vertical-align: top;\n",
       "    }\n",
       "\n",
       "    .dataframe thead th {\n",
       "        text-align: right;\n",
       "    }\n",
       "</style>\n",
       "<table border=\"1\" class=\"dataframe\">\n",
       "  <thead>\n",
       "    <tr style=\"text-align: right;\">\n",
       "      <th></th>\n",
       "      <th>customer_code</th>\n",
       "      <th>fiscal_year</th>\n",
       "      <th>percent_of_discount</th>\n",
       "      <th>quantity_sold</th>\n",
       "    </tr>\n",
       "  </thead>\n",
       "  <tbody>\n",
       "    <tr>\n",
       "      <th>0</th>\n",
       "      <td>70011193</td>\n",
       "      <td>2022</td>\n",
       "      <td>5.10</td>\n",
       "      <td>5439</td>\n",
       "    </tr>\n",
       "    <tr>\n",
       "      <th>1</th>\n",
       "      <td>70006157</td>\n",
       "      <td>2022</td>\n",
       "      <td>5.52</td>\n",
       "      <td>5736</td>\n",
       "    </tr>\n",
       "    <tr>\n",
       "      <th>2</th>\n",
       "      <td>70015151</td>\n",
       "      <td>2022</td>\n",
       "      <td>5.74</td>\n",
       "      <td>5049</td>\n",
       "    </tr>\n",
       "    <tr>\n",
       "      <th>3</th>\n",
       "      <td>70016177</td>\n",
       "      <td>2022</td>\n",
       "      <td>5.94</td>\n",
       "      <td>1474</td>\n",
       "    </tr>\n",
       "    <tr>\n",
       "      <th>4</th>\n",
       "      <td>70023031</td>\n",
       "      <td>2022</td>\n",
       "      <td>6.71</td>\n",
       "      <td>6998</td>\n",
       "    </tr>\n",
       "    <tr>\n",
       "      <th>...</th>\n",
       "      <td>...</td>\n",
       "      <td>...</td>\n",
       "      <td>...</td>\n",
       "      <td>...</td>\n",
       "    </tr>\n",
       "    <tr>\n",
       "      <th>100</th>\n",
       "      <td>90013120</td>\n",
       "      <td>2022</td>\n",
       "      <td>23.82</td>\n",
       "      <td>4081</td>\n",
       "    </tr>\n",
       "    <tr>\n",
       "      <th>101</th>\n",
       "      <td>90022077</td>\n",
       "      <td>2022</td>\n",
       "      <td>23.83</td>\n",
       "      <td>12728</td>\n",
       "    </tr>\n",
       "    <tr>\n",
       "      <th>102</th>\n",
       "      <td>90009127</td>\n",
       "      <td>2022</td>\n",
       "      <td>23.85</td>\n",
       "      <td>3094</td>\n",
       "    </tr>\n",
       "    <tr>\n",
       "      <th>103</th>\n",
       "      <td>90008167</td>\n",
       "      <td>2022</td>\n",
       "      <td>24.06</td>\n",
       "      <td>6964</td>\n",
       "    </tr>\n",
       "    <tr>\n",
       "      <th>104</th>\n",
       "      <td>90003180</td>\n",
       "      <td>2022</td>\n",
       "      <td>24.37</td>\n",
       "      <td>11711</td>\n",
       "    </tr>\n",
       "  </tbody>\n",
       "</table>\n",
       "<p>105 rows × 4 columns</p>\n",
       "</div>"
      ],
      "text/plain": [
       "     customer_code  fiscal_year  percent_of_discount  quantity_sold\n",
       "0         70011193         2022                 5.10           5439\n",
       "1         70006157         2022                 5.52           5736\n",
       "2         70015151         2022                 5.74           5049\n",
       "3         70016177         2022                 5.94           1474\n",
       "4         70023031         2022                 6.71           6998\n",
       "..             ...          ...                  ...            ...\n",
       "100       90013120         2022                23.82           4081\n",
       "101       90022077         2022                23.83          12728\n",
       "102       90009127         2022                23.85           3094\n",
       "103       90008167         2022                24.06           6964\n",
       "104       90003180         2022                24.37          11711\n",
       "\n",
       "[105 rows x 4 columns]"
      ]
     },
     "execution_count": 41,
     "metadata": {},
     "output_type": "execute_result"
    }
   ],
   "source": [
    "control_qry = \"\"\"\n",
    "Select distinct\n",
    "    fact_pre_discount.customer_code,\n",
    "    fact_pre_discount.fiscal_year,\n",
    "    fact_pre_discount.pre_invoice_discount_pct * 100 as percent_of_discount,\n",
    "    SUM(fact_sales_monthly.sold_quantity) as quantity_sold\n",
    "From \n",
    "    fact_pre_discount \n",
    "Left join \n",
    "    fact_sales_monthly on fact_sales_monthly.customer_code = fact_pre_discount.customer_code\n",
    "    and fact_sales_monthly.fiscal_year = fact_pre_discount.fiscal_year\n",
    "Where \n",
    "     percent_of_discount < 24.4\n",
    "     and fact_pre_discount.fiscal_year = 2022\n",
    "     and fact_sales_monthly.sold_quantity is not null\n",
    "Group by \n",
    "    fact_pre_discount.customer_code,\n",
    "    fact_pre_discount.fiscal_year,\n",
    "    fact_pre_discount.pre_invoice_discount_pct \n",
    "Order by percent_of_discount\n",
    "\"\"\"\n",
    "\n",
    "control = pd.read_sql_query(control_qry, con)\n",
    "control"
   ]
  },
  {
   "cell_type": "code",
   "execution_count": 42,
   "id": "20856df5",
   "metadata": {},
   "outputs": [
    {
     "data": {
      "text/plain": [
       "105"
      ]
     },
     "execution_count": 42,
     "metadata": {},
     "output_type": "execute_result"
    }
   ],
   "source": [
    "control['customer_code'].nunique()"
   ]
  },
  {
   "cell_type": "code",
   "execution_count": 43,
   "id": "e4b7bcba",
   "metadata": {
    "scrolled": false
   },
   "outputs": [
    {
     "data": {
      "text/html": [
       "<div>\n",
       "<style scoped>\n",
       "    .dataframe tbody tr th:only-of-type {\n",
       "        vertical-align: middle;\n",
       "    }\n",
       "\n",
       "    .dataframe tbody tr th {\n",
       "        vertical-align: top;\n",
       "    }\n",
       "\n",
       "    .dataframe thead th {\n",
       "        text-align: right;\n",
       "    }\n",
       "</style>\n",
       "<table border=\"1\" class=\"dataframe\">\n",
       "  <thead>\n",
       "    <tr style=\"text-align: right;\">\n",
       "      <th></th>\n",
       "      <th>customer_code</th>\n",
       "      <th>fiscal_year</th>\n",
       "      <th>percent_of_discount</th>\n",
       "      <th>quantity_sold</th>\n",
       "    </tr>\n",
       "  </thead>\n",
       "  <tbody>\n",
       "    <tr>\n",
       "      <th>0</th>\n",
       "      <td>90018108</td>\n",
       "      <td>2022</td>\n",
       "      <td>24.48</td>\n",
       "      <td>2886</td>\n",
       "    </tr>\n",
       "    <tr>\n",
       "      <th>1</th>\n",
       "      <td>90012037</td>\n",
       "      <td>2022</td>\n",
       "      <td>24.49</td>\n",
       "      <td>2777</td>\n",
       "    </tr>\n",
       "    <tr>\n",
       "      <th>2</th>\n",
       "      <td>90023024</td>\n",
       "      <td>2022</td>\n",
       "      <td>24.50</td>\n",
       "      <td>7853</td>\n",
       "    </tr>\n",
       "    <tr>\n",
       "      <th>3</th>\n",
       "      <td>90024184</td>\n",
       "      <td>2022</td>\n",
       "      <td>24.53</td>\n",
       "      <td>755</td>\n",
       "    </tr>\n",
       "    <tr>\n",
       "      <th>4</th>\n",
       "      <td>70026206</td>\n",
       "      <td>2022</td>\n",
       "      <td>24.65</td>\n",
       "      <td>1007</td>\n",
       "    </tr>\n",
       "    <tr>\n",
       "      <th>...</th>\n",
       "      <td>...</td>\n",
       "      <td>...</td>\n",
       "      <td>...</td>\n",
       "      <td>...</td>\n",
       "    </tr>\n",
       "    <tr>\n",
       "      <th>99</th>\n",
       "      <td>90022078</td>\n",
       "      <td>2022</td>\n",
       "      <td>30.67</td>\n",
       "      <td>13624</td>\n",
       "    </tr>\n",
       "    <tr>\n",
       "      <th>100</th>\n",
       "      <td>70009134</td>\n",
       "      <td>2022</td>\n",
       "      <td>30.76</td>\n",
       "      <td>3190</td>\n",
       "    </tr>\n",
       "    <tr>\n",
       "      <th>101</th>\n",
       "      <td>90022080</td>\n",
       "      <td>2022</td>\n",
       "      <td>30.87</td>\n",
       "      <td>16813</td>\n",
       "    </tr>\n",
       "    <tr>\n",
       "      <th>102</th>\n",
       "      <td>90016175</td>\n",
       "      <td>2022</td>\n",
       "      <td>30.90</td>\n",
       "      <td>1617</td>\n",
       "    </tr>\n",
       "    <tr>\n",
       "      <th>103</th>\n",
       "      <td>90016176</td>\n",
       "      <td>2022</td>\n",
       "      <td>30.99</td>\n",
       "      <td>1588</td>\n",
       "    </tr>\n",
       "  </tbody>\n",
       "</table>\n",
       "<p>104 rows × 4 columns</p>\n",
       "</div>"
      ],
      "text/plain": [
       "     customer_code  fiscal_year  percent_of_discount  quantity_sold\n",
       "0         90018108         2022                24.48           2886\n",
       "1         90012037         2022                24.49           2777\n",
       "2         90023024         2022                24.50           7853\n",
       "3         90024184         2022                24.53            755\n",
       "4         70026206         2022                24.65           1007\n",
       "..             ...          ...                  ...            ...\n",
       "99        90022078         2022                30.67          13624\n",
       "100       70009134         2022                30.76           3190\n",
       "101       90022080         2022                30.87          16813\n",
       "102       90016175         2022                30.90           1617\n",
       "103       90016176         2022                30.99           1588\n",
       "\n",
       "[104 rows x 4 columns]"
      ]
     },
     "execution_count": 43,
     "metadata": {},
     "output_type": "execute_result"
    }
   ],
   "source": [
    "test_qry = \"\"\"\n",
    "Select distinct\n",
    "    fact_pre_discount.customer_code,\n",
    "    fact_pre_discount.fiscal_year,\n",
    "    fact_pre_discount.pre_invoice_discount_pct * 100 as percent_of_discount,\n",
    "    SUM(fact_sales_monthly.sold_quantity) as quantity_sold\n",
    "From \n",
    "    fact_pre_discount \n",
    "Left join \n",
    "    fact_sales_monthly on fact_sales_monthly.customer_code = fact_pre_discount.customer_code\n",
    "    and fact_sales_monthly.fiscal_year = fact_pre_discount.fiscal_year\n",
    "Where \n",
    "     percent_of_discount > 24.4\n",
    "     and fact_pre_discount.fiscal_year = 2022\n",
    "     and fact_sales_monthly.sold_quantity is not null\n",
    "Group by \n",
    "    fact_pre_discount.customer_code,\n",
    "    fact_pre_discount.fiscal_year,\n",
    "    fact_pre_discount.pre_invoice_discount_pct \n",
    "Order by percent_of_discount\n",
    "\"\"\"\n",
    "\n",
    "test = pd.read_sql_query(test_qry, con)\n",
    "test"
   ]
  },
  {
   "cell_type": "code",
   "execution_count": 44,
   "id": "c2e72581",
   "metadata": {
    "scrolled": false
   },
   "outputs": [
    {
     "data": {
      "text/plain": [
       "104"
      ]
     },
     "execution_count": 44,
     "metadata": {},
     "output_type": "execute_result"
    }
   ],
   "source": [
    "test['customer_code'].nunique()"
   ]
  },
  {
   "cell_type": "markdown",
   "id": "723d7151",
   "metadata": {},
   "source": [
    "Now let's check the mean value of quantity sold in control and test group."
   ]
  },
  {
   "cell_type": "code",
   "execution_count": 45,
   "id": "4d3372d8",
   "metadata": {
    "scrolled": true
   },
   "outputs": [
    {
     "data": {
      "text/plain": [
       "7676.971428571429"
      ]
     },
     "execution_count": 45,
     "metadata": {},
     "output_type": "execute_result"
    }
   ],
   "source": [
    "control['quantity_sold'].mean()"
   ]
  },
  {
   "cell_type": "code",
   "execution_count": 46,
   "id": "c1291b09",
   "metadata": {},
   "outputs": [
    {
     "data": {
      "text/plain": [
       "7053.2307692307695"
      ]
     },
     "execution_count": 46,
     "metadata": {},
     "output_type": "execute_result"
    }
   ],
   "source": [
    "test['quantity_sold'].mean()"
   ]
  },
  {
   "cell_type": "markdown",
   "id": "92930832",
   "metadata": {},
   "source": [
    "We observe that there is no difference in the average quantity sold between the control and test groups. In fact, in the test group, where the discount percentage is higher, the quantity of sales is slightly lower."
   ]
  },
  {
   "cell_type": "markdown",
   "id": "32c93fd0",
   "metadata": {},
   "source": [
    "Let's create a plot to visualize the difference in sales between the two groups."
   ]
  },
  {
   "cell_type": "code",
   "execution_count": 47,
   "id": "c3a042c4",
   "metadata": {
    "scrolled": false
   },
   "outputs": [
    {
     "data": {
      "text/plain": [
       "<matplotlib.legend.Legend at 0x7fdcadf0b850>"
      ]
     },
     "execution_count": 47,
     "metadata": {},
     "output_type": "execute_result"
    },
    {
     "data": {
      "image/png": "[encoded data removed]",
      "text/plain": [
       "<Figure size 1200x600 with 1 Axes>"
      ]
     },
     "metadata": {},
     "output_type": "display_data"
    }
   ],
   "source": [
    "plt.figure(figsize=(12, 6))\n",
    "plt.bar(control['percent_of_discount'], control['quantity_sold'], width=0.4, label='Control', align='center')\n",
    "plt.bar(test['percent_of_discount'] + 0.4, test['quantity_sold'], width=0.4, label='Test', align='center')\n",
    "plt.title('Discount to Sales Relation', fontsize=20)\n",
    "plt.xlabel('Discount Percent', fontsize=16)\n",
    "plt.ylabel('Quantity Sold', fontsize=16)\n",
    "plt.xticks(fontsize=14)\n",
    "plt.yticks(fontsize=14)\n",
    "plt.legend()"
   ]
  },
  {
   "cell_type": "markdown",
   "id": "7c7383ad",
   "metadata": {},
   "source": [
    "Surprisingly, the bar plot reveals that higher discount percentages correspond to higher quantities of sales."
   ]
  },
  {
   "cell_type": "markdown",
   "id": "ab12a6c4",
   "metadata": {},
   "source": [
    "Now we'll find statistical significance of the difference in average of quantity sold in both groups."
   ]
  },
  {
   "cell_type": "code",
   "execution_count": 48,
   "id": "f9895a53",
   "metadata": {},
   "outputs": [],
   "source": [
    "a_sales = control['quantity_sold']"
   ]
  },
  {
   "cell_type": "code",
   "execution_count": 49,
   "id": "b9068e86",
   "metadata": {},
   "outputs": [],
   "source": [
    "b_sales = test['quantity_sold']"
   ]
  },
  {
   "cell_type": "code",
   "execution_count": 50,
   "id": "1878ce77",
   "metadata": {},
   "outputs": [],
   "source": [
    "def testing_average(sample1, sample2, alpha=0.05):\n",
    "    \n",
    "    # Shapiro-Wilk test for distribution normality \n",
    "    stat1, p1_norm = st.shapiro(sample1)\n",
    "    stat2, p2_norm = st.shapiro(sample2)\n",
    "    \n",
    "    # Checking if both samples are normally distributed\n",
    "    if p1_norm > alpha and p2_norm > alpha:\n",
    "        \n",
    "        # If both samples are normally distributed, perform Levene's test for homogeneity of variances\n",
    "        statslev,p_levene = st.levene(sample1,sample2)\n",
    "        \n",
    "        # Checking if the variances are equal (p-value from Levene's test > alpha)\n",
    "        if p_levene<alpha:\n",
    "            \n",
    "            # If variances are not equal, perform t-test\n",
    "            statist,p_value = st.ttest_ind(sample1, sample2, equal_var=False)\n",
    "        else:\n",
    "             # If one or both samples are not normally distributed, perform Mann-Whitney U test\n",
    "            statist,p_value = st.ttest_ind(sample1, sample2, equal_var=True)\n",
    "    else:\n",
    "        statist,p_value = st.mannwhitneyu(sample1, sample2)\n",
    "        \n",
    "# printing p-value and description of result\n",
    "    print(\"P-value is: \", p_value)\n",
    "    if p_value<alpha:\n",
    "        # If p_value less then significance level that means that there is strong evidence against the H0 hypothesis.\n",
    "        # And we confirm H1 hypothesis that mean that there is significant difference between groups. \n",
    "        print('Reject H0. There is a significant difference between the distributions.')\n",
    "        \n",
    "    else:\n",
    "        # Else (p value greater than significance level) we can not reject H0 hypothesis and we don't have evidence in significant difference.\n",
    "        print('Fail to Reject H0. There is no reason to consider the distributions are different')"
   ]
  },
  {
   "cell_type": "code",
   "execution_count": 51,
   "id": "7b0565ad",
   "metadata": {
    "scrolled": true
   },
   "outputs": [
    {
     "name": "stdout",
     "output_type": "stream",
     "text": [
      "P-value is:  0.01630913668780784\n",
      "Reject H0. There is a significant difference between the distributions.\n"
     ]
    }
   ],
   "source": [
    "testing_average(a_sales, b_sales, alpha=0.05)"
   ]
  },
  {
   "cell_type": "markdown",
   "id": "baf6da80",
   "metadata": {},
   "source": [
    "The p-value is significantly less than the significance level of 0.05, so we have rejected the null hypothesis (H0). This indicates that there is a significant difference between the control and test groups.\n",
    "\n",
    "However, it is important to note that sales with a higher discount percentage are not greater than sales with a lower discount percentage. This means that the strategy of increasing discounts is not effective and may lead to losses."
   ]
  },
  {
   "cell_type": "markdown",
   "id": "e99f89db",
   "metadata": {},
   "source": [
    "# Conclusion "
   ]
  },
  {
   "cell_type": "markdown",
   "id": "12e85e41",
   "metadata": {},
   "source": [
    "**Based on our analysis of AtliQ Hardware's sales data, we have identified several key insights:**\n",
    "\n",
    "1. Price and Sales Correlation:\n",
    "Despite the increase in product prices, sales have risen by 50% or even doubled yearly. This indicates that price increases have not negatively impacted sales. However, it is crucial to avoid overpricing products to maintain this trend.\n",
    "\n",
    "\n",
    "2. Product Popularity in Different Markets:\n",
    "Graphic cards and internal HDDs are the most popular products in both India and China. However, sales in India significantly surpass those in China. This disparity suggests potential marketing gaps in China, which, despite its large consumer base, has not been fully capitalized on. The alignment in top-selling items across both countries indicates a universal demand for specific tech products.\n",
    "\n",
    "\n",
    "3. Impact of Discounts on Sales:\n",
    "Analysis shows that the number of sales per customer increases yearly regardless of discount size. Therefore, we cannot conclusively determine that discounts significantly affect sales volume.\n",
    "\n",
    "\n",
    "4. Seasonal Sales Trends:\n",
    "The highest sales occur in October, November, and December, likely due to the winter holidays, including Christmas and New Year. This seasonal trend should be leveraged in marketing strategies to maximize sales during these peak months.\n",
    "\n",
    "\n",
    "5. Discount Strategy Optimization:\n",
    "A/B testing reveals a significant difference between the control and test groups, as indicated by a p-value significantly less than 0.05. However, sales do not increase with higher discount percentages, suggesting that increasing discounts is not an effective strategy and may lead to losses.\n",
    "\n",
    "Overall, our findings provide valuable insights for AtliQ Hardware to refine their pricing, marketing, and discount strategies, enhancing their sales performance and profitability across different markets."
   ]
  },
  {
   "cell_type": "markdown",
   "id": "f55cf23e",
   "metadata": {},
   "source": [
    "https://public.tableau.com/app/profile/george.rabinovich/viz/shared/WC65DNPR2"
   ]
  },
  {
   "cell_type": "code",
   "execution_count": null,
   "id": "05569857",
   "metadata": {},
   "outputs": [],
   "source": []
  }
 ],
 "metadata": {
  "ExecuteTimeLog": [
   {
    "duration": 5099,
    "start_time": "2024-05-16T21:05:07.844Z"
   },
   {
    "duration": 9,
    "start_time": "2024-05-16T21:05:12.948Z"
   },
   {
    "duration": 53,
    "start_time": "2024-05-16T21:05:12.960Z"
   },
   {
    "duration": 289,
    "start_time": "2024-05-16T21:05:13.019Z"
   },
   {
    "duration": 31,
    "start_time": "2024-05-16T21:05:13.312Z"
   },
   {
    "duration": 37,
    "start_time": "2024-05-16T21:05:13.346Z"
   },
   {
    "duration": 56,
    "start_time": "2024-05-16T21:05:13.386Z"
   },
   {
    "duration": 34,
    "start_time": "2024-05-16T21:05:13.445Z"
   },
   {
    "duration": 33,
    "start_time": "2024-05-16T21:05:13.483Z"
   },
   {
    "duration": 46,
    "start_time": "2024-05-16T21:05:13.525Z"
   },
   {
    "duration": 35,
    "start_time": "2024-05-16T21:05:13.574Z"
   },
   {
    "duration": 33,
    "start_time": "2024-05-16T21:05:13.612Z"
   },
   {
    "duration": 49,
    "start_time": "2024-05-16T21:05:13.649Z"
   },
   {
    "duration": 35,
    "start_time": "2024-05-16T21:05:13.701Z"
   },
   {
    "duration": 37,
    "start_time": "2024-05-16T21:05:13.740Z"
   },
   {
    "duration": 44,
    "start_time": "2024-05-16T21:05:13.782Z"
   },
   {
    "duration": 33,
    "start_time": "2024-05-16T21:05:13.829Z"
   },
   {
    "duration": 34,
    "start_time": "2024-05-16T21:05:13.865Z"
   },
   {
    "duration": 239,
    "start_time": "2024-05-16T21:05:13.903Z"
   },
   {
    "duration": 98,
    "start_time": "2024-05-16T21:05:14.146Z"
   },
   {
    "duration": 156,
    "start_time": "2024-05-16T21:05:14.247Z"
   },
   {
    "duration": 22,
    "start_time": "2024-05-16T21:05:14.407Z"
   },
   {
    "duration": 20,
    "start_time": "2024-05-16T21:05:14.432Z"
   },
   {
    "duration": 16,
    "start_time": "2024-05-16T21:05:14.456Z"
   },
   {
    "duration": 68,
    "start_time": "2024-05-16T21:05:14.476Z"
   },
   {
    "duration": 199,
    "start_time": "2024-05-16T21:05:14.548Z"
   },
   {
    "duration": 15,
    "start_time": "2024-05-16T21:05:18.459Z"
   },
   {
    "duration": 16,
    "start_time": "2024-05-16T21:05:37.593Z"
   },
   {
    "duration": 15,
    "start_time": "2024-05-16T21:08:21.322Z"
   },
   {
    "duration": 727,
    "start_time": "2024-05-16T21:21:37.740Z"
   },
   {
    "duration": 170,
    "start_time": "2024-05-16T21:21:56.888Z"
   },
   {
    "duration": 162,
    "start_time": "2024-05-16T21:22:38.675Z"
   },
   {
    "duration": 168,
    "start_time": "2024-05-16T21:23:11.278Z"
   },
   {
    "duration": 184,
    "start_time": "2024-05-16T21:23:41.368Z"
   },
   {
    "duration": 175,
    "start_time": "2024-05-16T21:24:24.889Z"
   },
   {
    "duration": 89,
    "start_time": "2024-05-16T21:28:06.866Z"
   },
   {
    "duration": 174,
    "start_time": "2024-05-16T21:28:11.139Z"
   },
   {
    "duration": 174,
    "start_time": "2024-05-16T21:29:10.097Z"
   },
   {
    "duration": 327,
    "start_time": "2024-05-18T15:48:36.898Z"
   },
   {
    "duration": 4375,
    "start_time": "2024-05-18T15:48:40.719Z"
   },
   {
    "duration": 12,
    "start_time": "2024-05-18T15:48:45.097Z"
   },
   {
    "duration": 50,
    "start_time": "2024-05-18T15:48:45.112Z"
   },
   {
    "duration": 289,
    "start_time": "2024-05-18T15:48:45.165Z"
   },
   {
    "duration": 29,
    "start_time": "2024-05-18T15:48:45.459Z"
   },
   {
    "duration": 31,
    "start_time": "2024-05-18T15:48:45.490Z"
   },
   {
    "duration": 46,
    "start_time": "2024-05-18T15:48:45.524Z"
   },
   {
    "duration": 29,
    "start_time": "2024-05-18T15:48:45.573Z"
   },
   {
    "duration": 32,
    "start_time": "2024-05-18T15:48:45.604Z"
   },
   {
    "duration": 39,
    "start_time": "2024-05-18T15:48:45.639Z"
   },
   {
    "duration": 28,
    "start_time": "2024-05-18T15:48:45.680Z"
   },
   {
    "duration": 32,
    "start_time": "2024-05-18T15:48:45.711Z"
   },
   {
    "duration": 39,
    "start_time": "2024-05-18T15:48:45.746Z"
   },
   {
    "duration": 30,
    "start_time": "2024-05-18T15:48:45.791Z"
   },
   {
    "duration": 30,
    "start_time": "2024-05-18T15:48:45.824Z"
   },
   {
    "duration": 38,
    "start_time": "2024-05-18T15:48:45.857Z"
   },
   {
    "duration": 30,
    "start_time": "2024-05-18T15:48:45.898Z"
   },
   {
    "duration": 29,
    "start_time": "2024-05-18T15:48:45.931Z"
   },
   {
    "duration": 229,
    "start_time": "2024-05-18T15:48:45.964Z"
   },
   {
    "duration": 86,
    "start_time": "2024-05-18T15:48:46.196Z"
   },
   {
    "duration": 161,
    "start_time": "2024-05-18T15:48:46.285Z"
   },
   {
    "duration": 18,
    "start_time": "2024-05-18T15:48:46.449Z"
   },
   {
    "duration": 18,
    "start_time": "2024-05-18T15:48:46.470Z"
   },
   {
    "duration": 15,
    "start_time": "2024-05-18T15:48:46.510Z"
   },
   {
    "duration": 43,
    "start_time": "2024-05-18T15:48:46.528Z"
   },
   {
    "duration": 175,
    "start_time": "2024-05-18T15:48:46.573Z"
   },
   {
    "duration": 14,
    "start_time": "2024-05-18T15:48:46.751Z"
   },
   {
    "duration": 15,
    "start_time": "2024-05-18T15:48:46.768Z"
   },
   {
    "duration": 30,
    "start_time": "2024-05-18T15:48:46.786Z"
   },
   {
    "duration": 175,
    "start_time": "2024-05-18T15:48:46.819Z"
   },
   {
    "duration": 15,
    "start_time": "2024-05-18T15:48:50.329Z"
   },
   {
    "duration": 20,
    "start_time": "2024-05-18T15:49:12.266Z"
   },
   {
    "duration": 7,
    "start_time": "2024-05-18T15:49:30.327Z"
   },
   {
    "duration": 6,
    "start_time": "2024-05-18T15:49:38.370Z"
   },
   {
    "duration": 7,
    "start_time": "2024-05-18T15:49:56.120Z"
   },
   {
    "duration": 13,
    "start_time": "2024-05-18T15:51:47.888Z"
   },
   {
    "duration": 10,
    "start_time": "2024-05-18T15:51:56.681Z"
   },
   {
    "duration": 8,
    "start_time": "2024-05-18T15:52:03.426Z"
   },
   {
    "duration": 18,
    "start_time": "2024-05-18T15:52:09.661Z"
   },
   {
    "duration": 17,
    "start_time": "2024-05-18T15:52:14.800Z"
   },
   {
    "duration": 17,
    "start_time": "2024-05-18T16:11:13.357Z"
   },
   {
    "duration": 10,
    "start_time": "2024-05-18T16:11:21.896Z"
   },
   {
    "duration": 14,
    "start_time": "2024-05-18T16:13:29.558Z"
   },
   {
    "duration": 375,
    "start_time": "2024-05-18T16:16:25.913Z"
   },
   {
    "duration": 398,
    "start_time": "2024-05-18T16:16:42.525Z"
   },
   {
    "duration": 267,
    "start_time": "2024-05-18T16:19:15.151Z"
   },
   {
    "duration": 462,
    "start_time": "2024-05-18T16:19:26.982Z"
   },
   {
    "duration": 452,
    "start_time": "2024-05-18T16:20:26.066Z"
   },
   {
    "duration": 13,
    "start_time": "2024-05-18T16:21:33.038Z"
   },
   {
    "duration": 17,
    "start_time": "2024-05-18T16:21:37.688Z"
   },
   {
    "duration": 446,
    "start_time": "2024-05-18T16:24:49.793Z"
   },
   {
    "duration": 447,
    "start_time": "2024-05-18T16:25:00.200Z"
   },
   {
    "duration": 453,
    "start_time": "2024-05-18T16:25:06.109Z"
   },
   {
    "duration": 452,
    "start_time": "2024-05-18T16:25:59.900Z"
   },
   {
    "duration": 459,
    "start_time": "2024-05-18T16:27:36.340Z"
   },
   {
    "duration": 384,
    "start_time": "2024-05-18T16:27:55.371Z"
   },
   {
    "duration": 372,
    "start_time": "2024-05-18T16:28:23.825Z"
   },
   {
    "duration": 87,
    "start_time": "2024-05-18T16:28:38.438Z"
   },
   {
    "duration": 90,
    "start_time": "2024-05-18T16:28:48.679Z"
   },
   {
    "duration": 373,
    "start_time": "2024-05-18T16:29:11.482Z"
   },
   {
    "duration": 364,
    "start_time": "2024-05-18T16:29:18.437Z"
   },
   {
    "duration": 113,
    "start_time": "2024-05-18T16:37:24.301Z"
   },
   {
    "duration": 212,
    "start_time": "2024-05-18T16:38:10.591Z"
   },
   {
    "duration": 220,
    "start_time": "2024-05-18T16:39:46.905Z"
   },
   {
    "duration": 416,
    "start_time": "2024-05-18T16:40:15.125Z"
   },
   {
    "duration": 285,
    "start_time": "2024-05-18T16:40:19.088Z"
   },
   {
    "duration": 187,
    "start_time": "2024-05-18T16:40:49.071Z"
   },
   {
    "duration": 206,
    "start_time": "2024-05-18T16:41:35.458Z"
   },
   {
    "duration": 15,
    "start_time": "2024-05-18T16:44:12.871Z"
   },
   {
    "duration": 150,
    "start_time": "2024-05-18T16:45:18.091Z"
   },
   {
    "duration": 16,
    "start_time": "2024-05-18T16:45:39.532Z"
   },
   {
    "duration": 148,
    "start_time": "2024-05-18T16:45:53.921Z"
   },
   {
    "duration": 17,
    "start_time": "2024-05-18T16:46:20.145Z"
   },
   {
    "duration": 144,
    "start_time": "2024-05-18T16:46:37.988Z"
   },
   {
    "duration": 15,
    "start_time": "2024-05-18T16:46:43.335Z"
   },
   {
    "duration": 142,
    "start_time": "2024-05-18T16:47:04.647Z"
   },
   {
    "duration": 622,
    "start_time": "2024-05-18T16:48:54.717Z"
   },
   {
    "duration": 6,
    "start_time": "2024-05-18T16:50:58.825Z"
   },
   {
    "duration": 209,
    "start_time": "2024-05-18T16:54:56.176Z"
   },
   {
    "duration": 258,
    "start_time": "2024-05-18T16:57:26.283Z"
   },
   {
    "duration": 76,
    "start_time": "2024-05-18T16:57:46.495Z"
   },
   {
    "duration": 252,
    "start_time": "2024-05-18T16:57:52.930Z"
   },
   {
    "duration": 218,
    "start_time": "2024-05-18T17:14:00.854Z"
   },
   {
    "duration": 200,
    "start_time": "2024-05-18T17:15:26.060Z"
   },
   {
    "duration": 259,
    "start_time": "2024-05-18T17:21:20.454Z"
   },
   {
    "duration": 181,
    "start_time": "2024-05-18T17:21:33.537Z"
   },
   {
    "duration": 309,
    "start_time": "2024-05-18T17:21:52.078Z"
   },
   {
    "duration": 336,
    "start_time": "2024-05-18T17:22:26.702Z"
   },
   {
    "duration": 346,
    "start_time": "2024-05-18T17:22:45.707Z"
   },
   {
    "duration": 581,
    "start_time": "2024-05-18T17:23:07.470Z"
   },
   {
    "duration": 27,
    "start_time": "2024-05-18T17:23:39.997Z"
   },
   {
    "duration": 40,
    "start_time": "2024-05-18T17:25:17.291Z"
   },
   {
    "duration": 30,
    "start_time": "2024-05-18T17:25:23.548Z"
   },
   {
    "duration": 2370,
    "start_time": "2024-05-18T17:25:26.617Z"
   },
   {
    "duration": 10,
    "start_time": "2024-05-18T17:25:54.002Z"
   },
   {
    "duration": 5026,
    "start_time": "2024-05-18T17:25:58.263Z"
   },
   {
    "duration": 4581,
    "start_time": "2024-05-18T17:26:10.386Z"
   },
   {
    "duration": 211,
    "start_time": "2024-05-18T17:27:10.551Z"
   },
   {
    "duration": 196,
    "start_time": "2024-05-18T17:27:18.794Z"
   },
   {
    "duration": 285,
    "start_time": "2024-05-18T17:29:19.031Z"
   },
   {
    "duration": 290,
    "start_time": "2024-05-18T17:29:33.894Z"
   },
   {
    "duration": 333,
    "start_time": "2024-05-18T17:29:43.768Z"
   },
   {
    "duration": 222,
    "start_time": "2024-05-18T17:31:04.048Z"
   },
   {
    "duration": 284,
    "start_time": "2024-05-18T17:31:10.208Z"
   },
   {
    "duration": 1989,
    "start_time": "2024-05-18T17:31:42.571Z"
   },
   {
    "duration": 5339,
    "start_time": "2024-05-19T12:40:11.940Z"
   },
   {
    "duration": 10,
    "start_time": "2024-05-19T12:40:17.285Z"
   },
   {
    "duration": 49,
    "start_time": "2024-05-19T12:40:17.302Z"
   },
   {
    "duration": 195,
    "start_time": "2024-05-19T12:40:17.354Z"
   },
   {
    "duration": 28,
    "start_time": "2024-05-19T12:40:17.554Z"
   },
   {
    "duration": 32,
    "start_time": "2024-05-19T12:40:17.586Z"
   },
   {
    "duration": 48,
    "start_time": "2024-05-19T12:40:17.621Z"
   },
   {
    "duration": 34,
    "start_time": "2024-05-19T12:40:17.672Z"
   },
   {
    "duration": 35,
    "start_time": "2024-05-19T12:40:17.710Z"
   },
   {
    "duration": 42,
    "start_time": "2024-05-19T12:40:17.749Z"
   },
   {
    "duration": 28,
    "start_time": "2024-05-19T12:40:17.794Z"
   },
   {
    "duration": 29,
    "start_time": "2024-05-19T12:40:17.828Z"
   },
   {
    "duration": 39,
    "start_time": "2024-05-19T12:40:17.860Z"
   },
   {
    "duration": 31,
    "start_time": "2024-05-19T12:40:17.905Z"
   },
   {
    "duration": 31,
    "start_time": "2024-05-19T12:40:17.939Z"
   },
   {
    "duration": 39,
    "start_time": "2024-05-19T12:40:17.972Z"
   },
   {
    "duration": 29,
    "start_time": "2024-05-19T12:40:18.017Z"
   },
   {
    "duration": 35,
    "start_time": "2024-05-19T12:40:18.049Z"
   },
   {
    "duration": 342,
    "start_time": "2024-05-19T12:40:18.090Z"
   },
   {
    "duration": 91,
    "start_time": "2024-05-19T12:40:18.438Z"
   },
   {
    "duration": 160,
    "start_time": "2024-05-19T12:40:18.534Z"
   },
   {
    "duration": 18,
    "start_time": "2024-05-19T12:40:18.698Z"
   },
   {
    "duration": 19,
    "start_time": "2024-05-19T12:40:18.722Z"
   },
   {
    "duration": 15,
    "start_time": "2024-05-19T12:40:18.746Z"
   },
   {
    "duration": 79,
    "start_time": "2024-05-19T12:40:18.764Z"
   },
   {
    "duration": 192,
    "start_time": "2024-05-19T12:40:18.851Z"
   },
   {
    "duration": 14,
    "start_time": "2024-05-19T12:40:19.047Z"
   },
   {
    "duration": 15,
    "start_time": "2024-05-19T12:40:19.064Z"
   },
   {
    "duration": 29,
    "start_time": "2024-05-19T12:40:19.083Z"
   },
   {
    "duration": 179,
    "start_time": "2024-05-19T12:40:19.116Z"
   },
   {
    "duration": 13,
    "start_time": "2024-05-19T12:40:19.299Z"
   },
   {
    "duration": 17,
    "start_time": "2024-05-19T12:40:19.318Z"
   },
   {
    "duration": 16,
    "start_time": "2024-05-19T12:40:19.339Z"
   },
   {
    "duration": 646,
    "start_time": "2024-05-19T12:40:19.358Z"
   },
   {
    "duration": 214,
    "start_time": "2024-05-19T12:45:21.516Z"
   },
   {
    "duration": 208,
    "start_time": "2024-05-19T12:46:01.006Z"
   },
   {
    "duration": 197,
    "start_time": "2024-05-19T12:46:15.898Z"
   },
   {
    "duration": 188,
    "start_time": "2024-05-19T12:46:33.199Z"
   },
   {
    "duration": 221,
    "start_time": "2024-05-19T12:47:12.743Z"
   },
   {
    "duration": 23,
    "start_time": "2024-05-19T12:54:51.719Z"
   },
   {
    "duration": 10,
    "start_time": "2024-05-19T12:59:17.219Z"
   },
   {
    "duration": 16,
    "start_time": "2024-05-19T12:59:23.569Z"
   },
   {
    "duration": 6,
    "start_time": "2024-05-19T12:59:42.492Z"
   },
   {
    "duration": 4,
    "start_time": "2024-05-19T13:14:30.094Z"
   },
   {
    "duration": 67,
    "start_time": "2024-05-19T13:15:10.198Z"
   },
   {
    "duration": 67,
    "start_time": "2024-05-19T13:15:22.093Z"
   },
   {
    "duration": 66,
    "start_time": "2024-05-19T13:16:52.457Z"
   },
   {
    "duration": 121,
    "start_time": "2024-05-19T13:17:36.526Z"
   },
   {
    "duration": 197,
    "start_time": "2024-05-19T13:18:51.389Z"
   },
   {
    "duration": 346,
    "start_time": "2024-05-19T13:20:18.751Z"
   },
   {
    "duration": 125,
    "start_time": "2024-05-19T13:44:50.549Z"
   },
   {
    "duration": 291,
    "start_time": "2024-05-19T13:44:51.883Z"
   },
   {
    "duration": 6,
    "start_time": "2024-05-19T13:49:06.851Z"
   },
   {
    "duration": 17,
    "start_time": "2024-05-19T13:49:30.563Z"
   },
   {
    "duration": 13,
    "start_time": "2024-05-19T13:50:13.208Z"
   },
   {
    "duration": 181,
    "start_time": "2024-05-19T14:15:39.028Z"
   },
   {
    "duration": 222,
    "start_time": "2024-05-19T14:15:59.669Z"
   },
   {
    "duration": 198,
    "start_time": "2024-05-19T14:16:20.683Z"
   },
   {
    "duration": 156,
    "start_time": "2024-05-19T14:16:46.393Z"
   },
   {
    "duration": 158,
    "start_time": "2024-05-19T14:17:03.802Z"
   },
   {
    "duration": 170,
    "start_time": "2024-05-19T14:17:21.242Z"
   },
   {
    "duration": 236,
    "start_time": "2024-05-19T14:18:06.029Z"
   },
   {
    "duration": 185,
    "start_time": "2024-05-19T14:18:19.918Z"
   },
   {
    "duration": 244,
    "start_time": "2024-05-19T14:18:25.078Z"
   },
   {
    "duration": 171,
    "start_time": "2024-05-19T14:18:36.808Z"
   },
   {
    "duration": 187,
    "start_time": "2024-05-19T14:18:46.767Z"
   },
   {
    "duration": 172,
    "start_time": "2024-05-19T14:18:50.542Z"
   },
   {
    "duration": 175,
    "start_time": "2024-05-19T14:18:59.151Z"
   },
   {
    "duration": 166,
    "start_time": "2024-05-19T14:19:02.724Z"
   },
   {
    "duration": 189,
    "start_time": "2024-05-19T14:19:07.869Z"
   },
   {
    "duration": 170,
    "start_time": "2024-05-19T14:19:12.633Z"
   },
   {
    "duration": 183,
    "start_time": "2024-05-19T14:19:21.112Z"
   },
   {
    "duration": 195,
    "start_time": "2024-05-19T14:19:24.868Z"
   },
   {
    "duration": 184,
    "start_time": "2024-05-19T14:19:32.005Z"
   },
   {
    "duration": 167,
    "start_time": "2024-05-19T14:19:35.389Z"
   },
   {
    "duration": 191,
    "start_time": "2024-05-19T14:19:48.278Z"
   },
   {
    "duration": 182,
    "start_time": "2024-05-19T14:19:50.184Z"
   },
   {
    "duration": 162,
    "start_time": "2024-05-19T14:19:55.418Z"
   },
   {
    "duration": 165,
    "start_time": "2024-05-19T14:19:58.429Z"
   },
   {
    "duration": 174,
    "start_time": "2024-05-19T14:20:06.448Z"
   },
   {
    "duration": 212,
    "start_time": "2024-05-19T14:20:07.886Z"
   },
   {
    "duration": 188,
    "start_time": "2024-05-19T14:20:16.566Z"
   },
   {
    "duration": 172,
    "start_time": "2024-05-19T14:20:22.223Z"
   },
   {
    "duration": 169,
    "start_time": "2024-05-19T14:21:07.295Z"
   },
   {
    "duration": 209,
    "start_time": "2024-05-19T14:21:25.858Z"
   },
   {
    "duration": 74,
    "start_time": "2024-05-19T14:22:16.401Z"
   },
   {
    "duration": 184,
    "start_time": "2024-05-19T14:22:38.239Z"
   },
   {
    "duration": 167,
    "start_time": "2024-05-19T14:22:50.342Z"
   },
   {
    "duration": 155,
    "start_time": "2024-05-19T14:23:02.262Z"
   },
   {
    "duration": 145,
    "start_time": "2024-05-19T14:23:10.015Z"
   },
   {
    "duration": 154,
    "start_time": "2024-05-19T14:23:19.783Z"
   },
   {
    "duration": 193,
    "start_time": "2024-05-19T14:23:36.251Z"
   },
   {
    "duration": 168,
    "start_time": "2024-05-19T14:23:40.761Z"
   },
   {
    "duration": 179,
    "start_time": "2024-05-19T14:23:50.217Z"
   },
   {
    "duration": 157,
    "start_time": "2024-05-19T14:23:58.304Z"
   },
   {
    "duration": 145,
    "start_time": "2024-05-19T14:24:03.326Z"
   },
   {
    "duration": 151,
    "start_time": "2024-05-19T14:24:07.543Z"
   },
   {
    "duration": 6,
    "start_time": "2024-05-19T14:27:52.801Z"
   },
   {
    "duration": 7,
    "start_time": "2024-05-19T14:28:00.813Z"
   },
   {
    "duration": 146,
    "start_time": "2024-05-19T14:30:58.458Z"
   },
   {
    "duration": 145,
    "start_time": "2024-05-19T14:31:25.287Z"
   },
   {
    "duration": 143,
    "start_time": "2024-05-19T14:33:00.258Z"
   },
   {
    "duration": 6,
    "start_time": "2024-05-19T14:33:02.963Z"
   },
   {
    "duration": 85,
    "start_time": "2024-05-19T14:34:57.293Z"
   },
   {
    "duration": 83,
    "start_time": "2024-05-19T14:35:08.770Z"
   },
   {
    "duration": 147,
    "start_time": "2024-05-19T14:35:18.930Z"
   },
   {
    "duration": 149,
    "start_time": "2024-05-19T14:35:36.176Z"
   },
   {
    "duration": 279,
    "start_time": "2024-05-19T14:36:12.215Z"
   },
   {
    "duration": 306,
    "start_time": "2024-05-19T14:37:26.782Z"
   },
   {
    "duration": 735,
    "start_time": "2024-05-19T14:38:40.696Z"
   },
   {
    "duration": 831,
    "start_time": "2024-05-19T14:39:29.776Z"
   },
   {
    "duration": 777,
    "start_time": "2024-05-19T14:39:37.761Z"
   },
   {
    "duration": 7,
    "start_time": "2024-05-19T15:15:55.319Z"
   },
   {
    "duration": 11,
    "start_time": "2024-05-19T15:16:06.771Z"
   },
   {
    "duration": 4,
    "start_time": "2024-05-19T15:31:06.332Z"
   },
   {
    "duration": 3,
    "start_time": "2024-05-19T15:31:25.493Z"
   },
   {
    "duration": 8,
    "start_time": "2024-05-19T15:33:25.033Z"
   },
   {
    "duration": 44,
    "start_time": "2024-05-19T15:34:03.598Z"
   },
   {
    "duration": 18,
    "start_time": "2024-05-19T15:34:42.311Z"
   },
   {
    "duration": 8,
    "start_time": "2024-05-19T15:34:46.633Z"
   },
   {
    "duration": 210,
    "start_time": "2024-05-19T15:34:47.244Z"
   },
   {
    "duration": 49,
    "start_time": "2024-05-19T15:37:47.859Z"
   },
   {
    "duration": 3,
    "start_time": "2024-05-19T15:40:49.795Z"
   },
   {
    "duration": 6,
    "start_time": "2024-05-19T15:40:50.066Z"
   },
   {
    "duration": 8,
    "start_time": "2024-05-19T15:40:51.268Z"
   },
   {
    "duration": 41,
    "start_time": "2024-05-19T15:40:52.730Z"
   },
   {
    "duration": 5,
    "start_time": "2024-05-19T15:42:37.105Z"
   },
   {
    "duration": 4,
    "start_time": "2024-05-19T15:42:37.274Z"
   },
   {
    "duration": 7,
    "start_time": "2024-05-19T15:42:38.082Z"
   },
   {
    "duration": 40,
    "start_time": "2024-05-19T15:42:38.817Z"
   },
   {
    "duration": 4,
    "start_time": "2024-05-19T15:43:31.154Z"
   },
   {
    "duration": 151,
    "start_time": "2024-05-19T15:43:35.014Z"
   },
   {
    "duration": 6,
    "start_time": "2024-05-19T15:43:38.519Z"
   },
   {
    "duration": 154,
    "start_time": "2024-05-19T15:43:53.302Z"
   },
   {
    "duration": 6,
    "start_time": "2024-05-19T15:43:56.858Z"
   },
   {
    "duration": 137,
    "start_time": "2024-05-19T15:44:00.131Z"
   },
   {
    "duration": 6,
    "start_time": "2024-05-19T15:44:02.145Z"
   },
   {
    "duration": 5,
    "start_time": "2024-05-19T15:44:03.630Z"
   },
   {
    "duration": 6,
    "start_time": "2024-05-19T15:44:04.269Z"
   },
   {
    "duration": 742,
    "start_time": "2024-05-19T15:44:08.244Z"
   },
   {
    "duration": 3,
    "start_time": "2024-05-19T15:44:12.134Z"
   },
   {
    "duration": 4,
    "start_time": "2024-05-19T15:44:12.783Z"
   },
   {
    "duration": 10,
    "start_time": "2024-05-19T15:44:13.901Z"
   },
   {
    "duration": 166,
    "start_time": "2024-05-19T15:44:14.158Z"
   },
   {
    "duration": 7,
    "start_time": "2024-05-19T15:45:25.749Z"
   },
   {
    "duration": 43,
    "start_time": "2024-05-19T15:45:35.288Z"
   },
   {
    "duration": 4988,
    "start_time": "2024-05-20T15:25:20.071Z"
   },
   {
    "duration": 11,
    "start_time": "2024-05-20T15:25:25.063Z"
   },
   {
    "duration": 56,
    "start_time": "2024-05-20T15:25:25.077Z"
   },
   {
    "duration": 157,
    "start_time": "2024-05-20T15:25:25.135Z"
   },
   {
    "duration": 29,
    "start_time": "2024-05-20T15:25:25.298Z"
   },
   {
    "duration": 32,
    "start_time": "2024-05-20T15:25:25.330Z"
   },
   {
    "duration": 45,
    "start_time": "2024-05-20T15:25:25.365Z"
   },
   {
    "duration": 31,
    "start_time": "2024-05-20T15:25:25.416Z"
   },
   {
    "duration": 30,
    "start_time": "2024-05-20T15:25:25.450Z"
   },
   {
    "duration": 40,
    "start_time": "2024-05-20T15:25:25.483Z"
   },
   {
    "duration": 26,
    "start_time": "2024-05-20T15:25:25.526Z"
   },
   {
    "duration": 32,
    "start_time": "2024-05-20T15:25:25.556Z"
   },
   {
    "duration": 39,
    "start_time": "2024-05-20T15:25:25.591Z"
   },
   {
    "duration": 30,
    "start_time": "2024-05-20T15:25:25.636Z"
   },
   {
    "duration": 32,
    "start_time": "2024-05-20T15:25:25.670Z"
   },
   {
    "duration": 39,
    "start_time": "2024-05-20T15:25:25.705Z"
   },
   {
    "duration": 33,
    "start_time": "2024-05-20T15:25:25.747Z"
   },
   {
    "duration": 31,
    "start_time": "2024-05-20T15:25:25.784Z"
   },
   {
    "duration": 305,
    "start_time": "2024-05-20T15:25:25.819Z"
   },
   {
    "duration": 89,
    "start_time": "2024-05-20T15:25:26.127Z"
   },
   {
    "duration": 159,
    "start_time": "2024-05-20T15:25:26.219Z"
   },
   {
    "duration": 16,
    "start_time": "2024-05-20T15:25:26.382Z"
   },
   {
    "duration": 23,
    "start_time": "2024-05-20T15:25:26.401Z"
   },
   {
    "duration": 16,
    "start_time": "2024-05-20T15:25:26.426Z"
   },
   {
    "duration": 42,
    "start_time": "2024-05-20T15:25:26.445Z"
   },
   {
    "duration": 176,
    "start_time": "2024-05-20T15:25:26.492Z"
   },
   {
    "duration": 13,
    "start_time": "2024-05-20T15:25:26.671Z"
   },
   {
    "duration": 22,
    "start_time": "2024-05-20T15:25:26.688Z"
   },
   {
    "duration": 13,
    "start_time": "2024-05-20T15:25:26.714Z"
   },
   {
    "duration": 189,
    "start_time": "2024-05-20T15:25:26.731Z"
   },
   {
    "duration": 16,
    "start_time": "2024-05-20T15:25:26.923Z"
   },
   {
    "duration": 21,
    "start_time": "2024-05-20T15:25:26.943Z"
   },
   {
    "duration": 200,
    "start_time": "2024-05-20T15:25:26.967Z"
   },
   {
    "duration": 19,
    "start_time": "2024-05-20T15:25:27.170Z"
   },
   {
    "duration": 131,
    "start_time": "2024-05-20T15:25:27.191Z"
   },
   {
    "duration": 300,
    "start_time": "2024-05-20T15:25:27.325Z"
   },
   {
    "duration": 16,
    "start_time": "2024-05-20T15:25:27.628Z"
   },
   {
    "duration": 11,
    "start_time": "2024-05-20T15:25:27.646Z"
   },
   {
    "duration": 151,
    "start_time": "2024-05-20T15:25:27.661Z"
   },
   {
    "duration": 7,
    "start_time": "2024-05-20T15:25:27.814Z"
   },
   {
    "duration": 137,
    "start_time": "2024-05-20T15:25:27.830Z"
   },
   {
    "duration": 6,
    "start_time": "2024-05-20T15:25:27.970Z"
   },
   {
    "duration": 6,
    "start_time": "2024-05-20T15:25:27.979Z"
   },
   {
    "duration": 26,
    "start_time": "2024-05-20T15:25:27.988Z"
   },
   {
    "duration": 788,
    "start_time": "2024-05-20T15:25:28.018Z"
   },
   {
    "duration": 1288,
    "start_time": "2024-05-20T15:26:32.649Z"
   },
   {
    "duration": 4,
    "start_time": "2024-05-20T15:26:33.941Z"
   },
   {
    "duration": 45,
    "start_time": "2024-05-20T15:26:33.948Z"
   },
   {
    "duration": 143,
    "start_time": "2024-05-20T15:26:33.997Z"
   },
   {
    "duration": 28,
    "start_time": "2024-05-20T15:26:34.145Z"
   },
   {
    "duration": 30,
    "start_time": "2024-05-20T15:26:34.176Z"
   },
   {
    "duration": 35,
    "start_time": "2024-05-20T15:26:34.209Z"
   },
   {
    "duration": 26,
    "start_time": "2024-05-20T15:26:34.247Z"
   },
   {
    "duration": 29,
    "start_time": "2024-05-20T15:26:34.276Z"
   },
   {
    "duration": 97,
    "start_time": "2024-05-20T15:26:34.308Z"
   },
   {
    "duration": 29,
    "start_time": "2024-05-20T15:26:34.408Z"
   },
   {
    "duration": 33,
    "start_time": "2024-05-20T15:26:34.441Z"
   },
   {
    "duration": 36,
    "start_time": "2024-05-20T15:26:34.477Z"
   },
   {
    "duration": 28,
    "start_time": "2024-05-20T15:26:34.520Z"
   },
   {
    "duration": 36,
    "start_time": "2024-05-20T15:26:34.550Z"
   },
   {
    "duration": 45,
    "start_time": "2024-05-20T15:26:34.589Z"
   },
   {
    "duration": 26,
    "start_time": "2024-05-20T15:26:34.639Z"
   },
   {
    "duration": 29,
    "start_time": "2024-05-20T15:26:34.668Z"
   },
   {
    "duration": 253,
    "start_time": "2024-05-20T15:26:34.700Z"
   },
   {
    "duration": 94,
    "start_time": "2024-05-20T15:26:34.957Z"
   },
   {
    "duration": 157,
    "start_time": "2024-05-20T15:26:35.054Z"
   },
   {
    "duration": 16,
    "start_time": "2024-05-20T15:26:35.214Z"
   },
   {
    "duration": 19,
    "start_time": "2024-05-20T15:26:35.234Z"
   },
   {
    "duration": 51,
    "start_time": "2024-05-20T15:26:35.257Z"
   },
   {
    "duration": 44,
    "start_time": "2024-05-20T15:26:35.312Z"
   },
   {
    "duration": 180,
    "start_time": "2024-05-20T15:26:35.359Z"
   },
   {
    "duration": 14,
    "start_time": "2024-05-20T15:26:35.542Z"
   },
   {
    "duration": 14,
    "start_time": "2024-05-20T15:26:35.559Z"
   },
   {
    "duration": 44,
    "start_time": "2024-05-20T15:26:35.577Z"
   },
   {
    "duration": 164,
    "start_time": "2024-05-20T15:26:35.624Z"
   },
   {
    "duration": 22,
    "start_time": "2024-05-20T15:26:35.792Z"
   },
   {
    "duration": 18,
    "start_time": "2024-05-20T15:26:35.818Z"
   },
   {
    "duration": 204,
    "start_time": "2024-05-20T15:26:35.839Z"
   },
   {
    "duration": 21,
    "start_time": "2024-05-20T15:26:36.049Z"
   },
   {
    "duration": 114,
    "start_time": "2024-05-20T15:26:36.076Z"
   },
   {
    "duration": 267,
    "start_time": "2024-05-20T15:26:36.193Z"
   },
   {
    "duration": 17,
    "start_time": "2024-05-20T15:26:36.464Z"
   },
   {
    "duration": 31,
    "start_time": "2024-05-20T15:26:36.484Z"
   },
   {
    "duration": 142,
    "start_time": "2024-05-20T15:26:36.519Z"
   },
   {
    "duration": 6,
    "start_time": "2024-05-20T15:26:36.664Z"
   },
   {
    "duration": 138,
    "start_time": "2024-05-20T15:26:36.679Z"
   },
   {
    "duration": 7,
    "start_time": "2024-05-20T15:26:36.820Z"
   },
   {
    "duration": 6,
    "start_time": "2024-05-20T15:26:36.830Z"
   },
   {
    "duration": 6,
    "start_time": "2024-05-20T15:26:36.840Z"
   },
   {
    "duration": 829,
    "start_time": "2024-05-20T15:26:36.849Z"
   },
   {
    "duration": 5,
    "start_time": "2024-05-20T15:26:44.750Z"
   },
   {
    "duration": 4,
    "start_time": "2024-05-20T15:27:07.074Z"
   },
   {
    "duration": 7,
    "start_time": "2024-05-20T15:29:30.218Z"
   },
   {
    "duration": 5,
    "start_time": "2024-05-20T15:29:32.597Z"
   },
   {
    "duration": 161,
    "start_time": "2024-05-20T15:30:02.827Z"
   },
   {
    "duration": 6,
    "start_time": "2024-05-20T15:30:05.084Z"
   },
   {
    "duration": 138,
    "start_time": "2024-05-20T15:30:06.703Z"
   },
   {
    "duration": 7,
    "start_time": "2024-05-20T15:30:08.476Z"
   },
   {
    "duration": 6,
    "start_time": "2024-05-20T15:30:09.903Z"
   },
   {
    "duration": 5,
    "start_time": "2024-05-20T15:30:10.492Z"
   },
   {
    "duration": 831,
    "start_time": "2024-05-20T15:30:12.758Z"
   },
   {
    "duration": 4,
    "start_time": "2024-05-20T15:30:16.965Z"
   },
   {
    "duration": 4,
    "start_time": "2024-05-20T15:30:17.871Z"
   },
   {
    "duration": 11,
    "start_time": "2024-05-20T15:30:19.169Z"
   },
   {
    "duration": 5,
    "start_time": "2024-05-20T15:30:20.670Z"
   },
   {
    "duration": 7,
    "start_time": "2024-05-20T15:33:50.350Z"
   },
   {
    "duration": 4,
    "start_time": "2024-05-20T15:34:32.008Z"
   },
   {
    "duration": 4,
    "start_time": "2024-05-20T15:34:32.470Z"
   },
   {
    "duration": 11,
    "start_time": "2024-05-20T15:36:06.610Z"
   },
   {
    "duration": 4,
    "start_time": "2024-05-20T15:37:01.829Z"
   },
   {
    "duration": 4,
    "start_time": "2024-05-20T15:37:02.152Z"
   },
   {
    "duration": 10,
    "start_time": "2024-05-20T15:37:03.006Z"
   },
   {
    "duration": 12,
    "start_time": "2024-05-20T15:37:07.477Z"
   },
   {
    "duration": 6,
    "start_time": "2024-05-20T15:47:35.050Z"
   },
   {
    "duration": 6,
    "start_time": "2024-05-20T15:47:35.464Z"
   },
   {
    "duration": 219,
    "start_time": "2024-05-20T15:48:26.943Z"
   },
   {
    "duration": 6,
    "start_time": "2024-05-20T15:48:36.482Z"
   },
   {
    "duration": 165,
    "start_time": "2024-05-20T15:48:53.079Z"
   },
   {
    "duration": 6,
    "start_time": "2024-05-20T15:49:00.431Z"
   },
   {
    "duration": 6,
    "start_time": "2024-05-20T15:49:01.143Z"
   },
   {
    "duration": 156,
    "start_time": "2024-05-20T15:49:18.324Z"
   },
   {
    "duration": 6,
    "start_time": "2024-05-20T15:49:18.837Z"
   },
   {
    "duration": 138,
    "start_time": "2024-05-20T15:49:20.158Z"
   },
   {
    "duration": 6,
    "start_time": "2024-05-20T15:49:21.478Z"
   },
   {
    "duration": 9,
    "start_time": "2024-05-20T15:49:25.836Z"
   },
   {
    "duration": 6,
    "start_time": "2024-05-20T15:49:26.302Z"
   },
   {
    "duration": 745,
    "start_time": "2024-05-20T15:49:33.802Z"
   },
   {
    "duration": 3,
    "start_time": "2024-05-20T15:50:14.844Z"
   },
   {
    "duration": 15,
    "start_time": "2024-05-20T16:36:36.756Z"
   },
   {
    "duration": 299,
    "start_time": "2024-05-20T16:36:37.611Z"
   },
   {
    "duration": 4860,
    "start_time": "2024-05-20T16:36:46.324Z"
   },
   {
    "duration": 5,
    "start_time": "2024-05-20T16:36:51.188Z"
   },
   {
    "duration": 47,
    "start_time": "2024-05-20T16:36:51.209Z"
   },
   {
    "duration": 150,
    "start_time": "2024-05-20T16:36:51.260Z"
   },
   {
    "duration": 29,
    "start_time": "2024-05-20T16:36:51.415Z"
   },
   {
    "duration": 31,
    "start_time": "2024-05-20T16:36:51.449Z"
   },
   {
    "duration": 40,
    "start_time": "2024-05-20T16:36:51.483Z"
   },
   {
    "duration": 28,
    "start_time": "2024-05-20T16:36:51.526Z"
   },
   {
    "duration": 32,
    "start_time": "2024-05-20T16:36:51.556Z"
   },
   {
    "duration": 36,
    "start_time": "2024-05-20T16:36:51.591Z"
   },
   {
    "duration": 26,
    "start_time": "2024-05-20T16:36:51.630Z"
   },
   {
    "duration": 31,
    "start_time": "2024-05-20T16:36:51.659Z"
   },
   {
    "duration": 38,
    "start_time": "2024-05-20T16:36:51.693Z"
   },
   {
    "duration": 28,
    "start_time": "2024-05-20T16:36:51.739Z"
   },
   {
    "duration": 31,
    "start_time": "2024-05-20T16:36:51.770Z"
   },
   {
    "duration": 37,
    "start_time": "2024-05-20T16:36:51.803Z"
   },
   {
    "duration": 26,
    "start_time": "2024-05-20T16:36:51.843Z"
   },
   {
    "duration": 31,
    "start_time": "2024-05-20T16:36:51.872Z"
   },
   {
    "duration": 304,
    "start_time": "2024-05-20T16:36:51.906Z"
   },
   {
    "duration": 88,
    "start_time": "2024-05-20T16:36:52.214Z"
   },
   {
    "duration": 165,
    "start_time": "2024-05-20T16:36:52.305Z"
   },
   {
    "duration": 17,
    "start_time": "2024-05-20T16:36:52.472Z"
   },
   {
    "duration": 26,
    "start_time": "2024-05-20T16:36:52.492Z"
   },
   {
    "duration": 14,
    "start_time": "2024-05-20T16:36:52.522Z"
   },
   {
    "duration": 41,
    "start_time": "2024-05-20T16:36:52.539Z"
   },
   {
    "duration": 163,
    "start_time": "2024-05-20T16:36:52.582Z"
   },
   {
    "duration": 14,
    "start_time": "2024-05-20T16:36:52.748Z"
   },
   {
    "duration": 12,
    "start_time": "2024-05-20T16:36:52.765Z"
   },
   {
    "duration": 33,
    "start_time": "2024-05-20T16:36:52.781Z"
   },
   {
    "duration": 160,
    "start_time": "2024-05-20T16:36:52.819Z"
   },
   {
    "duration": 13,
    "start_time": "2024-05-20T16:36:52.982Z"
   },
   {
    "duration": 26,
    "start_time": "2024-05-20T16:36:52.998Z"
   },
   {
    "duration": 195,
    "start_time": "2024-05-20T16:36:53.027Z"
   },
   {
    "duration": 19,
    "start_time": "2024-05-20T16:36:53.225Z"
   },
   {
    "duration": 102,
    "start_time": "2024-05-20T16:36:53.248Z"
   },
   {
    "duration": 285,
    "start_time": "2024-05-20T16:36:53.353Z"
   },
   {
    "duration": 15,
    "start_time": "2024-05-20T16:36:53.641Z"
   },
   {
    "duration": 12,
    "start_time": "2024-05-20T16:36:53.659Z"
   },
   {
    "duration": 174,
    "start_time": "2024-05-20T16:36:53.673Z"
   },
   {
    "duration": 6,
    "start_time": "2024-05-20T16:36:53.850Z"
   },
   {
    "duration": 138,
    "start_time": "2024-05-20T16:36:53.865Z"
   },
   {
    "duration": 6,
    "start_time": "2024-05-20T16:36:54.006Z"
   },
   {
    "duration": 7,
    "start_time": "2024-05-20T16:36:54.016Z"
   },
   {
    "duration": 6,
    "start_time": "2024-05-20T16:36:54.026Z"
   },
   {
    "duration": 829,
    "start_time": "2024-05-20T16:36:54.036Z"
   },
   {
    "duration": 3,
    "start_time": "2024-05-20T16:36:54.868Z"
   },
   {
    "duration": 4,
    "start_time": "2024-05-20T16:36:54.875Z"
   },
   {
    "duration": 35,
    "start_time": "2024-05-20T16:36:54.881Z"
   },
   {
    "duration": 9,
    "start_time": "2024-05-20T16:36:54.920Z"
   }
  ],
  "kernelspec": {
   "display_name": "Python 3 (ipykernel)",
   "language": "python",
   "name": "python3"
  },
  "language_info": {
   "codemirror_mode": {
    "name": "ipython",
    "version": 3
   },
   "file_extension": ".py",
   "mimetype": "text/x-python",
   "name": "python",
   "nbconvert_exporter": "python",
   "pygments_lexer": "ipython3",
   "version": "3.9.19"
  },
  "toc": {
   "base_numbering": 1,
   "nav_menu": {},
   "number_sections": true,
   "sideBar": true,
   "skip_h1_title": true,
   "title_cell": "Table of Contents",
   "title_sidebar": "Contents",
   "toc_cell": false,
   "toc_position": {},
   "toc_section_display": true,
   "toc_window_display": false
  }
 },
 "nbformat": 4,
 "nbformat_minor": 5
}
